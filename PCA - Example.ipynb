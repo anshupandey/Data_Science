{
 "cells": [
  {
   "cell_type": "code",
   "execution_count": 1,
   "metadata": {},
   "outputs": [],
   "source": [
    "import numpy as np\n",
    "import matplotlib.pyplot as plt"
   ]
  },
  {
   "cell_type": "code",
   "execution_count": 8,
   "metadata": {},
   "outputs": [
    {
     "data": {
      "image/png": "[encoded data removed]",
      "text/plain": [
       "<Figure size 432x288 with 1 Axes>"
      ]
     },
     "metadata": {
      "needs_background": "light"
     },
     "output_type": "display_data"
    }
   ],
   "source": [
    "x1 = np.random.randint(5,15,20)\n",
    "x2 = 0.8*x1 + 0.4*np.random.randint(1,8,20)\n",
    "\n",
    "plt.scatter(x1,x2)\n",
    "plt.show()"
   ]
  },
  {
   "cell_type": "code",
   "execution_count": 13,
   "metadata": {},
   "outputs": [
    {
     "name": "stdout",
     "output_type": "stream",
     "text": [
      "(2, 20)\n",
      "(20, 2)\n"
     ]
    }
   ],
   "source": [
    "data = np.concatenate([[x1],[x2]])\n",
    "print(data.shape)\n",
    "data = data.T  # taking transpose\n",
    "print(data.shape)"
   ]
  },
  {
   "cell_type": "markdown",
   "metadata": {},
   "source": [
    "# PCA"
   ]
  },
  {
   "cell_type": "code",
   "execution_count": 14,
   "metadata": {},
   "outputs": [],
   "source": [
    "from sklearn.decomposition import pca\n",
    "pc = pca.PCA(n_components=1)"
   ]
  },
  {
   "cell_type": "code",
   "execution_count": 15,
   "metadata": {},
   "outputs": [
    {
     "data": {
      "text/plain": [
       "PCA(copy=True, iterated_power='auto', n_components=1, random_state=None,\n",
       "    svd_solver='auto', tol=0.0, whiten=False)"
      ]
     },
     "execution_count": 15,
     "metadata": {},
     "output_type": "execute_result"
    }
   ],
   "source": [
    "pc.fit(data)"
   ]
  },
  {
   "cell_type": "code",
   "execution_count": 16,
   "metadata": {},
   "outputs": [
    {
     "data": {
      "text/plain": [
       "(20, 1)"
      ]
     },
     "execution_count": 16,
     "metadata": {},
     "output_type": "execute_result"
    }
   ],
   "source": [
    "data2 = pc.transform(data)\n",
    "data2.shape"
   ]
  },
  {
   "cell_type": "code",
   "execution_count": 17,
   "metadata": {},
   "outputs": [
    {
     "data": {
      "text/plain": [
       "array([0.97214701])"
      ]
     },
     "execution_count": 17,
     "metadata": {},
     "output_type": "execute_result"
    }
   ],
   "source": [
    "#check the retained information\n",
    "pc.explained_variance_ratio_"
   ]
  },
  {
   "cell_type": "code",
   "execution_count": 19,
   "metadata": {},
   "outputs": [
    {
     "data": {
      "text/plain": [
       "array([[-5.23163578],\n",
       "       [ 7.07207432],\n",
       "       [-0.86767432],\n",
       "       [-4.96891102],\n",
       "       [ 3.46216731],\n",
       "       [ 5.26712081],\n",
       "       [ 2.18266333],\n",
       "       [ 3.49628715],\n",
       "       [-1.62172877],\n",
       "       [ 1.9540584 ],\n",
       "       [-1.359004  ],\n",
       "       [ 1.9540584 ],\n",
       "       [-1.39312384],\n",
       "       [ 1.42860888],\n",
       "       [-3.9521318 ],\n",
       "       [-1.13039908],\n",
       "       [ 1.69133364],\n",
       "       [-3.68940704],\n",
       "       [-0.07950002],\n",
       "       [-4.21485657]])"
      ]
     },
     "execution_count": 19,
     "metadata": {},
     "output_type": "execute_result"
    }
   ],
   "source": [
    "data2"
   ]
  },
  {
   "cell_type": "code",
   "execution_count": 20,
   "metadata": {},
   "outputs": [
    {
     "data": {
      "text/plain": [
       "(20, 2)"
      ]
     },
     "execution_count": 20,
     "metadata": {},
     "output_type": "execute_result"
    }
   ],
   "source": [
    "data3 = pc.inverse_transform(data2)\n",
    "data3.shape"
   ]
  },
  {
   "cell_type": "code",
   "execution_count": 21,
   "metadata": {},
   "outputs": [
    {
     "data": {
      "text/plain": [
       "array([[ 4.80506175,  5.02379931],\n",
       "       [14.08272912, 13.10502264],\n",
       "       [ 8.09572632,  7.89010117],\n",
       "       [ 5.00317053,  5.19636006],\n",
       "       [11.36066267, 10.73399272],\n",
       "       [12.72169589, 11.91950768],\n",
       "       [10.395847  ,  9.89359927],\n",
       "       [11.38639089, 10.75640304],\n",
       "       [ 7.5271282 ,  7.39482923],\n",
       "       [10.22346644,  9.74344883],\n",
       "       [ 7.72523698,  7.56738998],\n",
       "       [10.22346644,  9.74344883],\n",
       "       [ 7.69950876,  7.54497967],\n",
       "       [ 9.82724888,  9.39832733],\n",
       "       [ 5.76987742,  5.86419276],\n",
       "       [ 7.89761754,  7.71754042],\n",
       "       [10.02535766,  9.57088808],\n",
       "       [ 5.9679862 ,  6.03675352],\n",
       "       [ 8.69005265,  8.40778344],\n",
       "       [ 5.57176865,  5.69163201]])"
      ]
     },
     "execution_count": 21,
     "metadata": {},
     "output_type": "execute_result"
    }
   ],
   "source": [
    "data3"
   ]
  },
  {
   "cell_type": "code",
   "execution_count": 22,
   "metadata": {},
   "outputs": [
    {
     "data": {
      "text/plain": [
       "array([[ 5. ,  4.8],\n",
       "       [14. , 13.2],\n",
       "       [ 8. ,  8. ],\n",
       "       [ 5. ,  5.2],\n",
       "       [12. , 10. ],\n",
       "       [13. , 11.6],\n",
       "       [11. ,  9.2],\n",
       "       [11. , 11.2],\n",
       "       [ 7. ,  8. ],\n",
       "       [10. , 10. ],\n",
       "       [ 7. ,  8.4],\n",
       "       [10. , 10. ],\n",
       "       [ 8. ,  7.2],\n",
       "       [10. ,  9.2],\n",
       "       [ 6. ,  5.6],\n",
       "       [ 8. ,  7.6],\n",
       "       [10. ,  9.6],\n",
       "       [ 6. ,  6. ],\n",
       "       [ 8. ,  9.2],\n",
       "       [ 6. ,  5.2]])"
      ]
     },
     "execution_count": 22,
     "metadata": {},
     "output_type": "execute_result"
    }
   ],
   "source": [
    "data"
   ]
  },
  {
   "cell_type": "code",
   "execution_count": null,
   "metadata": {},
   "outputs": [],
   "source": []
  }
 ],
 "metadata": {
  "kernelspec": {
   "display_name": "Python 3",
   "language": "python",
   "name": "python3"
  },
  "language_info": {
   "codemirror_mode": {
    "name": "ipython",
    "version": 3
   },
   "file_extension": ".py",
   "mimetype": "text/x-python",
   "name": "python",
   "nbconvert_exporter": "python",
   "pygments_lexer": "ipython3",
   "version": "3.7.4"
  },
  "latex_envs": {
   "LaTeX_envs_menu_present": true,
   "autoclose": false,
   "autocomplete": true,
   "bibliofile": "biblio.bib",
   "cite_by": "apalike",
   "current_citInitial": 1,
   "eqLabelWithNumbers": true,
   "eqNumInitial": 1,
   "hotkeys": {
    "equation": "Ctrl-E",
    "itemize": "Ctrl-I"
   },
   "labels_anchors": false,
   "latex_user_defs": false,
   "report_style_numbering": false,
   "user_envs_cfg": false
  }
 },
 "nbformat": 4,
 "nbformat_minor": 2
}
