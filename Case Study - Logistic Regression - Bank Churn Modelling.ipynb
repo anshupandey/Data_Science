{
 "cells": [
  {
   "cell_type": "code",
   "execution_count": 1,
   "metadata": {},
   "outputs": [],
   "source": [
    "import pandas as pd\n",
    "import numpy as np\n",
    "import matplotlib.pyplot as plt\n",
    "import seaborn as sns"
   ]
  },
  {
   "cell_type": "code",
   "execution_count": 2,
   "metadata": {},
   "outputs": [
    {
     "data": {
      "text/plain": [
       "(10000, 14)"
      ]
     },
     "execution_count": 2,
     "metadata": {},
     "output_type": "execute_result"
    }
   ],
   "source": [
    "#loading data data\n",
    "df= pd.read_csv(r\"D:\\AI\\data\\Bank_churn_modelling.csv\")\n",
    "df.shape"
   ]
  },
  {
   "cell_type": "markdown",
   "metadata": {},
   "source": [
    "# Data Exploration"
   ]
  },
  {
   "cell_type": "code",
   "execution_count": 3,
   "metadata": {},
   "outputs": [
    {
     "data": {
      "text/html": [
       "<div>\n",
       "<style scoped>\n",
       "    .dataframe tbody tr th:only-of-type {\n",
       "        vertical-align: middle;\n",
       "    }\n",
       "\n",
       "    .dataframe tbody tr th {\n",
       "        vertical-align: top;\n",
       "    }\n",
       "\n",
       "    .dataframe thead th {\n",
       "        text-align: right;\n",
       "    }\n",
       "</style>\n",
       "<table border=\"1\" class=\"dataframe\">\n",
       "  <thead>\n",
       "    <tr style=\"text-align: right;\">\n",
       "      <th></th>\n",
       "      <th>RowNumber</th>\n",
       "      <th>CustomerId</th>\n",
       "      <th>Surname</th>\n",
       "      <th>CreditScore</th>\n",
       "      <th>Geography</th>\n",
       "      <th>Gender</th>\n",
       "      <th>Age</th>\n",
       "      <th>Tenure</th>\n",
       "      <th>Balance</th>\n",
       "      <th>NumOfProducts</th>\n",
       "      <th>HasCrCard</th>\n",
       "      <th>IsActiveMember</th>\n",
       "      <th>EstimatedSalary</th>\n",
       "      <th>Exited</th>\n",
       "    </tr>\n",
       "  </thead>\n",
       "  <tbody>\n",
       "    <tr>\n",
       "      <td>0</td>\n",
       "      <td>1</td>\n",
       "      <td>15634602</td>\n",
       "      <td>Hargrave</td>\n",
       "      <td>619</td>\n",
       "      <td>France</td>\n",
       "      <td>Female</td>\n",
       "      <td>42</td>\n",
       "      <td>2</td>\n",
       "      <td>0.00</td>\n",
       "      <td>1</td>\n",
       "      <td>1</td>\n",
       "      <td>1</td>\n",
       "      <td>101348.88</td>\n",
       "      <td>1</td>\n",
       "    </tr>\n",
       "    <tr>\n",
       "      <td>1</td>\n",
       "      <td>2</td>\n",
       "      <td>15647311</td>\n",
       "      <td>Hill</td>\n",
       "      <td>608</td>\n",
       "      <td>Spain</td>\n",
       "      <td>Female</td>\n",
       "      <td>41</td>\n",
       "      <td>1</td>\n",
       "      <td>83807.86</td>\n",
       "      <td>1</td>\n",
       "      <td>0</td>\n",
       "      <td>1</td>\n",
       "      <td>112542.58</td>\n",
       "      <td>0</td>\n",
       "    </tr>\n",
       "    <tr>\n",
       "      <td>2</td>\n",
       "      <td>3</td>\n",
       "      <td>15619304</td>\n",
       "      <td>Onio</td>\n",
       "      <td>502</td>\n",
       "      <td>France</td>\n",
       "      <td>Female</td>\n",
       "      <td>42</td>\n",
       "      <td>8</td>\n",
       "      <td>159660.80</td>\n",
       "      <td>3</td>\n",
       "      <td>1</td>\n",
       "      <td>0</td>\n",
       "      <td>113931.57</td>\n",
       "      <td>1</td>\n",
       "    </tr>\n",
       "    <tr>\n",
       "      <td>3</td>\n",
       "      <td>4</td>\n",
       "      <td>15701354</td>\n",
       "      <td>Boni</td>\n",
       "      <td>699</td>\n",
       "      <td>France</td>\n",
       "      <td>Female</td>\n",
       "      <td>39</td>\n",
       "      <td>1</td>\n",
       "      <td>0.00</td>\n",
       "      <td>2</td>\n",
       "      <td>0</td>\n",
       "      <td>0</td>\n",
       "      <td>93826.63</td>\n",
       "      <td>0</td>\n",
       "    </tr>\n",
       "    <tr>\n",
       "      <td>4</td>\n",
       "      <td>5</td>\n",
       "      <td>15737888</td>\n",
       "      <td>Mitchell</td>\n",
       "      <td>850</td>\n",
       "      <td>Spain</td>\n",
       "      <td>Female</td>\n",
       "      <td>43</td>\n",
       "      <td>2</td>\n",
       "      <td>125510.82</td>\n",
       "      <td>1</td>\n",
       "      <td>1</td>\n",
       "      <td>1</td>\n",
       "      <td>79084.10</td>\n",
       "      <td>0</td>\n",
       "    </tr>\n",
       "  </tbody>\n",
       "</table>\n",
       "</div>"
      ],
      "text/plain": [
       "   RowNumber  CustomerId   Surname  CreditScore Geography  Gender  Age  \\\n",
       "0          1    15634602  Hargrave          619    France  Female   42   \n",
       "1          2    15647311      Hill          608     Spain  Female   41   \n",
       "2          3    15619304      Onio          502    France  Female   42   \n",
       "3          4    15701354      Boni          699    France  Female   39   \n",
       "4          5    15737888  Mitchell          850     Spain  Female   43   \n",
       "\n",
       "   Tenure    Balance  NumOfProducts  HasCrCard  IsActiveMember  \\\n",
       "0       2       0.00              1          1               1   \n",
       "1       1   83807.86              1          0               1   \n",
       "2       8  159660.80              3          1               0   \n",
       "3       1       0.00              2          0               0   \n",
       "4       2  125510.82              1          1               1   \n",
       "\n",
       "   EstimatedSalary  Exited  \n",
       "0        101348.88       1  \n",
       "1        112542.58       0  \n",
       "2        113931.57       1  \n",
       "3         93826.63       0  \n",
       "4         79084.10       0  "
      ]
     },
     "execution_count": 3,
     "metadata": {},
     "output_type": "execute_result"
    }
   ],
   "source": [
    "df.head()"
   ]
  },
  {
   "cell_type": "code",
   "execution_count": 4,
   "metadata": {},
   "outputs": [],
   "source": [
    "# unwanted columns - Rownumber, customerid, surname"
   ]
  },
  {
   "cell_type": "code",
   "execution_count": 5,
   "metadata": {},
   "outputs": [
    {
     "name": "stdout",
     "output_type": "stream",
     "text": [
      "<class 'pandas.core.frame.DataFrame'>\n",
      "RangeIndex: 10000 entries, 0 to 9999\n",
      "Data columns (total 14 columns):\n",
      "RowNumber          10000 non-null int64\n",
      "CustomerId         10000 non-null int64\n",
      "Surname            10000 non-null object\n",
      "CreditScore        10000 non-null int64\n",
      "Geography          10000 non-null object\n",
      "Gender             10000 non-null object\n",
      "Age                10000 non-null int64\n",
      "Tenure             10000 non-null int64\n",
      "Balance            10000 non-null float64\n",
      "NumOfProducts      10000 non-null int64\n",
      "HasCrCard          10000 non-null int64\n",
      "IsActiveMember     10000 non-null int64\n",
      "EstimatedSalary    10000 non-null float64\n",
      "Exited             10000 non-null int64\n",
      "dtypes: float64(2), int64(9), object(3)\n",
      "memory usage: 1.1+ MB\n"
     ]
    }
   ],
   "source": [
    "df.info()"
   ]
  },
  {
   "cell_type": "code",
   "execution_count": 6,
   "metadata": {},
   "outputs": [
    {
     "data": {
      "text/plain": [
       "array(['France', 'Spain', 'Germany'], dtype=object)"
      ]
     },
     "execution_count": 6,
     "metadata": {},
     "output_type": "execute_result"
    }
   ],
   "source": [
    "df.Geography.unique()"
   ]
  },
  {
   "cell_type": "code",
   "execution_count": 7,
   "metadata": {},
   "outputs": [
    {
     "data": {
      "text/plain": [
       "array(['Female', 'Male'], dtype=object)"
      ]
     },
     "execution_count": 7,
     "metadata": {},
     "output_type": "execute_result"
    }
   ],
   "source": [
    "df.Gender.unique()"
   ]
  },
  {
   "cell_type": "code",
   "execution_count": 8,
   "metadata": {},
   "outputs": [
    {
     "data": {
      "text/html": [
       "<div>\n",
       "<style scoped>\n",
       "    .dataframe tbody tr th:only-of-type {\n",
       "        vertical-align: middle;\n",
       "    }\n",
       "\n",
       "    .dataframe tbody tr th {\n",
       "        vertical-align: top;\n",
       "    }\n",
       "\n",
       "    .dataframe thead th {\n",
       "        text-align: right;\n",
       "    }\n",
       "</style>\n",
       "<table border=\"1\" class=\"dataframe\">\n",
       "  <thead>\n",
       "    <tr style=\"text-align: right;\">\n",
       "      <th></th>\n",
       "      <th>RowNumber</th>\n",
       "      <th>CustomerId</th>\n",
       "      <th>CreditScore</th>\n",
       "      <th>Age</th>\n",
       "      <th>Tenure</th>\n",
       "      <th>Balance</th>\n",
       "      <th>NumOfProducts</th>\n",
       "      <th>HasCrCard</th>\n",
       "      <th>IsActiveMember</th>\n",
       "      <th>EstimatedSalary</th>\n",
       "      <th>Exited</th>\n",
       "    </tr>\n",
       "  </thead>\n",
       "  <tbody>\n",
       "    <tr>\n",
       "      <td>count</td>\n",
       "      <td>10000.00000</td>\n",
       "      <td>1.000000e+04</td>\n",
       "      <td>10000.000000</td>\n",
       "      <td>10000.000000</td>\n",
       "      <td>10000.000000</td>\n",
       "      <td>10000.000000</td>\n",
       "      <td>10000.000000</td>\n",
       "      <td>10000.00000</td>\n",
       "      <td>10000.000000</td>\n",
       "      <td>10000.000000</td>\n",
       "      <td>10000.000000</td>\n",
       "    </tr>\n",
       "    <tr>\n",
       "      <td>mean</td>\n",
       "      <td>5000.50000</td>\n",
       "      <td>1.569094e+07</td>\n",
       "      <td>650.528800</td>\n",
       "      <td>38.921800</td>\n",
       "      <td>5.012800</td>\n",
       "      <td>76485.889288</td>\n",
       "      <td>1.530200</td>\n",
       "      <td>0.70550</td>\n",
       "      <td>0.515100</td>\n",
       "      <td>100090.239881</td>\n",
       "      <td>0.203700</td>\n",
       "    </tr>\n",
       "    <tr>\n",
       "      <td>std</td>\n",
       "      <td>2886.89568</td>\n",
       "      <td>7.193619e+04</td>\n",
       "      <td>96.653299</td>\n",
       "      <td>10.487806</td>\n",
       "      <td>2.892174</td>\n",
       "      <td>62397.405202</td>\n",
       "      <td>0.581654</td>\n",
       "      <td>0.45584</td>\n",
       "      <td>0.499797</td>\n",
       "      <td>57510.492818</td>\n",
       "      <td>0.402769</td>\n",
       "    </tr>\n",
       "    <tr>\n",
       "      <td>min</td>\n",
       "      <td>1.00000</td>\n",
       "      <td>1.556570e+07</td>\n",
       "      <td>350.000000</td>\n",
       "      <td>18.000000</td>\n",
       "      <td>0.000000</td>\n",
       "      <td>0.000000</td>\n",
       "      <td>1.000000</td>\n",
       "      <td>0.00000</td>\n",
       "      <td>0.000000</td>\n",
       "      <td>11.580000</td>\n",
       "      <td>0.000000</td>\n",
       "    </tr>\n",
       "    <tr>\n",
       "      <td>25%</td>\n",
       "      <td>2500.75000</td>\n",
       "      <td>1.562853e+07</td>\n",
       "      <td>584.000000</td>\n",
       "      <td>32.000000</td>\n",
       "      <td>3.000000</td>\n",
       "      <td>0.000000</td>\n",
       "      <td>1.000000</td>\n",
       "      <td>0.00000</td>\n",
       "      <td>0.000000</td>\n",
       "      <td>51002.110000</td>\n",
       "      <td>0.000000</td>\n",
       "    </tr>\n",
       "    <tr>\n",
       "      <td>50%</td>\n",
       "      <td>5000.50000</td>\n",
       "      <td>1.569074e+07</td>\n",
       "      <td>652.000000</td>\n",
       "      <td>37.000000</td>\n",
       "      <td>5.000000</td>\n",
       "      <td>97198.540000</td>\n",
       "      <td>1.000000</td>\n",
       "      <td>1.00000</td>\n",
       "      <td>1.000000</td>\n",
       "      <td>100193.915000</td>\n",
       "      <td>0.000000</td>\n",
       "    </tr>\n",
       "    <tr>\n",
       "      <td>75%</td>\n",
       "      <td>7500.25000</td>\n",
       "      <td>1.575323e+07</td>\n",
       "      <td>718.000000</td>\n",
       "      <td>44.000000</td>\n",
       "      <td>7.000000</td>\n",
       "      <td>127644.240000</td>\n",
       "      <td>2.000000</td>\n",
       "      <td>1.00000</td>\n",
       "      <td>1.000000</td>\n",
       "      <td>149388.247500</td>\n",
       "      <td>0.000000</td>\n",
       "    </tr>\n",
       "    <tr>\n",
       "      <td>max</td>\n",
       "      <td>10000.00000</td>\n",
       "      <td>1.581569e+07</td>\n",
       "      <td>850.000000</td>\n",
       "      <td>92.000000</td>\n",
       "      <td>10.000000</td>\n",
       "      <td>250898.090000</td>\n",
       "      <td>4.000000</td>\n",
       "      <td>1.00000</td>\n",
       "      <td>1.000000</td>\n",
       "      <td>199992.480000</td>\n",
       "      <td>1.000000</td>\n",
       "    </tr>\n",
       "  </tbody>\n",
       "</table>\n",
       "</div>"
      ],
      "text/plain": [
       "         RowNumber    CustomerId   CreditScore           Age        Tenure  \\\n",
       "count  10000.00000  1.000000e+04  10000.000000  10000.000000  10000.000000   \n",
       "mean    5000.50000  1.569094e+07    650.528800     38.921800      5.012800   \n",
       "std     2886.89568  7.193619e+04     96.653299     10.487806      2.892174   \n",
       "min        1.00000  1.556570e+07    350.000000     18.000000      0.000000   \n",
       "25%     2500.75000  1.562853e+07    584.000000     32.000000      3.000000   \n",
       "50%     5000.50000  1.569074e+07    652.000000     37.000000      5.000000   \n",
       "75%     7500.25000  1.575323e+07    718.000000     44.000000      7.000000   \n",
       "max    10000.00000  1.581569e+07    850.000000     92.000000     10.000000   \n",
       "\n",
       "             Balance  NumOfProducts    HasCrCard  IsActiveMember  \\\n",
       "count   10000.000000   10000.000000  10000.00000    10000.000000   \n",
       "mean    76485.889288       1.530200      0.70550        0.515100   \n",
       "std     62397.405202       0.581654      0.45584        0.499797   \n",
       "min         0.000000       1.000000      0.00000        0.000000   \n",
       "25%         0.000000       1.000000      0.00000        0.000000   \n",
       "50%     97198.540000       1.000000      1.00000        1.000000   \n",
       "75%    127644.240000       2.000000      1.00000        1.000000   \n",
       "max    250898.090000       4.000000      1.00000        1.000000   \n",
       "\n",
       "       EstimatedSalary        Exited  \n",
       "count     10000.000000  10000.000000  \n",
       "mean     100090.239881      0.203700  \n",
       "std       57510.492818      0.402769  \n",
       "min          11.580000      0.000000  \n",
       "25%       51002.110000      0.000000  \n",
       "50%      100193.915000      0.000000  \n",
       "75%      149388.247500      0.000000  \n",
       "max      199992.480000      1.000000  "
      ]
     },
     "execution_count": 8,
     "metadata": {},
     "output_type": "execute_result"
    }
   ],
   "source": [
    "df.describe()"
   ]
  },
  {
   "cell_type": "markdown",
   "metadata": {},
   "source": [
    "# Data Cleaning"
   ]
  },
  {
   "cell_type": "code",
   "execution_count": 9,
   "metadata": {},
   "outputs": [
    {
     "name": "stdout",
     "output_type": "stream",
     "text": [
      "(10000, 14)\n",
      "(10000, 11)\n"
     ]
    }
   ],
   "source": [
    "#remove the unwanted columns\n",
    "print(df.shape)\n",
    "df.drop([\"RowNumber\",\"CustomerId\",\"Surname\"],axis=1,inplace=True)\n",
    "print(df.shape)"
   ]
  },
  {
   "cell_type": "code",
   "execution_count": 10,
   "metadata": {},
   "outputs": [
    {
     "data": {
      "text/plain": [
       "CreditScore        0\n",
       "Geography          0\n",
       "Gender             0\n",
       "Age                0\n",
       "Tenure             0\n",
       "Balance            0\n",
       "NumOfProducts      0\n",
       "HasCrCard          0\n",
       "IsActiveMember     0\n",
       "EstimatedSalary    0\n",
       "Exited             0\n",
       "dtype: int64"
      ]
     },
     "execution_count": 10,
     "metadata": {},
     "output_type": "execute_result"
    }
   ],
   "source": [
    "#check for missing values\n",
    "df.isnull().sum()"
   ]
  },
  {
   "cell_type": "code",
   "execution_count": 11,
   "metadata": {},
   "outputs": [
    {
     "data": {
      "text/plain": [
       "0"
      ]
     },
     "execution_count": 11,
     "metadata": {},
     "output_type": "execute_result"
    }
   ],
   "source": [
    "#check for duplicates\n",
    "df.duplicated().sum()"
   ]
  },
  {
   "cell_type": "code",
   "execution_count": 12,
   "metadata": {},
   "outputs": [
    {
     "data": {
      "text/plain": [
       "CreditScore       -0.071607\n",
       "Age                1.011320\n",
       "Tenure             0.010991\n",
       "Balance           -0.141109\n",
       "NumOfProducts      0.745568\n",
       "HasCrCard         -0.901812\n",
       "IsActiveMember    -0.060437\n",
       "EstimatedSalary    0.002085\n",
       "Exited             1.471611\n",
       "dtype: float64"
      ]
     },
     "execution_count": 12,
     "metadata": {},
     "output_type": "execute_result"
    }
   ],
   "source": [
    "# check for outliers\n",
    "df.skew()"
   ]
  },
  {
   "cell_type": "markdown",
   "metadata": {},
   "source": [
    "# Feature Engineering"
   ]
  },
  {
   "cell_type": "markdown",
   "metadata": {},
   "source": [
    "- Feature Extraction\n",
    "- Feature Selection"
   ]
  },
  {
   "cell_type": "markdown",
   "metadata": {},
   "source": [
    "## Feature Selection\n",
    "\n",
    "### Using Data Visualization"
   ]
  },
  {
   "cell_type": "code",
   "execution_count": 13,
   "metadata": {},
   "outputs": [
    {
     "data": {
      "text/plain": [
       "Index(['CreditScore', 'Geography', 'Gender', 'Age', 'Tenure', 'Balance',\n",
       "       'NumOfProducts', 'HasCrCard', 'IsActiveMember', 'EstimatedSalary',\n",
       "       'Exited'],\n",
       "      dtype='object')"
      ]
     },
     "execution_count": 13,
     "metadata": {},
     "output_type": "execute_result"
    }
   ],
   "source": [
    "df.columns"
   ]
  },
  {
   "cell_type": "code",
   "execution_count": 14,
   "metadata": {},
   "outputs": [],
   "source": [
    "numerics = ['CreditScore','Age', 'Tenure', 'Balance','NumOfProducts', 'EstimatedSalary']\n",
    "categorics = ['Geography', 'Gender','HasCrCard', 'IsActiveMember']"
   ]
  },
  {
   "cell_type": "code",
   "execution_count": 15,
   "metadata": {},
   "outputs": [
    {
     "data": {
      "image/png": "[encoded data removed]",
      "text/plain": [
       "<Figure size 864x360 with 1 Axes>"
      ]
     },
     "metadata": {
      "needs_background": "light"
     },
     "output_type": "display_data"
    },
    {
     "data": {
      "image/png": "[encoded data removed]",
      "text/plain": [
       "<Figure size 864x360 with 1 Axes>"
      ]
     },
     "metadata": {
      "needs_background": "light"
     },
     "output_type": "display_data"
    },
    {
     "data": {
      "image/png": "[encoded data removed]",
      "text/plain": [
       "<Figure size 864x360 with 1 Axes>"
      ]
     },
     "metadata": {
      "needs_background": "light"
     },
     "output_type": "display_data"
    },
    {
     "data": {
      "image/png": "[encoded data removed]",
      "text/plain": [
       "<Figure size 864x360 with 1 Axes>"
      ]
     },
     "metadata": {
      "needs_background": "light"
     },
     "output_type": "display_data"
    },
    {
     "data": {
      "image/png": "[encoded data removed]",
      "text/plain": [
       "<Figure size 864x360 with 1 Axes>"
      ]
     },
     "metadata": {
      "needs_background": "light"
     },
     "output_type": "display_data"
    },
    {
     "data": {
      "image/png": "[encoded data removed]",
      "text/plain": [
       "<Figure size 864x360 with 1 Axes>"
      ]
     },
     "metadata": {
      "needs_background": "light"
     },
     "output_type": "display_data"
    }
   ],
   "source": [
    "# Distplot for numeric v/s categorical(Exited)\n",
    "for col in numerics:\n",
    "    plt.figure(figsize=(12,5))\n",
    "    sns.distplot(df[col][df.Exited==0])\n",
    "    sns.distplot(df[col][df.Exited==1])\n",
    "    plt.legend(['0','1'])\n",
    "    plt.show()"
   ]
  },
  {
   "cell_type": "code",
   "execution_count": 16,
   "metadata": {},
   "outputs": [
    {
     "data": {
      "image/png": "[encoded data removed]",
      "text/plain": [
       "<Figure size 576x432 with 1 Axes>"
      ]
     },
     "metadata": {
      "needs_background": "light"
     },
     "output_type": "display_data"
    },
    {
     "data": {
      "image/png": "[encoded data removed]",
      "text/plain": [
       "<Figure size 576x432 with 1 Axes>"
      ]
     },
     "metadata": {
      "needs_background": "light"
     },
     "output_type": "display_data"
    },
    {
     "data": {
      "image/png": "[encoded data removed]",
      "text/plain": [
       "<Figure size 576x432 with 1 Axes>"
      ]
     },
     "metadata": {
      "needs_background": "light"
     },
     "output_type": "display_data"
    },
    {
     "data": {
      "image/png": "[encoded data removed]",
      "text/plain": [
       "<Figure size 576x432 with 1 Axes>"
      ]
     },
     "metadata": {
      "needs_background": "light"
     },
     "output_type": "display_data"
    }
   ],
   "source": [
    "# for categorical features\n",
    "\n",
    "for col in categorics:\n",
    "    table = pd.crosstab(df[col],df[\"Exited\"],margins=True)\n",
    "    dropout_rate = table[1]/table[\"All\"]\n",
    "    plt.figure(figsize=(8,6))\n",
    "    sns.barplot(dropout_rate.index,dropout_rate.values)\n",
    "    plt.show()"
   ]
  },
  {
   "cell_type": "code",
   "execution_count": 17,
   "metadata": {},
   "outputs": [
    {
     "data": {
      "text/html": [
       "<div>\n",
       "<style scoped>\n",
       "    .dataframe tbody tr th:only-of-type {\n",
       "        vertical-align: middle;\n",
       "    }\n",
       "\n",
       "    .dataframe tbody tr th {\n",
       "        vertical-align: top;\n",
       "    }\n",
       "\n",
       "    .dataframe thead th {\n",
       "        text-align: right;\n",
       "    }\n",
       "</style>\n",
       "<table border=\"1\" class=\"dataframe\">\n",
       "  <thead>\n",
       "    <tr style=\"text-align: right;\">\n",
       "      <th>Exited</th>\n",
       "      <th>0</th>\n",
       "      <th>1</th>\n",
       "      <th>All</th>\n",
       "    </tr>\n",
       "    <tr>\n",
       "      <th>Geography</th>\n",
       "      <th></th>\n",
       "      <th></th>\n",
       "      <th></th>\n",
       "    </tr>\n",
       "  </thead>\n",
       "  <tbody>\n",
       "    <tr>\n",
       "      <td>France</td>\n",
       "      <td>4204</td>\n",
       "      <td>810</td>\n",
       "      <td>5014</td>\n",
       "    </tr>\n",
       "    <tr>\n",
       "      <td>Germany</td>\n",
       "      <td>1695</td>\n",
       "      <td>814</td>\n",
       "      <td>2509</td>\n",
       "    </tr>\n",
       "    <tr>\n",
       "      <td>Spain</td>\n",
       "      <td>2064</td>\n",
       "      <td>413</td>\n",
       "      <td>2477</td>\n",
       "    </tr>\n",
       "    <tr>\n",
       "      <td>All</td>\n",
       "      <td>7963</td>\n",
       "      <td>2037</td>\n",
       "      <td>10000</td>\n",
       "    </tr>\n",
       "  </tbody>\n",
       "</table>\n",
       "</div>"
      ],
      "text/plain": [
       "Exited        0     1    All\n",
       "Geography                   \n",
       "France     4204   810   5014\n",
       "Germany    1695   814   2509\n",
       "Spain      2064   413   2477\n",
       "All        7963  2037  10000"
      ]
     },
     "execution_count": 17,
     "metadata": {},
     "output_type": "execute_result"
    }
   ],
   "source": [
    "table = pd.crosstab(df.Geography,df.Exited,margins=True)\n",
    "table"
   ]
  },
  {
   "cell_type": "code",
   "execution_count": 18,
   "metadata": {},
   "outputs": [
    {
     "data": {
      "text/plain": [
       "Geography\n",
       "France     0.161548\n",
       "Germany    0.324432\n",
       "Spain      0.166734\n",
       "All        0.203700\n",
       "dtype: float64"
      ]
     },
     "execution_count": 18,
     "metadata": {},
     "output_type": "execute_result"
    }
   ],
   "source": [
    "table[1]/table[\"All\"]"
   ]
  },
  {
   "cell_type": "code",
   "execution_count": 19,
   "metadata": {},
   "outputs": [
    {
     "data": {
      "text/plain": [
       "Index(['CreditScore', 'Geography', 'Gender', 'Age', 'Tenure', 'Balance',\n",
       "       'NumOfProducts', 'HasCrCard', 'IsActiveMember', 'EstimatedSalary',\n",
       "       'Exited'],\n",
       "      dtype='object')"
      ]
     },
     "execution_count": 19,
     "metadata": {},
     "output_type": "execute_result"
    }
   ],
   "source": [
    "df.columns"
   ]
  },
  {
   "cell_type": "markdown",
   "metadata": {},
   "source": [
    "Important features - Geography, Gender, Age, Balance, Numofproducts, IsActiveMember"
   ]
  },
  {
   "cell_type": "markdown",
   "metadata": {},
   "source": [
    "### Using statistics"
   ]
  },
  {
   "cell_type": "markdown",
   "metadata": {},
   "source": [
    "#### Correlation Analysis"
   ]
  },
  {
   "cell_type": "code",
   "execution_count": 20,
   "metadata": {},
   "outputs": [
    {
     "data": {
      "image/png": "[encoded data removed]",
      "text/plain": [
       "<Figure size 864x720 with 2 Axes>"
      ]
     },
     "metadata": {
      "needs_background": "light"
     },
     "output_type": "display_data"
    }
   ],
   "source": [
    "cor = df.corr()\n",
    "plt.figure(figsize=(12,10))\n",
    "ax = sns.heatmap(cor,annot=True,cmap=\"coolwarm\")\n",
    "top,bot = ax.get_ylim()\n",
    "ax.set_ylim(top+0.5,bot-0.5)\n",
    "plt.show()"
   ]
  },
  {
   "cell_type": "markdown",
   "metadata": {},
   "source": [
    "important features - Age, Balance, Numofproducts"
   ]
  },
  {
   "cell_type": "markdown",
   "metadata": {},
   "source": [
    "### ANOVA\n",
    "ANOVA = Analysis of variance – compare means / variation in two or more samples \n",
    "\n",
    "Sample1 – an array having data of age of customers who left the bank \n",
    "\n",
    "Sample2 – an array having data of age of customers who didn't leave the bank \n",
    "*************************************************************\n",
    " \n",
    "\n",
    " \n",
    "\n",
    "**For ANOVA -**  \n",
    "\n",
    "Null Hypothesis – H0 = means of two samples are similar to each other \n",
    "\n",
    "Alternate Hypothesis – Ha = means of two samples are different than each other \n",
    "\n",
    " \n",
    "\n",
    " \n",
    "\n",
    "- If the business confidence is = 95% = 0.95 \n",
    "\n",
    "- Significance level = 5% = 0.05 \n",
    "\n",
    " ******************************\n",
    "\n",
    " \n",
    "\n",
    "If pvalue > 0.05 = we accept the H0 (Null Hypothesis) = feature is not important  \n",
    "\n",
    "If pvalue <0.05 = we reject the H0 (Null Hypothesis) = feature is important "
   ]
  },
  {
   "cell_type": "code",
   "execution_count": 21,
   "metadata": {},
   "outputs": [
    {
     "name": "stdout",
     "output_type": "stream",
     "text": [
      "CreditScore   0.006738213892258643\n",
      "Age   1.2399313093415039e-186\n",
      "Tenure   0.1615268494952801\n",
      "Balance   1.275563319153163e-32\n",
      "NumOfProducts   1.7173330048040421e-06\n",
      "EstimatedSalary   0.22644042802376574\n"
     ]
    }
   ],
   "source": [
    "xnum = df[numerics]\n",
    "y = df['Exited']\n",
    "\n",
    "from sklearn.feature_selection import f_classif\n",
    "fval,pval = f_classif(xnum,y)\n",
    "for i in range(len(xnum.columns)): print(numerics[i],\" \",pval[i])"
   ]
  },
  {
   "cell_type": "markdown",
   "metadata": {},
   "source": [
    "#### Chi Square Test \n",
    "Chi Square Test - comparision of distribution of categories among multiple groups\n",
    "\n",
    "Sample1 – distribution of geography for customers who left\n",
    "\n",
    "Sample2 – distrbution of geography for customers who didn't leave\n",
    "*************************************************************\n",
    " \n",
    "\n",
    " \n",
    "\n",
    "**For Chiq Square -**  \n",
    "\n",
    "Null Hypothesis – H0 = two groups have similar distribution \n",
    "\n",
    "Alternate Hypothesis – Ha = two groups have different distribution.\n",
    " \n",
    "\n",
    " \n",
    "\n",
    "- If the business confidence is = 95% = 0.95 \n",
    "\n",
    "- Significance level = 5% = 0.05 \n",
    "\n",
    " ******************************\n",
    "\n",
    " \n",
    "\n",
    "If pvalue > 0.05 = we accept the H0 (Null Hypothesis) = feature is not important  \n",
    "\n",
    "If pvalue <0.05 = we reject the H0 (Null Hypothesis) = feature is important "
   ]
  },
  {
   "cell_type": "code",
   "execution_count": 22,
   "metadata": {},
   "outputs": [
    {
     "name": "stdout",
     "output_type": "stream",
     "text": [
      "Geography   0.0005756078382573235\n",
      "Gender   7.015574513879596e-13\n",
      "HasCrCard   0.6984962089530451\n",
      "IsActiveMember   1.5680362405434552e-27\n"
     ]
    },
    {
     "name": "stderr",
     "output_type": "stream",
     "text": [
      "C:\\ProgramData\\Anaconda3\\lib\\site-packages\\pandas\\core\\generic.py:5208: SettingWithCopyWarning: \n",
      "A value is trying to be set on a copy of a slice from a DataFrame.\n",
      "Try using .loc[row_indexer,col_indexer] = value instead\n",
      "\n",
      "See the caveats in the documentation: http://pandas.pydata.org/pandas-docs/stable/user_guide/indexing.html#returning-a-view-versus-a-copy\n",
      "  self[name] = value\n"
     ]
    }
   ],
   "source": [
    "xcat = df[categorics]\n",
    "from sklearn.preprocessing import LabelEncoder\n",
    "xcat.Geography = LabelEncoder().fit_transform(xcat.Geography)\n",
    "xcat.Gender = LabelEncoder().fit_transform(xcat.Gender)\n",
    "\n",
    "from sklearn.feature_selection import chi2\n",
    "cval,pval = chi2(xcat,y)\n",
    "for i in range(len(categorics)): print(categorics[i],\" \",pval[i])"
   ]
  },
  {
   "cell_type": "markdown",
   "metadata": {},
   "source": [
    "important features - Creditscore, Age, Balance, Numofproducts, Geography, Gender, IsActiveMember"
   ]
  },
  {
   "cell_type": "code",
   "execution_count": 23,
   "metadata": {},
   "outputs": [
    {
     "data": {
      "text/plain": [
       "Index(['CreditScore', 'Geography', 'Gender', 'Age', 'Tenure', 'Balance',\n",
       "       'NumOfProducts', 'HasCrCard', 'IsActiveMember', 'EstimatedSalary',\n",
       "       'Exited'],\n",
       "      dtype='object')"
      ]
     },
     "execution_count": 23,
     "metadata": {},
     "output_type": "execute_result"
    }
   ],
   "source": [
    "df.columns"
   ]
  },
  {
   "cell_type": "code",
   "execution_count": 24,
   "metadata": {},
   "outputs": [],
   "source": [
    "x = df[['CreditScore', 'Geography', 'Gender', 'Age','Balance',\n",
    "       'NumOfProducts', 'IsActiveMember']]\n",
    "y = df[\"Exited\"]"
   ]
  },
  {
   "cell_type": "markdown",
   "metadata": {},
   "source": [
    "# Preprocessing"
   ]
  },
  {
   "cell_type": "code",
   "execution_count": 25,
   "metadata": {},
   "outputs": [
    {
     "data": {
      "text/html": [
       "<div>\n",
       "<style scoped>\n",
       "    .dataframe tbody tr th:only-of-type {\n",
       "        vertical-align: middle;\n",
       "    }\n",
       "\n",
       "    .dataframe tbody tr th {\n",
       "        vertical-align: top;\n",
       "    }\n",
       "\n",
       "    .dataframe thead th {\n",
       "        text-align: right;\n",
       "    }\n",
       "</style>\n",
       "<table border=\"1\" class=\"dataframe\">\n",
       "  <thead>\n",
       "    <tr style=\"text-align: right;\">\n",
       "      <th></th>\n",
       "      <th>CreditScore</th>\n",
       "      <th>Geography</th>\n",
       "      <th>Gender</th>\n",
       "      <th>Age</th>\n",
       "      <th>Balance</th>\n",
       "      <th>NumOfProducts</th>\n",
       "      <th>IsActiveMember</th>\n",
       "    </tr>\n",
       "  </thead>\n",
       "  <tbody>\n",
       "    <tr>\n",
       "      <td>0</td>\n",
       "      <td>619</td>\n",
       "      <td>France</td>\n",
       "      <td>Female</td>\n",
       "      <td>42</td>\n",
       "      <td>0.00</td>\n",
       "      <td>1</td>\n",
       "      <td>1</td>\n",
       "    </tr>\n",
       "    <tr>\n",
       "      <td>1</td>\n",
       "      <td>608</td>\n",
       "      <td>Spain</td>\n",
       "      <td>Female</td>\n",
       "      <td>41</td>\n",
       "      <td>83807.86</td>\n",
       "      <td>1</td>\n",
       "      <td>1</td>\n",
       "    </tr>\n",
       "    <tr>\n",
       "      <td>2</td>\n",
       "      <td>502</td>\n",
       "      <td>France</td>\n",
       "      <td>Female</td>\n",
       "      <td>42</td>\n",
       "      <td>159660.80</td>\n",
       "      <td>3</td>\n",
       "      <td>0</td>\n",
       "    </tr>\n",
       "    <tr>\n",
       "      <td>3</td>\n",
       "      <td>699</td>\n",
       "      <td>France</td>\n",
       "      <td>Female</td>\n",
       "      <td>39</td>\n",
       "      <td>0.00</td>\n",
       "      <td>2</td>\n",
       "      <td>0</td>\n",
       "    </tr>\n",
       "    <tr>\n",
       "      <td>4</td>\n",
       "      <td>850</td>\n",
       "      <td>Spain</td>\n",
       "      <td>Female</td>\n",
       "      <td>43</td>\n",
       "      <td>125510.82</td>\n",
       "      <td>1</td>\n",
       "      <td>1</td>\n",
       "    </tr>\n",
       "  </tbody>\n",
       "</table>\n",
       "</div>"
      ],
      "text/plain": [
       "   CreditScore Geography  Gender  Age    Balance  NumOfProducts  \\\n",
       "0          619    France  Female   42       0.00              1   \n",
       "1          608     Spain  Female   41   83807.86              1   \n",
       "2          502    France  Female   42  159660.80              3   \n",
       "3          699    France  Female   39       0.00              2   \n",
       "4          850     Spain  Female   43  125510.82              1   \n",
       "\n",
       "   IsActiveMember  \n",
       "0               1  \n",
       "1               1  \n",
       "2               0  \n",
       "3               0  \n",
       "4               1  "
      ]
     },
     "execution_count": 25,
     "metadata": {},
     "output_type": "execute_result"
    }
   ],
   "source": [
    "x.head()"
   ]
  },
  {
   "cell_type": "markdown",
   "metadata": {},
   "source": [
    "#### Encoding of Geography and Gender"
   ]
  },
  {
   "cell_type": "code",
   "execution_count": 26,
   "metadata": {},
   "outputs": [],
   "source": [
    "from sklearn.preprocessing import LabelEncoder,OneHotEncoder\n",
    "from sklearn.compose import ColumnTransformer"
   ]
  },
  {
   "cell_type": "code",
   "execution_count": 27,
   "metadata": {},
   "outputs": [
    {
     "name": "stdout",
     "output_type": "stream",
     "text": [
      "['Female' 'Male']\n"
     ]
    }
   ],
   "source": [
    "# for Gender\n",
    "le1 = LabelEncoder()\n",
    "le1.fit(x.Gender)\n",
    "print(le1.classes_)"
   ]
  },
  {
   "cell_type": "code",
   "execution_count": 28,
   "metadata": {},
   "outputs": [
    {
     "name": "stderr",
     "output_type": "stream",
     "text": [
      "C:\\ProgramData\\Anaconda3\\lib\\site-packages\\pandas\\core\\generic.py:5208: SettingWithCopyWarning: \n",
      "A value is trying to be set on a copy of a slice from a DataFrame.\n",
      "Try using .loc[row_indexer,col_indexer] = value instead\n",
      "\n",
      "See the caveats in the documentation: http://pandas.pydata.org/pandas-docs/stable/user_guide/indexing.html#returning-a-view-versus-a-copy\n",
      "  self[name] = value\n"
     ]
    }
   ],
   "source": [
    "# encoding of gender\n",
    "x.Gender = le1.transform(x.Gender)"
   ]
  },
  {
   "cell_type": "code",
   "execution_count": 30,
   "metadata": {},
   "outputs": [
    {
     "data": {
      "text/plain": [
       "(10000, 9)"
      ]
     },
     "execution_count": 30,
     "metadata": {},
     "output_type": "execute_result"
    }
   ],
   "source": [
    "from sklearn.preprocessing import StandardScaler\n",
    "# Onehot encoding for geography\n",
    "encoder = ColumnTransformer([(\"ohe\",OneHotEncoder(),[1]),\n",
    "                             (\"sc\",StandardScaler(),[0,3,4,5]) ],remainder='passthrough')\n",
    "encoder.fit(x)\n",
    "x2 = encoder.transform(x)\n",
    "x2.shape"
   ]
  },
  {
   "cell_type": "code",
   "execution_count": 31,
   "metadata": {},
   "outputs": [
    {
     "data": {
      "text/html": [
       "<div>\n",
       "<style scoped>\n",
       "    .dataframe tbody tr th:only-of-type {\n",
       "        vertical-align: middle;\n",
       "    }\n",
       "\n",
       "    .dataframe tbody tr th {\n",
       "        vertical-align: top;\n",
       "    }\n",
       "\n",
       "    .dataframe thead th {\n",
       "        text-align: right;\n",
       "    }\n",
       "</style>\n",
       "<table border=\"1\" class=\"dataframe\">\n",
       "  <thead>\n",
       "    <tr style=\"text-align: right;\">\n",
       "      <th></th>\n",
       "      <th>0</th>\n",
       "      <th>1</th>\n",
       "      <th>2</th>\n",
       "      <th>3</th>\n",
       "      <th>4</th>\n",
       "      <th>5</th>\n",
       "      <th>6</th>\n",
       "      <th>7</th>\n",
       "      <th>8</th>\n",
       "    </tr>\n",
       "  </thead>\n",
       "  <tbody>\n",
       "    <tr>\n",
       "      <td>0</td>\n",
       "      <td>1.0</td>\n",
       "      <td>0.0</td>\n",
       "      <td>0.0</td>\n",
       "      <td>-0.326221</td>\n",
       "      <td>0.293517</td>\n",
       "      <td>-1.225848</td>\n",
       "      <td>-0.911583</td>\n",
       "      <td>0.0</td>\n",
       "      <td>1.0</td>\n",
       "    </tr>\n",
       "    <tr>\n",
       "      <td>1</td>\n",
       "      <td>0.0</td>\n",
       "      <td>0.0</td>\n",
       "      <td>1.0</td>\n",
       "      <td>-0.440036</td>\n",
       "      <td>0.198164</td>\n",
       "      <td>0.117350</td>\n",
       "      <td>-0.911583</td>\n",
       "      <td>0.0</td>\n",
       "      <td>1.0</td>\n",
       "    </tr>\n",
       "    <tr>\n",
       "      <td>2</td>\n",
       "      <td>1.0</td>\n",
       "      <td>0.0</td>\n",
       "      <td>0.0</td>\n",
       "      <td>-1.536794</td>\n",
       "      <td>0.293517</td>\n",
       "      <td>1.333053</td>\n",
       "      <td>2.527057</td>\n",
       "      <td>0.0</td>\n",
       "      <td>0.0</td>\n",
       "    </tr>\n",
       "    <tr>\n",
       "      <td>3</td>\n",
       "      <td>1.0</td>\n",
       "      <td>0.0</td>\n",
       "      <td>0.0</td>\n",
       "      <td>0.501521</td>\n",
       "      <td>0.007457</td>\n",
       "      <td>-1.225848</td>\n",
       "      <td>0.807737</td>\n",
       "      <td>0.0</td>\n",
       "      <td>0.0</td>\n",
       "    </tr>\n",
       "    <tr>\n",
       "      <td>4</td>\n",
       "      <td>0.0</td>\n",
       "      <td>0.0</td>\n",
       "      <td>1.0</td>\n",
       "      <td>2.063884</td>\n",
       "      <td>0.388871</td>\n",
       "      <td>0.785728</td>\n",
       "      <td>-0.911583</td>\n",
       "      <td>0.0</td>\n",
       "      <td>1.0</td>\n",
       "    </tr>\n",
       "  </tbody>\n",
       "</table>\n",
       "</div>"
      ],
      "text/plain": [
       "     0    1    2         3         4         5         6    7    8\n",
       "0  1.0  0.0  0.0 -0.326221  0.293517 -1.225848 -0.911583  0.0  1.0\n",
       "1  0.0  0.0  1.0 -0.440036  0.198164  0.117350 -0.911583  0.0  1.0\n",
       "2  1.0  0.0  0.0 -1.536794  0.293517  1.333053  2.527057  0.0  0.0\n",
       "3  1.0  0.0  0.0  0.501521  0.007457 -1.225848  0.807737  0.0  0.0\n",
       "4  0.0  0.0  1.0  2.063884  0.388871  0.785728 -0.911583  0.0  1.0"
      ]
     },
     "execution_count": 31,
     "metadata": {},
     "output_type": "execute_result"
    }
   ],
   "source": [
    "x2 = pd.DataFrame(x2)\n",
    "x2.head()"
   ]
  },
  {
   "cell_type": "code",
   "execution_count": 32,
   "metadata": {},
   "outputs": [
    {
     "data": {
      "text/html": [
       "<div>\n",
       "<style scoped>\n",
       "    .dataframe tbody tr th:only-of-type {\n",
       "        vertical-align: middle;\n",
       "    }\n",
       "\n",
       "    .dataframe tbody tr th {\n",
       "        vertical-align: top;\n",
       "    }\n",
       "\n",
       "    .dataframe thead th {\n",
       "        text-align: right;\n",
       "    }\n",
       "</style>\n",
       "<table border=\"1\" class=\"dataframe\">\n",
       "  <thead>\n",
       "    <tr style=\"text-align: right;\">\n",
       "      <th></th>\n",
       "      <th>CreditScore</th>\n",
       "      <th>Geography</th>\n",
       "      <th>Gender</th>\n",
       "      <th>Age</th>\n",
       "      <th>Balance</th>\n",
       "      <th>NumOfProducts</th>\n",
       "      <th>IsActiveMember</th>\n",
       "    </tr>\n",
       "  </thead>\n",
       "  <tbody>\n",
       "    <tr>\n",
       "      <td>0</td>\n",
       "      <td>619</td>\n",
       "      <td>France</td>\n",
       "      <td>0</td>\n",
       "      <td>42</td>\n",
       "      <td>0.00</td>\n",
       "      <td>1</td>\n",
       "      <td>1</td>\n",
       "    </tr>\n",
       "    <tr>\n",
       "      <td>1</td>\n",
       "      <td>608</td>\n",
       "      <td>Spain</td>\n",
       "      <td>0</td>\n",
       "      <td>41</td>\n",
       "      <td>83807.86</td>\n",
       "      <td>1</td>\n",
       "      <td>1</td>\n",
       "    </tr>\n",
       "    <tr>\n",
       "      <td>2</td>\n",
       "      <td>502</td>\n",
       "      <td>France</td>\n",
       "      <td>0</td>\n",
       "      <td>42</td>\n",
       "      <td>159660.80</td>\n",
       "      <td>3</td>\n",
       "      <td>0</td>\n",
       "    </tr>\n",
       "    <tr>\n",
       "      <td>3</td>\n",
       "      <td>699</td>\n",
       "      <td>France</td>\n",
       "      <td>0</td>\n",
       "      <td>39</td>\n",
       "      <td>0.00</td>\n",
       "      <td>2</td>\n",
       "      <td>0</td>\n",
       "    </tr>\n",
       "    <tr>\n",
       "      <td>4</td>\n",
       "      <td>850</td>\n",
       "      <td>Spain</td>\n",
       "      <td>0</td>\n",
       "      <td>43</td>\n",
       "      <td>125510.82</td>\n",
       "      <td>1</td>\n",
       "      <td>1</td>\n",
       "    </tr>\n",
       "    <tr>\n",
       "      <td>5</td>\n",
       "      <td>645</td>\n",
       "      <td>Spain</td>\n",
       "      <td>1</td>\n",
       "      <td>44</td>\n",
       "      <td>113755.78</td>\n",
       "      <td>2</td>\n",
       "      <td>0</td>\n",
       "    </tr>\n",
       "  </tbody>\n",
       "</table>\n",
       "</div>"
      ],
      "text/plain": [
       "   CreditScore Geography  Gender  Age    Balance  NumOfProducts  \\\n",
       "0          619    France       0   42       0.00              1   \n",
       "1          608     Spain       0   41   83807.86              1   \n",
       "2          502    France       0   42  159660.80              3   \n",
       "3          699    France       0   39       0.00              2   \n",
       "4          850     Spain       0   43  125510.82              1   \n",
       "5          645     Spain       1   44  113755.78              2   \n",
       "\n",
       "   IsActiveMember  \n",
       "0               1  \n",
       "1               1  \n",
       "2               0  \n",
       "3               0  \n",
       "4               1  \n",
       "5               0  "
      ]
     },
     "execution_count": 32,
     "metadata": {},
     "output_type": "execute_result"
    }
   ],
   "source": [
    "x.head(6)"
   ]
  },
  {
   "cell_type": "code",
   "execution_count": 33,
   "metadata": {},
   "outputs": [
    {
     "data": {
      "text/html": [
       "<div>\n",
       "<style scoped>\n",
       "    .dataframe tbody tr th:only-of-type {\n",
       "        vertical-align: middle;\n",
       "    }\n",
       "\n",
       "    .dataframe tbody tr th {\n",
       "        vertical-align: top;\n",
       "    }\n",
       "\n",
       "    .dataframe thead th {\n",
       "        text-align: right;\n",
       "    }\n",
       "</style>\n",
       "<table border=\"1\" class=\"dataframe\">\n",
       "  <thead>\n",
       "    <tr style=\"text-align: right;\">\n",
       "      <th></th>\n",
       "      <th>CreditScore</th>\n",
       "      <th>Geography</th>\n",
       "      <th>Gender</th>\n",
       "      <th>Age</th>\n",
       "      <th>Tenure</th>\n",
       "      <th>Balance</th>\n",
       "      <th>NumOfProducts</th>\n",
       "      <th>HasCrCard</th>\n",
       "      <th>IsActiveMember</th>\n",
       "      <th>EstimatedSalary</th>\n",
       "      <th>Exited</th>\n",
       "    </tr>\n",
       "  </thead>\n",
       "  <tbody>\n",
       "    <tr>\n",
       "      <td>0</td>\n",
       "      <td>619</td>\n",
       "      <td>France</td>\n",
       "      <td>Female</td>\n",
       "      <td>42</td>\n",
       "      <td>2</td>\n",
       "      <td>0.00</td>\n",
       "      <td>1</td>\n",
       "      <td>1</td>\n",
       "      <td>1</td>\n",
       "      <td>101348.88</td>\n",
       "      <td>1</td>\n",
       "    </tr>\n",
       "    <tr>\n",
       "      <td>1</td>\n",
       "      <td>608</td>\n",
       "      <td>Spain</td>\n",
       "      <td>Female</td>\n",
       "      <td>41</td>\n",
       "      <td>1</td>\n",
       "      <td>83807.86</td>\n",
       "      <td>1</td>\n",
       "      <td>0</td>\n",
       "      <td>1</td>\n",
       "      <td>112542.58</td>\n",
       "      <td>0</td>\n",
       "    </tr>\n",
       "    <tr>\n",
       "      <td>2</td>\n",
       "      <td>502</td>\n",
       "      <td>France</td>\n",
       "      <td>Female</td>\n",
       "      <td>42</td>\n",
       "      <td>8</td>\n",
       "      <td>159660.80</td>\n",
       "      <td>3</td>\n",
       "      <td>1</td>\n",
       "      <td>0</td>\n",
       "      <td>113931.57</td>\n",
       "      <td>1</td>\n",
       "    </tr>\n",
       "    <tr>\n",
       "      <td>3</td>\n",
       "      <td>699</td>\n",
       "      <td>France</td>\n",
       "      <td>Female</td>\n",
       "      <td>39</td>\n",
       "      <td>1</td>\n",
       "      <td>0.00</td>\n",
       "      <td>2</td>\n",
       "      <td>0</td>\n",
       "      <td>0</td>\n",
       "      <td>93826.63</td>\n",
       "      <td>0</td>\n",
       "    </tr>\n",
       "    <tr>\n",
       "      <td>4</td>\n",
       "      <td>850</td>\n",
       "      <td>Spain</td>\n",
       "      <td>Female</td>\n",
       "      <td>43</td>\n",
       "      <td>2</td>\n",
       "      <td>125510.82</td>\n",
       "      <td>1</td>\n",
       "      <td>1</td>\n",
       "      <td>1</td>\n",
       "      <td>79084.10</td>\n",
       "      <td>0</td>\n",
       "    </tr>\n",
       "    <tr>\n",
       "      <td>5</td>\n",
       "      <td>645</td>\n",
       "      <td>Spain</td>\n",
       "      <td>Male</td>\n",
       "      <td>44</td>\n",
       "      <td>8</td>\n",
       "      <td>113755.78</td>\n",
       "      <td>2</td>\n",
       "      <td>1</td>\n",
       "      <td>0</td>\n",
       "      <td>149756.71</td>\n",
       "      <td>1</td>\n",
       "    </tr>\n",
       "  </tbody>\n",
       "</table>\n",
       "</div>"
      ],
      "text/plain": [
       "   CreditScore Geography  Gender  Age  Tenure    Balance  NumOfProducts  \\\n",
       "0          619    France  Female   42       2       0.00              1   \n",
       "1          608     Spain  Female   41       1   83807.86              1   \n",
       "2          502    France  Female   42       8  159660.80              3   \n",
       "3          699    France  Female   39       1       0.00              2   \n",
       "4          850     Spain  Female   43       2  125510.82              1   \n",
       "5          645     Spain    Male   44       8  113755.78              2   \n",
       "\n",
       "   HasCrCard  IsActiveMember  EstimatedSalary  Exited  \n",
       "0          1               1        101348.88       1  \n",
       "1          0               1        112542.58       0  \n",
       "2          1               0        113931.57       1  \n",
       "3          0               0         93826.63       0  \n",
       "4          1               1         79084.10       0  \n",
       "5          1               0        149756.71       1  "
      ]
     },
     "execution_count": 33,
     "metadata": {},
     "output_type": "execute_result"
    }
   ],
   "source": [
    "df.head(6)"
   ]
  },
  {
   "cell_type": "markdown",
   "metadata": {},
   "source": [
    "##### splitting data into train and test set"
   ]
  },
  {
   "cell_type": "code",
   "execution_count": 34,
   "metadata": {},
   "outputs": [
    {
     "name": "stdout",
     "output_type": "stream",
     "text": [
      "(10000, 9)\n",
      "(8000, 9)\n",
      "(2000, 9)\n",
      "(10000,)\n",
      "(8000,)\n",
      "(2000,)\n"
     ]
    }
   ],
   "source": [
    "from sklearn.model_selection import train_test_split\n",
    "xtrain,xtest,ytrain,ytest=train_test_split(x2,y,test_size=0.2,random_state=5)\n",
    "print(x2.shape)\n",
    "print(xtrain.shape)\n",
    "print(xtest.shape)\n",
    "print(y.shape)\n",
    "print(ytrain.shape)\n",
    "print(ytest.shape)"
   ]
  },
  {
   "cell_type": "markdown",
   "metadata": {},
   "source": [
    "## Apply Machine Learning - Logistic Regression"
   ]
  },
  {
   "cell_type": "code",
   "execution_count": 35,
   "metadata": {},
   "outputs": [],
   "source": [
    "from sklearn.linear_model import LogisticRegression\n",
    "\n",
    "model = LogisticRegression()"
   ]
  },
  {
   "cell_type": "code",
   "execution_count": 36,
   "metadata": {},
   "outputs": [
    {
     "name": "stderr",
     "output_type": "stream",
     "text": [
      "C:\\ProgramData\\Anaconda3\\lib\\site-packages\\sklearn\\linear_model\\logistic.py:432: FutureWarning: Default solver will be changed to 'lbfgs' in 0.22. Specify a solver to silence this warning.\n",
      "  FutureWarning)\n"
     ]
    },
    {
     "data": {
      "text/plain": [
       "LogisticRegression(C=1.0, class_weight=None, dual=False, fit_intercept=True,\n",
       "                   intercept_scaling=1, l1_ratio=None, max_iter=100,\n",
       "                   multi_class='warn', n_jobs=None, penalty='l2',\n",
       "                   random_state=None, solver='warn', tol=0.0001, verbose=0,\n",
       "                   warm_start=False)"
      ]
     },
     "execution_count": 36,
     "metadata": {},
     "output_type": "execute_result"
    }
   ],
   "source": [
    "#train the model using training data\n",
    "model.fit(xtrain,ytrain)"
   ]
  },
  {
   "cell_type": "markdown",
   "metadata": {},
   "source": [
    "# Performance Analysis"
   ]
  },
  {
   "cell_type": "code",
   "execution_count": 37,
   "metadata": {},
   "outputs": [],
   "source": [
    "new_customer = [[650,\"Germany\",1,51,456125,3,1]]\n",
    "new_customer = encoder.transform(new_customer)"
   ]
  },
  {
   "cell_type": "code",
   "execution_count": 38,
   "metadata": {},
   "outputs": [
    {
     "data": {
      "text/plain": [
       "array([0], dtype=int64)"
      ]
     },
     "execution_count": 38,
     "metadata": {},
     "output_type": "execute_result"
    }
   ],
   "source": [
    "model.predict(new_customer)"
   ]
  },
  {
   "cell_type": "code",
   "execution_count": 39,
   "metadata": {},
   "outputs": [
    {
     "data": {
      "text/plain": [
       "0.8095"
      ]
     },
     "execution_count": 39,
     "metadata": {},
     "output_type": "execute_result"
    }
   ],
   "source": [
    "# we will assess the performance of model using test data - xtest and ytest\n",
    "ypred = model.predict(xtest)\n",
    "from sklearn import metrics\n",
    "metrics.accuracy_score(ytest,ypred)"
   ]
  },
  {
   "cell_type": "code",
   "execution_count": 40,
   "metadata": {},
   "outputs": [
    {
     "data": {
      "text/plain": [
       "0.19012345679012346"
      ]
     },
     "execution_count": 40,
     "metadata": {},
     "output_type": "execute_result"
    }
   ],
   "source": [
    "metrics.recall_score(ytest,ypred)"
   ]
  },
  {
   "cell_type": "markdown",
   "metadata": {},
   "source": [
    "<img src = \"images/classification_2.png\">"
   ]
  },
  {
   "cell_type": "code",
   "execution_count": 41,
   "metadata": {},
   "outputs": [
    {
     "data": {
      "text/plain": [
       "array([[1542,   53],\n",
       "       [ 328,   77]], dtype=int64)"
      ]
     },
     "execution_count": 41,
     "metadata": {},
     "output_type": "execute_result"
    }
   ],
   "source": [
    "metrics.confusion_matrix(ytest,ypred)"
   ]
  },
  {
   "cell_type": "code",
   "execution_count": 42,
   "metadata": {},
   "outputs": [
    {
     "data": {
      "text/plain": [
       "0.28785046728971964"
      ]
     },
     "execution_count": 42,
     "metadata": {},
     "output_type": "execute_result"
    }
   ],
   "source": [
    "metrics.f1_score(ytest,ypred)"
   ]
  },
  {
   "cell_type": "markdown",
   "metadata": {},
   "source": [
    "# Decision Tree"
   ]
  },
  {
   "cell_type": "code",
   "execution_count": 43,
   "metadata": {},
   "outputs": [],
   "source": [
    "from sklearn.tree import DecisionTreeClassifier\n",
    "model2 = DecisionTreeClassifier(criterion=\"gini\")"
   ]
  },
  {
   "cell_type": "code",
   "execution_count": 44,
   "metadata": {
    "collapsed": true
   },
   "outputs": [
    {
     "data": {
      "text/plain": [
       "DecisionTreeClassifier(class_weight=None, criterion='gini', max_depth=None,\n",
       "                       max_features=None, max_leaf_nodes=None,\n",
       "                       min_impurity_decrease=0.0, min_impurity_split=None,\n",
       "                       min_samples_leaf=1, min_samples_split=2,\n",
       "                       min_weight_fraction_leaf=0.0, presort=False,\n",
       "                       random_state=None, splitter='best')"
      ]
     },
     "execution_count": 44,
     "metadata": {},
     "output_type": "execute_result"
    }
   ],
   "source": [
    "# train the model using train data - xtrain, ytrain\n",
    "model2.fit(xtrain,ytrain)"
   ]
  },
  {
   "cell_type": "code",
   "execution_count": 46,
   "metadata": {},
   "outputs": [
    {
     "data": {
      "text/plain": [
       "0.782"
      ]
     },
     "execution_count": 46,
     "metadata": {},
     "output_type": "execute_result"
    }
   ],
   "source": [
    "ypred2 = model2.predict(xtest)\n",
    "metrics.accuracy_score(ytest,ypred2)"
   ]
  },
  {
   "cell_type": "code",
   "execution_count": 47,
   "metadata": {},
   "outputs": [
    {
     "data": {
      "text/plain": [
       "0.5061728395061729"
      ]
     },
     "execution_count": 47,
     "metadata": {},
     "output_type": "execute_result"
    }
   ],
   "source": [
    "metrics.recall_score(ytest,ypred2)"
   ]
  },
  {
   "cell_type": "markdown",
   "metadata": {},
   "source": [
    "## visualizing the tree\n"
   ]
  },
  {
   "cell_type": "code",
   "execution_count": 48,
   "metadata": {},
   "outputs": [
    {
     "data": {
      "text/plain": [
       "(10000, 9)"
      ]
     },
     "execution_count": 48,
     "metadata": {},
     "output_type": "execute_result"
    }
   ],
   "source": [
    "from sklearn.preprocessing import StandardScaler\n",
    "# Onehot encoding for geography\n",
    "encoder = ColumnTransformer([(\"ohe\",OneHotEncoder(),[1]) ],remainder='passthrough')\n",
    "encoder.fit(x)\n",
    "x2 = encoder.transform(x)\n",
    "x2.shape"
   ]
  },
  {
   "cell_type": "code",
   "execution_count": 52,
   "metadata": {},
   "outputs": [
    {
     "data": {
      "text/html": [
       "<div>\n",
       "<style scoped>\n",
       "    .dataframe tbody tr th:only-of-type {\n",
       "        vertical-align: middle;\n",
       "    }\n",
       "\n",
       "    .dataframe tbody tr th {\n",
       "        vertical-align: top;\n",
       "    }\n",
       "\n",
       "    .dataframe thead th {\n",
       "        text-align: right;\n",
       "    }\n",
       "</style>\n",
       "<table border=\"1\" class=\"dataframe\">\n",
       "  <thead>\n",
       "    <tr style=\"text-align: right;\">\n",
       "      <th></th>\n",
       "      <th>0</th>\n",
       "      <th>1</th>\n",
       "      <th>2</th>\n",
       "      <th>3</th>\n",
       "      <th>4</th>\n",
       "      <th>5</th>\n",
       "      <th>6</th>\n",
       "      <th>7</th>\n",
       "      <th>8</th>\n",
       "    </tr>\n",
       "  </thead>\n",
       "  <tbody>\n",
       "    <tr>\n",
       "      <td>0</td>\n",
       "      <td>1.0</td>\n",
       "      <td>0.0</td>\n",
       "      <td>0.0</td>\n",
       "      <td>619.0</td>\n",
       "      <td>0.0</td>\n",
       "      <td>42.0</td>\n",
       "      <td>0.00</td>\n",
       "      <td>1.0</td>\n",
       "      <td>1.0</td>\n",
       "    </tr>\n",
       "    <tr>\n",
       "      <td>1</td>\n",
       "      <td>0.0</td>\n",
       "      <td>0.0</td>\n",
       "      <td>1.0</td>\n",
       "      <td>608.0</td>\n",
       "      <td>0.0</td>\n",
       "      <td>41.0</td>\n",
       "      <td>83807.86</td>\n",
       "      <td>1.0</td>\n",
       "      <td>1.0</td>\n",
       "    </tr>\n",
       "    <tr>\n",
       "      <td>2</td>\n",
       "      <td>1.0</td>\n",
       "      <td>0.0</td>\n",
       "      <td>0.0</td>\n",
       "      <td>502.0</td>\n",
       "      <td>0.0</td>\n",
       "      <td>42.0</td>\n",
       "      <td>159660.80</td>\n",
       "      <td>3.0</td>\n",
       "      <td>0.0</td>\n",
       "    </tr>\n",
       "    <tr>\n",
       "      <td>3</td>\n",
       "      <td>1.0</td>\n",
       "      <td>0.0</td>\n",
       "      <td>0.0</td>\n",
       "      <td>699.0</td>\n",
       "      <td>0.0</td>\n",
       "      <td>39.0</td>\n",
       "      <td>0.00</td>\n",
       "      <td>2.0</td>\n",
       "      <td>0.0</td>\n",
       "    </tr>\n",
       "    <tr>\n",
       "      <td>4</td>\n",
       "      <td>0.0</td>\n",
       "      <td>0.0</td>\n",
       "      <td>1.0</td>\n",
       "      <td>850.0</td>\n",
       "      <td>0.0</td>\n",
       "      <td>43.0</td>\n",
       "      <td>125510.82</td>\n",
       "      <td>1.0</td>\n",
       "      <td>1.0</td>\n",
       "    </tr>\n",
       "  </tbody>\n",
       "</table>\n",
       "</div>"
      ],
      "text/plain": [
       "     0    1    2      3    4     5          6    7    8\n",
       "0  1.0  0.0  0.0  619.0  0.0  42.0       0.00  1.0  1.0\n",
       "1  0.0  0.0  1.0  608.0  0.0  41.0   83807.86  1.0  1.0\n",
       "2  1.0  0.0  0.0  502.0  0.0  42.0  159660.80  3.0  0.0\n",
       "3  1.0  0.0  0.0  699.0  0.0  39.0       0.00  2.0  0.0\n",
       "4  0.0  0.0  1.0  850.0  0.0  43.0  125510.82  1.0  1.0"
      ]
     },
     "execution_count": 52,
     "metadata": {},
     "output_type": "execute_result"
    }
   ],
   "source": [
    "pd.DataFrame(x2).head()"
   ]
  },
  {
   "cell_type": "code",
   "execution_count": 49,
   "metadata": {
    "collapsed": true
   },
   "outputs": [
    {
     "name": "stdout",
     "output_type": "stream",
     "text": [
      "(10000, 9)\n",
      "(8000, 9)\n",
      "(2000, 9)\n",
      "(10000,)\n",
      "(8000,)\n",
      "(2000,)\n"
     ]
    }
   ],
   "source": [
    "from sklearn.model_selection import train_test_split\n",
    "xtrain,xtest,ytrain,ytest=train_test_split(x2,y,test_size=0.2,random_state=5)\n",
    "print(x2.shape)\n",
    "print(xtrain.shape)\n",
    "print(xtest.shape)\n",
    "print(y.shape)\n",
    "print(ytrain.shape)\n",
    "print(ytest.shape)"
   ]
  },
  {
   "cell_type": "code",
   "execution_count": 51,
   "metadata": {},
   "outputs": [
    {
     "data": {
      "text/plain": [
       "Index(['CreditScore', 'Geography', 'Gender', 'Age', 'Tenure', 'Balance',\n",
       "       'NumOfProducts', 'HasCrCard', 'IsActiveMember', 'EstimatedSalary',\n",
       "       'Exited'],\n",
       "      dtype='object')"
      ]
     },
     "execution_count": 51,
     "metadata": {},
     "output_type": "execute_result"
    }
   ],
   "source": [
    "df.columns"
   ]
  },
  {
   "cell_type": "code",
   "execution_count": 54,
   "metadata": {},
   "outputs": [
    {
     "data": {
      "text/plain": [
       "DecisionTreeClassifier(class_weight=None, criterion='entropy', max_depth=8,\n",
       "                       max_features=None, max_leaf_nodes=30,\n",
       "                       min_impurity_decrease=0.0, min_impurity_split=None,\n",
       "                       min_samples_leaf=1, min_samples_split=2,\n",
       "                       min_weight_fraction_leaf=0.0, presort=False,\n",
       "                       random_state=None, splitter='best')"
      ]
     },
     "execution_count": 54,
     "metadata": {},
     "output_type": "execute_result"
    }
   ],
   "source": [
    "from sklearn.tree import DecisionTreeClassifier\n",
    "model3 = DecisionTreeClassifier(criterion=\"entropy\",max_depth=8,max_leaf_nodes=30)\n",
    "# train the model using train data - xtrain, ytrain\n",
    "model3.fit(xtrain,ytrain)"
   ]
  },
  {
   "cell_type": "code",
   "execution_count": 55,
   "metadata": {
    "collapsed": true
   },
   "outputs": [
    {
     "data": {
      "image/svg+xml": [
       "<?xml version=\"1.0\" encoding=\"UTF-8\" standalone=\"no\"?>\r\n",
       "<!DOCTYPE svg PUBLIC \"-//W3C//DTD SVG 1.1//EN\"\r\n",
       " \"http://www.w3.org/Graphics/SVG/1.1/DTD/svg11.dtd\">\r\n",
       "<!-- Generated by graphviz version 2.38.0 (20140413.2041)\r\n",
       " -->\r\n",
       "<!-- Title: Tree Pages: 1 -->\r\n",
       "<svg width=\"2190pt\" height=\"1028pt\"\r\n",
       " viewBox=\"0.00 0.00 2190.00 1028.00\" xmlns=\"http://www.w3.org/2000/svg\" xmlns:xlink=\"http://www.w3.org/1999/xlink\">\r\n",
       "<g id=\"graph0\" class=\"graph\" transform=\"scale(1 1) rotate(0) translate(4 1024)\">\r\n",
       "<title>Tree</title>\r\n",
       "<polygon fill=\"white\" stroke=\"none\" points=\"-4,4 -4,-1024 2186,-1024 2186,4 -4,4\"/>\r\n",
       "<!-- 0 -->\r\n",
       "<g id=\"node1\" class=\"node\"><title>0</title>\r\n",
       "<path fill=\"#eca16c\" stroke=\"black\" d=\"M1117.5,-1020C1117.5,-1020 995.5,-1020 995.5,-1020 989.5,-1020 983.5,-1014 983.5,-1008 983.5,-1008 983.5,-949 983.5,-949 983.5,-943 989.5,-937 995.5,-937 995.5,-937 1117.5,-937 1117.5,-937 1123.5,-937 1129.5,-943 1129.5,-949 1129.5,-949 1129.5,-1008 1129.5,-1008 1129.5,-1014 1123.5,-1020 1117.5,-1020\"/>\r\n",
       "<text text-anchor=\"middle\" x=\"1056.5\" y=\"-1004.8\" font-family=\"Helvetica,sans-Serif\" font-size=\"14.00\">Age &lt;= 42.5</text>\r\n",
       "<text text-anchor=\"middle\" x=\"1056.5\" y=\"-989.8\" font-family=\"Helvetica,sans-Serif\" font-size=\"14.00\">entropy = 0.73</text>\r\n",
       "<text text-anchor=\"middle\" x=\"1056.5\" y=\"-974.8\" font-family=\"Helvetica,sans-Serif\" font-size=\"14.00\">samples = 8000</text>\r\n",
       "<text text-anchor=\"middle\" x=\"1056.5\" y=\"-959.8\" font-family=\"Helvetica,sans-Serif\" font-size=\"14.00\">value = [6368, 1632]</text>\r\n",
       "<text text-anchor=\"middle\" x=\"1056.5\" y=\"-944.8\" font-family=\"Helvetica,sans-Serif\" font-size=\"14.00\">class = Not Exited</text>\r\n",
       "</g>\r\n",
       "<!-- 1 -->\r\n",
       "<g id=\"node2\" class=\"node\"><title>1</title>\r\n",
       "<path fill=\"#e89253\" stroke=\"black\" d=\"M1001,-901C1001,-901 862,-901 862,-901 856,-901 850,-895 850,-889 850,-889 850,-830 850,-830 850,-824 856,-818 862,-818 862,-818 1001,-818 1001,-818 1007,-818 1013,-824 1013,-830 1013,-830 1013,-889 1013,-889 1013,-895 1007,-901 1001,-901\"/>\r\n",
       "<text text-anchor=\"middle\" x=\"931.5\" y=\"-885.8\" font-family=\"Helvetica,sans-Serif\" font-size=\"14.00\">NumOfProducts &lt;= 2.5</text>\r\n",
       "<text text-anchor=\"middle\" x=\"931.5\" y=\"-870.8\" font-family=\"Helvetica,sans-Serif\" font-size=\"14.00\">entropy = 0.521</text>\r\n",
       "<text text-anchor=\"middle\" x=\"931.5\" y=\"-855.8\" font-family=\"Helvetica,sans-Serif\" font-size=\"14.00\">samples = 5681</text>\r\n",
       "<text text-anchor=\"middle\" x=\"931.5\" y=\"-840.8\" font-family=\"Helvetica,sans-Serif\" font-size=\"14.00\">value = [5016, 665]</text>\r\n",
       "<text text-anchor=\"middle\" x=\"931.5\" y=\"-825.8\" font-family=\"Helvetica,sans-Serif\" font-size=\"14.00\">class = Not Exited</text>\r\n",
       "</g>\r\n",
       "<!-- 0&#45;&gt;1 -->\r\n",
       "<g id=\"edge1\" class=\"edge\"><title>0&#45;&gt;1</title>\r\n",
       "<path fill=\"none\" stroke=\"black\" d=\"M1013.13,-936.907C1003.15,-927.56 992.438,-917.538 982.172,-907.929\"/>\r\n",
       "<polygon fill=\"black\" stroke=\"black\" points=\"984.484,-905.299 974.791,-901.021 979.701,-910.41 984.484,-905.299\"/>\r\n",
       "<text text-anchor=\"middle\" x=\"975.617\" y=\"-922.307\" font-family=\"Helvetica,sans-Serif\" font-size=\"14.00\">True</text>\r\n",
       "</g>\r\n",
       "<!-- 2 -->\r\n",
       "<g id=\"node25\" class=\"node\"><title>2</title>\r\n",
       "<path fill=\"#f8dbc7\" stroke=\"black\" d=\"M1251.5,-901C1251.5,-901 1111.5,-901 1111.5,-901 1105.5,-901 1099.5,-895 1099.5,-889 1099.5,-889 1099.5,-830 1099.5,-830 1099.5,-824 1105.5,-818 1111.5,-818 1111.5,-818 1251.5,-818 1251.5,-818 1257.5,-818 1263.5,-824 1263.5,-830 1263.5,-830 1263.5,-889 1263.5,-889 1263.5,-895 1257.5,-901 1251.5,-901\"/>\r\n",
       "<text text-anchor=\"middle\" x=\"1181.5\" y=\"-885.8\" font-family=\"Helvetica,sans-Serif\" font-size=\"14.00\">IsActiveMember &lt;= 0.5</text>\r\n",
       "<text text-anchor=\"middle\" x=\"1181.5\" y=\"-870.8\" font-family=\"Helvetica,sans-Serif\" font-size=\"14.00\">entropy = 0.98</text>\r\n",
       "<text text-anchor=\"middle\" x=\"1181.5\" y=\"-855.8\" font-family=\"Helvetica,sans-Serif\" font-size=\"14.00\">samples = 2319</text>\r\n",
       "<text text-anchor=\"middle\" x=\"1181.5\" y=\"-840.8\" font-family=\"Helvetica,sans-Serif\" font-size=\"14.00\">value = [1352, 967]</text>\r\n",
       "<text text-anchor=\"middle\" x=\"1181.5\" y=\"-825.8\" font-family=\"Helvetica,sans-Serif\" font-size=\"14.00\">class = Not Exited</text>\r\n",
       "</g>\r\n",
       "<!-- 0&#45;&gt;2 -->\r\n",
       "<g id=\"edge24\" class=\"edge\"><title>0&#45;&gt;2</title>\r\n",
       "<path fill=\"none\" stroke=\"black\" d=\"M1099.87,-936.907C1109.85,-927.56 1120.56,-917.538 1130.83,-907.929\"/>\r\n",
       "<polygon fill=\"black\" stroke=\"black\" points=\"1133.3,-910.41 1138.21,-901.021 1128.52,-905.299 1133.3,-910.41\"/>\r\n",
       "<text text-anchor=\"middle\" x=\"1137.38\" y=\"-922.307\" font-family=\"Helvetica,sans-Serif\" font-size=\"14.00\">False</text>\r\n",
       "</g>\r\n",
       "<!-- 3 -->\r\n",
       "<g id=\"node3\" class=\"node\"><title>3</title>\r\n",
       "<path fill=\"#e88f50\" stroke=\"black\" d=\"M713,-782C713,-782 574,-782 574,-782 568,-782 562,-776 562,-770 562,-770 562,-711 562,-711 562,-705 568,-699 574,-699 574,-699 713,-699 713,-699 719,-699 725,-705 725,-711 725,-711 725,-770 725,-770 725,-776 719,-782 713,-782\"/>\r\n",
       "<text text-anchor=\"middle\" x=\"643.5\" y=\"-766.8\" font-family=\"Helvetica,sans-Serif\" font-size=\"14.00\">NumOfProducts &lt;= 1.5</text>\r\n",
       "<text text-anchor=\"middle\" x=\"643.5\" y=\"-751.8\" font-family=\"Helvetica,sans-Serif\" font-size=\"14.00\">entropy = 0.478</text>\r\n",
       "<text text-anchor=\"middle\" x=\"643.5\" y=\"-736.8\" font-family=\"Helvetica,sans-Serif\" font-size=\"14.00\">samples = 5556</text>\r\n",
       "<text text-anchor=\"middle\" x=\"643.5\" y=\"-721.8\" font-family=\"Helvetica,sans-Serif\" font-size=\"14.00\">value = [4985, 571]</text>\r\n",
       "<text text-anchor=\"middle\" x=\"643.5\" y=\"-706.8\" font-family=\"Helvetica,sans-Serif\" font-size=\"14.00\">class = Not Exited</text>\r\n",
       "</g>\r\n",
       "<!-- 1&#45;&gt;3 -->\r\n",
       "<g id=\"edge2\" class=\"edge\"><title>1&#45;&gt;3</title>\r\n",
       "<path fill=\"none\" stroke=\"black\" d=\"M849.741,-825.285C814.019,-810.773 771.969,-793.691 735.189,-778.749\"/>\r\n",
       "<polygon fill=\"black\" stroke=\"black\" points=\"736.045,-775.319 725.463,-774.798 733.411,-781.804 736.045,-775.319\"/>\r\n",
       "</g>\r\n",
       "<!-- 4 -->\r\n",
       "<g id=\"node22\" class=\"node\"><title>4</title>\r\n",
       "<path fill=\"#7abdee\" stroke=\"black\" d=\"M1000,-782C1000,-782 863,-782 863,-782 857,-782 851,-776 851,-770 851,-770 851,-711 851,-711 851,-705 857,-699 863,-699 863,-699 1000,-699 1000,-699 1006,-699 1012,-705 1012,-711 1012,-711 1012,-770 1012,-770 1012,-776 1006,-782 1000,-782\"/>\r\n",
       "<text text-anchor=\"middle\" x=\"931.5\" y=\"-766.8\" font-family=\"Helvetica,sans-Serif\" font-size=\"14.00\">Balance &lt;= 62066.145</text>\r\n",
       "<text text-anchor=\"middle\" x=\"931.5\" y=\"-751.8\" font-family=\"Helvetica,sans-Serif\" font-size=\"14.00\">entropy = 0.808</text>\r\n",
       "<text text-anchor=\"middle\" x=\"931.5\" y=\"-736.8\" font-family=\"Helvetica,sans-Serif\" font-size=\"14.00\">samples = 125</text>\r\n",
       "<text text-anchor=\"middle\" x=\"931.5\" y=\"-721.8\" font-family=\"Helvetica,sans-Serif\" font-size=\"14.00\">value = [31, 94]</text>\r\n",
       "<text text-anchor=\"middle\" x=\"931.5\" y=\"-706.8\" font-family=\"Helvetica,sans-Serif\" font-size=\"14.00\">class = Exited</text>\r\n",
       "</g>\r\n",
       "<!-- 1&#45;&gt;4 -->\r\n",
       "<g id=\"edge21\" class=\"edge\"><title>1&#45;&gt;4</title>\r\n",
       "<path fill=\"none\" stroke=\"black\" d=\"M931.5,-817.907C931.5,-809.649 931.5,-800.864 931.5,-792.302\"/>\r\n",
       "<polygon fill=\"black\" stroke=\"black\" points=\"935,-792.021 931.5,-782.021 928,-792.021 935,-792.021\"/>\r\n",
       "</g>\r\n",
       "<!-- 5 -->\r\n",
       "<g id=\"node4\" class=\"node\"><title>5</title>\r\n",
       "<path fill=\"#ea9a61\" stroke=\"black\" d=\"M526.5,-663C526.5,-663 412.5,-663 412.5,-663 406.5,-663 400.5,-657 400.5,-651 400.5,-651 400.5,-592 400.5,-592 400.5,-586 406.5,-580 412.5,-580 412.5,-580 526.5,-580 526.5,-580 532.5,-580 538.5,-586 538.5,-592 538.5,-592 538.5,-651 538.5,-651 538.5,-657 532.5,-663 526.5,-663\"/>\r\n",
       "<text text-anchor=\"middle\" x=\"469.5\" y=\"-647.8\" font-family=\"Helvetica,sans-Serif\" font-size=\"14.00\">Germany &lt;= 0.5</text>\r\n",
       "<text text-anchor=\"middle\" x=\"469.5\" y=\"-632.8\" font-family=\"Helvetica,sans-Serif\" font-size=\"14.00\">entropy = 0.65</text>\r\n",
       "<text text-anchor=\"middle\" x=\"469.5\" y=\"-617.8\" font-family=\"Helvetica,sans-Serif\" font-size=\"14.00\">samples = 2762</text>\r\n",
       "<text text-anchor=\"middle\" x=\"469.5\" y=\"-602.8\" font-family=\"Helvetica,sans-Serif\" font-size=\"14.00\">value = [2302, 460]</text>\r\n",
       "<text text-anchor=\"middle\" x=\"469.5\" y=\"-587.8\" font-family=\"Helvetica,sans-Serif\" font-size=\"14.00\">class = Not Exited</text>\r\n",
       "</g>\r\n",
       "<!-- 3&#45;&gt;5 -->\r\n",
       "<g id=\"edge3\" class=\"edge\"><title>3&#45;&gt;5</title>\r\n",
       "<path fill=\"none\" stroke=\"black\" d=\"M583.132,-698.907C568.691,-689.197 553.166,-678.758 538.373,-668.811\"/>\r\n",
       "<polygon fill=\"black\" stroke=\"black\" points=\"540.013,-665.696 529.762,-663.021 536.107,-671.505 540.013,-665.696\"/>\r\n",
       "</g>\r\n",
       "<!-- 6 -->\r\n",
       "<g id=\"node19\" class=\"node\"><title>6</title>\r\n",
       "<path fill=\"#e68641\" stroke=\"black\" d=\"M712,-663C712,-663 575,-663 575,-663 569,-663 563,-657 563,-651 563,-651 563,-592 563,-592 563,-586 569,-580 575,-580 575,-580 712,-580 712,-580 718,-580 724,-586 724,-592 724,-592 724,-651 724,-651 724,-657 718,-663 712,-663\"/>\r\n",
       "<text text-anchor=\"middle\" x=\"643.5\" y=\"-647.8\" font-family=\"Helvetica,sans-Serif\" font-size=\"14.00\">Balance &lt;= 67817.895</text>\r\n",
       "<text text-anchor=\"middle\" x=\"643.5\" y=\"-632.8\" font-family=\"Helvetica,sans-Serif\" font-size=\"14.00\">entropy = 0.241</text>\r\n",
       "<text text-anchor=\"middle\" x=\"643.5\" y=\"-617.8\" font-family=\"Helvetica,sans-Serif\" font-size=\"14.00\">samples = 2794</text>\r\n",
       "<text text-anchor=\"middle\" x=\"643.5\" y=\"-602.8\" font-family=\"Helvetica,sans-Serif\" font-size=\"14.00\">value = [2683, 111]</text>\r\n",
       "<text text-anchor=\"middle\" x=\"643.5\" y=\"-587.8\" font-family=\"Helvetica,sans-Serif\" font-size=\"14.00\">class = Not Exited</text>\r\n",
       "</g>\r\n",
       "<!-- 3&#45;&gt;6 -->\r\n",
       "<g id=\"edge18\" class=\"edge\"><title>3&#45;&gt;6</title>\r\n",
       "<path fill=\"none\" stroke=\"black\" d=\"M643.5,-698.907C643.5,-690.649 643.5,-681.864 643.5,-673.302\"/>\r\n",
       "<polygon fill=\"black\" stroke=\"black\" points=\"647,-673.021 643.5,-663.021 640,-673.021 647,-673.021\"/>\r\n",
       "</g>\r\n",
       "<!-- 19 -->\r\n",
       "<g id=\"node5\" class=\"node\"><title>19</title>\r\n",
       "<path fill=\"#e99558\" stroke=\"black\" d=\"M356,-544C356,-544 219,-544 219,-544 213,-544 207,-538 207,-532 207,-532 207,-473 207,-473 207,-467 213,-461 219,-461 219,-461 356,-461 356,-461 362,-461 368,-467 368,-473 368,-473 368,-532 368,-532 368,-538 362,-544 356,-544\"/>\r\n",
       "<text text-anchor=\"middle\" x=\"287.5\" y=\"-528.8\" font-family=\"Helvetica,sans-Serif\" font-size=\"14.00\">Balance &lt;= 74197.941</text>\r\n",
       "<text text-anchor=\"middle\" x=\"287.5\" y=\"-513.8\" font-family=\"Helvetica,sans-Serif\" font-size=\"14.00\">entropy = 0.573</text>\r\n",
       "<text text-anchor=\"middle\" x=\"287.5\" y=\"-498.8\" font-family=\"Helvetica,sans-Serif\" font-size=\"14.00\">samples = 2087</text>\r\n",
       "<text text-anchor=\"middle\" x=\"287.5\" y=\"-483.8\" font-family=\"Helvetica,sans-Serif\" font-size=\"14.00\">value = [1804, 283]</text>\r\n",
       "<text text-anchor=\"middle\" x=\"287.5\" y=\"-468.8\" font-family=\"Helvetica,sans-Serif\" font-size=\"14.00\">class = Not Exited</text>\r\n",
       "</g>\r\n",
       "<!-- 5&#45;&gt;19 -->\r\n",
       "<g id=\"edge4\" class=\"edge\"><title>5&#45;&gt;19</title>\r\n",
       "<path fill=\"none\" stroke=\"black\" d=\"M406.356,-579.907C391.11,-570.106 374.709,-559.563 359.106,-549.533\"/>\r\n",
       "<polygon fill=\"black\" stroke=\"black\" points=\"360.837,-546.484 350.532,-544.021 357.052,-552.373 360.837,-546.484\"/>\r\n",
       "</g>\r\n",
       "<!-- 20 -->\r\n",
       "<g id=\"node12\" class=\"node\"><title>20</title>\r\n",
       "<path fill=\"#eeae7f\" stroke=\"black\" d=\"M523,-544C523,-544 416,-544 416,-544 410,-544 404,-538 404,-532 404,-532 404,-473 404,-473 404,-467 410,-461 416,-461 416,-461 523,-461 523,-461 529,-461 535,-467 535,-473 535,-473 535,-532 535,-532 535,-538 529,-544 523,-544\"/>\r\n",
       "<text text-anchor=\"middle\" x=\"469.5\" y=\"-528.8\" font-family=\"Helvetica,sans-Serif\" font-size=\"14.00\">Age &lt;= 33.5</text>\r\n",
       "<text text-anchor=\"middle\" x=\"469.5\" y=\"-513.8\" font-family=\"Helvetica,sans-Serif\" font-size=\"14.00\">entropy = 0.83</text>\r\n",
       "<text text-anchor=\"middle\" x=\"469.5\" y=\"-498.8\" font-family=\"Helvetica,sans-Serif\" font-size=\"14.00\">samples = 675</text>\r\n",
       "<text text-anchor=\"middle\" x=\"469.5\" y=\"-483.8\" font-family=\"Helvetica,sans-Serif\" font-size=\"14.00\">value = [498, 177]</text>\r\n",
       "<text text-anchor=\"middle\" x=\"469.5\" y=\"-468.8\" font-family=\"Helvetica,sans-Serif\" font-size=\"14.00\">class = Not Exited</text>\r\n",
       "</g>\r\n",
       "<!-- 5&#45;&gt;20 -->\r\n",
       "<g id=\"edge11\" class=\"edge\"><title>5&#45;&gt;20</title>\r\n",
       "<path fill=\"none\" stroke=\"black\" d=\"M469.5,-579.907C469.5,-571.649 469.5,-562.864 469.5,-554.302\"/>\r\n",
       "<polygon fill=\"black\" stroke=\"black\" points=\"473,-554.021 469.5,-544.021 466,-554.021 473,-554.021\"/>\r\n",
       "</g>\r\n",
       "<!-- 21 -->\r\n",
       "<g id=\"node6\" class=\"node\"><title>21</title>\r\n",
       "<path fill=\"#edaa79\" stroke=\"black\" d=\"M172,-417.5C172,-417.5 65,-417.5 65,-417.5 59,-417.5 53,-411.5 53,-405.5 53,-405.5 53,-361.5 53,-361.5 53,-355.5 59,-349.5 65,-349.5 65,-349.5 172,-349.5 172,-349.5 178,-349.5 184,-355.5 184,-361.5 184,-361.5 184,-405.5 184,-405.5 184,-411.5 178,-417.5 172,-417.5\"/>\r\n",
       "<text text-anchor=\"middle\" x=\"118.5\" y=\"-402.3\" font-family=\"Helvetica,sans-Serif\" font-size=\"14.00\">entropy = 0.803</text>\r\n",
       "<text text-anchor=\"middle\" x=\"118.5\" y=\"-387.3\" font-family=\"Helvetica,sans-Serif\" font-size=\"14.00\">samples = 556</text>\r\n",
       "<text text-anchor=\"middle\" x=\"118.5\" y=\"-372.3\" font-family=\"Helvetica,sans-Serif\" font-size=\"14.00\">value = [420, 136]</text>\r\n",
       "<text text-anchor=\"middle\" x=\"118.5\" y=\"-357.3\" font-family=\"Helvetica,sans-Serif\" font-size=\"14.00\">class = Not Exited</text>\r\n",
       "</g>\r\n",
       "<!-- 19&#45;&gt;21 -->\r\n",
       "<g id=\"edge5\" class=\"edge\"><title>19&#45;&gt;21</title>\r\n",
       "<path fill=\"none\" stroke=\"black\" d=\"M228.866,-460.907C211.334,-448.769 192.157,-435.493 174.779,-423.462\"/>\r\n",
       "<polygon fill=\"black\" stroke=\"black\" points=\"176.622,-420.481 166.408,-417.667 172.637,-426.237 176.622,-420.481\"/>\r\n",
       "</g>\r\n",
       "<!-- 22 -->\r\n",
       "<g id=\"node7\" class=\"node\"><title>22</title>\r\n",
       "<path fill=\"#e88e4e\" stroke=\"black\" d=\"M360.5,-425C360.5,-425 214.5,-425 214.5,-425 208.5,-425 202.5,-419 202.5,-413 202.5,-413 202.5,-354 202.5,-354 202.5,-348 208.5,-342 214.5,-342 214.5,-342 360.5,-342 360.5,-342 366.5,-342 372.5,-348 372.5,-354 372.5,-354 372.5,-413 372.5,-413 372.5,-419 366.5,-425 360.5,-425\"/>\r\n",
       "<text text-anchor=\"middle\" x=\"287.5\" y=\"-409.8\" font-family=\"Helvetica,sans-Serif\" font-size=\"14.00\">Balance &lt;= 177775.578</text>\r\n",
       "<text text-anchor=\"middle\" x=\"287.5\" y=\"-394.8\" font-family=\"Helvetica,sans-Serif\" font-size=\"14.00\">entropy = 0.456</text>\r\n",
       "<text text-anchor=\"middle\" x=\"287.5\" y=\"-379.8\" font-family=\"Helvetica,sans-Serif\" font-size=\"14.00\">samples = 1531</text>\r\n",
       "<text text-anchor=\"middle\" x=\"287.5\" y=\"-364.8\" font-family=\"Helvetica,sans-Serif\" font-size=\"14.00\">value = [1384, 147]</text>\r\n",
       "<text text-anchor=\"middle\" x=\"287.5\" y=\"-349.8\" font-family=\"Helvetica,sans-Serif\" font-size=\"14.00\">class = Not Exited</text>\r\n",
       "</g>\r\n",
       "<!-- 19&#45;&gt;22 -->\r\n",
       "<g id=\"edge6\" class=\"edge\"><title>19&#45;&gt;22</title>\r\n",
       "<path fill=\"none\" stroke=\"black\" d=\"M287.5,-460.907C287.5,-452.649 287.5,-443.864 287.5,-435.302\"/>\r\n",
       "<polygon fill=\"black\" stroke=\"black\" points=\"291,-435.021 287.5,-425.021 284,-435.021 291,-435.021\"/>\r\n",
       "</g>\r\n",
       "<!-- 33 -->\r\n",
       "<g id=\"node8\" class=\"node\"><title>33</title>\r\n",
       "<path fill=\"#e78d4c\" stroke=\"black\" d=\"M196.5,-306C196.5,-306 82.5,-306 82.5,-306 76.5,-306 70.5,-300 70.5,-294 70.5,-294 70.5,-235 70.5,-235 70.5,-229 76.5,-223 82.5,-223 82.5,-223 196.5,-223 196.5,-223 202.5,-223 208.5,-229 208.5,-235 208.5,-235 208.5,-294 208.5,-294 208.5,-300 202.5,-306 196.5,-306\"/>\r\n",
       "<text text-anchor=\"middle\" x=\"139.5\" y=\"-290.8\" font-family=\"Helvetica,sans-Serif\" font-size=\"14.00\">Age &lt;= 35.5</text>\r\n",
       "<text text-anchor=\"middle\" x=\"139.5\" y=\"-275.8\" font-family=\"Helvetica,sans-Serif\" font-size=\"14.00\">entropy = 0.424</text>\r\n",
       "<text text-anchor=\"middle\" x=\"139.5\" y=\"-260.8\" font-family=\"Helvetica,sans-Serif\" font-size=\"14.00\">samples = 1474</text>\r\n",
       "<text text-anchor=\"middle\" x=\"139.5\" y=\"-245.8\" font-family=\"Helvetica,sans-Serif\" font-size=\"14.00\">value = [1347, 127]</text>\r\n",
       "<text text-anchor=\"middle\" x=\"139.5\" y=\"-230.8\" font-family=\"Helvetica,sans-Serif\" font-size=\"14.00\">class = Not Exited</text>\r\n",
       "</g>\r\n",
       "<!-- 22&#45;&gt;33 -->\r\n",
       "<g id=\"edge7\" class=\"edge\"><title>22&#45;&gt;33</title>\r\n",
       "<path fill=\"none\" stroke=\"black\" d=\"M236.152,-341.907C224.099,-332.379 211.158,-322.148 198.788,-312.37\"/>\r\n",
       "<polygon fill=\"black\" stroke=\"black\" points=\"200.772,-309.477 190.757,-306.021 196.431,-314.968 200.772,-309.477\"/>\r\n",
       "</g>\r\n",
       "<!-- 34 -->\r\n",
       "<g id=\"node11\" class=\"node\"><title>34</title>\r\n",
       "<path fill=\"#f3c5a4\" stroke=\"black\" d=\"M346,-298.5C346,-298.5 239,-298.5 239,-298.5 233,-298.5 227,-292.5 227,-286.5 227,-286.5 227,-242.5 227,-242.5 227,-236.5 233,-230.5 239,-230.5 239,-230.5 346,-230.5 346,-230.5 352,-230.5 358,-236.5 358,-242.5 358,-242.5 358,-286.5 358,-286.5 358,-292.5 352,-298.5 346,-298.5\"/>\r\n",
       "<text text-anchor=\"middle\" x=\"292.5\" y=\"-283.3\" font-family=\"Helvetica,sans-Serif\" font-size=\"14.00\">entropy = 0.935</text>\r\n",
       "<text text-anchor=\"middle\" x=\"292.5\" y=\"-268.3\" font-family=\"Helvetica,sans-Serif\" font-size=\"14.00\">samples = 57</text>\r\n",
       "<text text-anchor=\"middle\" x=\"292.5\" y=\"-253.3\" font-family=\"Helvetica,sans-Serif\" font-size=\"14.00\">value = [37, 20]</text>\r\n",
       "<text text-anchor=\"middle\" x=\"292.5\" y=\"-238.3\" font-family=\"Helvetica,sans-Serif\" font-size=\"14.00\">class = Not Exited</text>\r\n",
       "</g>\r\n",
       "<!-- 22&#45;&gt;34 -->\r\n",
       "<g id=\"edge10\" class=\"edge\"><title>22&#45;&gt;34</title>\r\n",
       "<path fill=\"none\" stroke=\"black\" d=\"M289.235,-341.907C289.692,-331.204 290.187,-319.615 290.651,-308.776\"/>\r\n",
       "<polygon fill=\"black\" stroke=\"black\" points=\"294.152,-308.807 291.083,-298.667 287.159,-308.508 294.152,-308.807\"/>\r\n",
       "</g>\r\n",
       "<!-- 41 -->\r\n",
       "<g id=\"node9\" class=\"node\"><title>41</title>\r\n",
       "<path fill=\"#e78844\" stroke=\"black\" d=\"M119,-179.5C119,-179.5 12,-179.5 12,-179.5 6,-179.5 0,-173.5 0,-167.5 0,-167.5 0,-123.5 0,-123.5 0,-117.5 6,-111.5 12,-111.5 12,-111.5 119,-111.5 119,-111.5 125,-111.5 131,-117.5 131,-123.5 131,-123.5 131,-167.5 131,-167.5 131,-173.5 125,-179.5 119,-179.5\"/>\r\n",
       "<text text-anchor=\"middle\" x=\"65.5\" y=\"-164.3\" font-family=\"Helvetica,sans-Serif\" font-size=\"14.00\">entropy = 0.306</text>\r\n",
       "<text text-anchor=\"middle\" x=\"65.5\" y=\"-149.3\" font-family=\"Helvetica,sans-Serif\" font-size=\"14.00\">samples = 861</text>\r\n",
       "<text text-anchor=\"middle\" x=\"65.5\" y=\"-134.3\" font-family=\"Helvetica,sans-Serif\" font-size=\"14.00\">value = [814, 47]</text>\r\n",
       "<text text-anchor=\"middle\" x=\"65.5\" y=\"-119.3\" font-family=\"Helvetica,sans-Serif\" font-size=\"14.00\">class = Not Exited</text>\r\n",
       "</g>\r\n",
       "<!-- 33&#45;&gt;41 -->\r\n",
       "<g id=\"edge8\" class=\"edge\"><title>33&#45;&gt;41</title>\r\n",
       "<path fill=\"none\" stroke=\"black\" d=\"M113.826,-222.907C106.777,-211.763 99.1214,-199.658 92.0256,-188.439\"/>\r\n",
       "<polygon fill=\"black\" stroke=\"black\" points=\"94.7808,-186.248 86.4774,-179.667 88.8648,-189.989 94.7808,-186.248\"/>\r\n",
       "</g>\r\n",
       "<!-- 42 -->\r\n",
       "<g id=\"node10\" class=\"node\"><title>42</title>\r\n",
       "<path fill=\"#e99457\" stroke=\"black\" d=\"M268,-179.5C268,-179.5 161,-179.5 161,-179.5 155,-179.5 149,-173.5 149,-167.5 149,-167.5 149,-123.5 149,-123.5 149,-117.5 155,-111.5 161,-111.5 161,-111.5 268,-111.5 268,-111.5 274,-111.5 280,-117.5 280,-123.5 280,-123.5 280,-167.5 280,-167.5 280,-173.5 274,-179.5 268,-179.5\"/>\r\n",
       "<text text-anchor=\"middle\" x=\"214.5\" y=\"-164.3\" font-family=\"Helvetica,sans-Serif\" font-size=\"14.00\">entropy = 0.559</text>\r\n",
       "<text text-anchor=\"middle\" x=\"214.5\" y=\"-149.3\" font-family=\"Helvetica,sans-Serif\" font-size=\"14.00\">samples = 613</text>\r\n",
       "<text text-anchor=\"middle\" x=\"214.5\" y=\"-134.3\" font-family=\"Helvetica,sans-Serif\" font-size=\"14.00\">value = [533, 80]</text>\r\n",
       "<text text-anchor=\"middle\" x=\"214.5\" y=\"-119.3\" font-family=\"Helvetica,sans-Serif\" font-size=\"14.00\">class = Not Exited</text>\r\n",
       "</g>\r\n",
       "<!-- 33&#45;&gt;42 -->\r\n",
       "<g id=\"edge9\" class=\"edge\"><title>33&#45;&gt;42</title>\r\n",
       "<path fill=\"none\" stroke=\"black\" d=\"M165.521,-222.907C172.736,-211.652 180.578,-199.418 187.829,-188.106\"/>\r\n",
       "<polygon fill=\"black\" stroke=\"black\" points=\"190.789,-189.975 193.239,-179.667 184.896,-186.197 190.789,-189.975\"/>\r\n",
       "</g>\r\n",
       "<!-- 39 -->\r\n",
       "<g id=\"node13\" class=\"node\"><title>39</title>\r\n",
       "<path fill=\"#ea9a61\" stroke=\"black\" d=\"M510,-417.5C510,-417.5 403,-417.5 403,-417.5 397,-417.5 391,-411.5 391,-405.5 391,-405.5 391,-361.5 391,-361.5 391,-355.5 397,-349.5 403,-349.5 403,-349.5 510,-349.5 510,-349.5 516,-349.5 522,-355.5 522,-361.5 522,-361.5 522,-405.5 522,-405.5 522,-411.5 516,-417.5 510,-417.5\"/>\r\n",
       "<text text-anchor=\"middle\" x=\"456.5\" y=\"-402.3\" font-family=\"Helvetica,sans-Serif\" font-size=\"14.00\">entropy = 0.654</text>\r\n",
       "<text text-anchor=\"middle\" x=\"456.5\" y=\"-387.3\" font-family=\"Helvetica,sans-Serif\" font-size=\"14.00\">samples = 315</text>\r\n",
       "<text text-anchor=\"middle\" x=\"456.5\" y=\"-372.3\" font-family=\"Helvetica,sans-Serif\" font-size=\"14.00\">value = [262, 53]</text>\r\n",
       "<text text-anchor=\"middle\" x=\"456.5\" y=\"-357.3\" font-family=\"Helvetica,sans-Serif\" font-size=\"14.00\">class = Not Exited</text>\r\n",
       "</g>\r\n",
       "<!-- 20&#45;&gt;39 -->\r\n",
       "<g id=\"edge12\" class=\"edge\"><title>20&#45;&gt;39</title>\r\n",
       "<path fill=\"none\" stroke=\"black\" d=\"M464.99,-460.907C463.8,-450.204 462.513,-438.615 461.308,-427.776\"/>\r\n",
       "<polygon fill=\"black\" stroke=\"black\" points=\"464.768,-427.219 460.185,-417.667 457.811,-427.992 464.768,-427.219\"/>\r\n",
       "</g>\r\n",
       "<!-- 40 -->\r\n",
       "<g id=\"node14\" class=\"node\"><title>40</title>\r\n",
       "<path fill=\"#f3c3a1\" stroke=\"black\" d=\"M698.5,-425C698.5,-425 552.5,-425 552.5,-425 546.5,-425 540.5,-419 540.5,-413 540.5,-413 540.5,-354 540.5,-354 540.5,-348 546.5,-342 552.5,-342 552.5,-342 698.5,-342 698.5,-342 704.5,-342 710.5,-348 710.5,-354 710.5,-354 710.5,-413 710.5,-413 710.5,-419 704.5,-425 698.5,-425\"/>\r\n",
       "<text text-anchor=\"middle\" x=\"625.5\" y=\"-409.8\" font-family=\"Helvetica,sans-Serif\" font-size=\"14.00\">Balance &lt;= 154374.766</text>\r\n",
       "<text text-anchor=\"middle\" x=\"625.5\" y=\"-394.8\" font-family=\"Helvetica,sans-Serif\" font-size=\"14.00\">entropy = 0.929</text>\r\n",
       "<text text-anchor=\"middle\" x=\"625.5\" y=\"-379.8\" font-family=\"Helvetica,sans-Serif\" font-size=\"14.00\">samples = 360</text>\r\n",
       "<text text-anchor=\"middle\" x=\"625.5\" y=\"-364.8\" font-family=\"Helvetica,sans-Serif\" font-size=\"14.00\">value = [236, 124]</text>\r\n",
       "<text text-anchor=\"middle\" x=\"625.5\" y=\"-349.8\" font-family=\"Helvetica,sans-Serif\" font-size=\"14.00\">class = Not Exited</text>\r\n",
       "</g>\r\n",
       "<!-- 20&#45;&gt;40 -->\r\n",
       "<g id=\"edge13\" class=\"edge\"><title>20&#45;&gt;40</title>\r\n",
       "<path fill=\"none\" stroke=\"black\" d=\"M523.623,-460.907C536.45,-451.288 550.229,-440.953 563.38,-431.09\"/>\r\n",
       "<polygon fill=\"black\" stroke=\"black\" points=\"565.572,-433.821 571.472,-425.021 561.372,-428.221 565.572,-433.821\"/>\r\n",
       "</g>\r\n",
       "<!-- 43 -->\r\n",
       "<g id=\"node15\" class=\"node\"><title>43</title>\r\n",
       "<path fill=\"#f4cbad\" stroke=\"black\" d=\"M530,-306C530,-306 393,-306 393,-306 387,-306 381,-300 381,-294 381,-294 381,-235 381,-235 381,-229 387,-223 393,-223 393,-223 530,-223 530,-223 536,-223 542,-229 542,-235 542,-235 542,-294 542,-294 542,-300 536,-306 530,-306\"/>\r\n",
       "<text text-anchor=\"middle\" x=\"461.5\" y=\"-290.8\" font-family=\"Helvetica,sans-Serif\" font-size=\"14.00\">Balance &lt;= 90340.855</text>\r\n",
       "<text text-anchor=\"middle\" x=\"461.5\" y=\"-275.8\" font-family=\"Helvetica,sans-Serif\" font-size=\"14.00\">entropy = 0.951</text>\r\n",
       "<text text-anchor=\"middle\" x=\"461.5\" y=\"-260.8\" font-family=\"Helvetica,sans-Serif\" font-size=\"14.00\">samples = 335</text>\r\n",
       "<text text-anchor=\"middle\" x=\"461.5\" y=\"-245.8\" font-family=\"Helvetica,sans-Serif\" font-size=\"14.00\">value = [211, 124]</text>\r\n",
       "<text text-anchor=\"middle\" x=\"461.5\" y=\"-230.8\" font-family=\"Helvetica,sans-Serif\" font-size=\"14.00\">class = Not Exited</text>\r\n",
       "</g>\r\n",
       "<!-- 40&#45;&gt;43 -->\r\n",
       "<g id=\"edge14\" class=\"edge\"><title>40&#45;&gt;43</title>\r\n",
       "<path fill=\"none\" stroke=\"black\" d=\"M568.601,-341.907C555.117,-332.288 540.631,-321.953 526.806,-312.09\"/>\r\n",
       "<polygon fill=\"black\" stroke=\"black\" points=\"528.472,-308.979 518.298,-306.021 524.406,-314.678 528.472,-308.979\"/>\r\n",
       "</g>\r\n",
       "<!-- 44 -->\r\n",
       "<g id=\"node18\" class=\"node\"><title>44</title>\r\n",
       "<path fill=\"#e58139\" stroke=\"black\" d=\"M679,-298.5C679,-298.5 572,-298.5 572,-298.5 566,-298.5 560,-292.5 560,-286.5 560,-286.5 560,-242.5 560,-242.5 560,-236.5 566,-230.5 572,-230.5 572,-230.5 679,-230.5 679,-230.5 685,-230.5 691,-236.5 691,-242.5 691,-242.5 691,-286.5 691,-286.5 691,-292.5 685,-298.5 679,-298.5\"/>\r\n",
       "<text text-anchor=\"middle\" x=\"625.5\" y=\"-283.3\" font-family=\"Helvetica,sans-Serif\" font-size=\"14.00\">entropy = 0.0</text>\r\n",
       "<text text-anchor=\"middle\" x=\"625.5\" y=\"-268.3\" font-family=\"Helvetica,sans-Serif\" font-size=\"14.00\">samples = 25</text>\r\n",
       "<text text-anchor=\"middle\" x=\"625.5\" y=\"-253.3\" font-family=\"Helvetica,sans-Serif\" font-size=\"14.00\">value = [25, 0]</text>\r\n",
       "<text text-anchor=\"middle\" x=\"625.5\" y=\"-238.3\" font-family=\"Helvetica,sans-Serif\" font-size=\"14.00\">class = Not Exited</text>\r\n",
       "</g>\r\n",
       "<!-- 40&#45;&gt;44 -->\r\n",
       "<g id=\"edge17\" class=\"edge\"><title>40&#45;&gt;44</title>\r\n",
       "<path fill=\"none\" stroke=\"black\" d=\"M625.5,-341.907C625.5,-331.204 625.5,-319.615 625.5,-308.776\"/>\r\n",
       "<polygon fill=\"black\" stroke=\"black\" points=\"629,-308.667 625.5,-298.667 622,-308.667 629,-308.667\"/>\r\n",
       "</g>\r\n",
       "<!-- 45 -->\r\n",
       "<g id=\"node16\" class=\"node\"><title>45</title>\r\n",
       "<path fill=\"#e78a47\" stroke=\"black\" d=\"M464,-179.5C464,-179.5 357,-179.5 357,-179.5 351,-179.5 345,-173.5 345,-167.5 345,-167.5 345,-123.5 345,-123.5 345,-117.5 351,-111.5 357,-111.5 357,-111.5 464,-111.5 464,-111.5 470,-111.5 476,-117.5 476,-123.5 476,-123.5 476,-167.5 476,-167.5 476,-173.5 470,-179.5 464,-179.5\"/>\r\n",
       "<text text-anchor=\"middle\" x=\"410.5\" y=\"-164.3\" font-family=\"Helvetica,sans-Serif\" font-size=\"14.00\">entropy = 0.353</text>\r\n",
       "<text text-anchor=\"middle\" x=\"410.5\" y=\"-149.3\" font-family=\"Helvetica,sans-Serif\" font-size=\"14.00\">samples = 45</text>\r\n",
       "<text text-anchor=\"middle\" x=\"410.5\" y=\"-134.3\" font-family=\"Helvetica,sans-Serif\" font-size=\"14.00\">value = [42, 3]</text>\r\n",
       "<text text-anchor=\"middle\" x=\"410.5\" y=\"-119.3\" font-family=\"Helvetica,sans-Serif\" font-size=\"14.00\">class = Not Exited</text>\r\n",
       "</g>\r\n",
       "<!-- 43&#45;&gt;45 -->\r\n",
       "<g id=\"edge15\" class=\"edge\"><title>43&#45;&gt;45</title>\r\n",
       "<path fill=\"none\" stroke=\"black\" d=\"M443.806,-222.907C439.044,-211.983 433.88,-200.137 429.072,-189.107\"/>\r\n",
       "<polygon fill=\"black\" stroke=\"black\" points=\"432.162,-187.435 424.957,-179.667 425.745,-190.232 432.162,-187.435\"/>\r\n",
       "</g>\r\n",
       "<!-- 46 -->\r\n",
       "<g id=\"node17\" class=\"node\"><title>46</title>\r\n",
       "<path fill=\"#f8dbc7\" stroke=\"black\" d=\"M613,-179.5C613,-179.5 506,-179.5 506,-179.5 500,-179.5 494,-173.5 494,-167.5 494,-167.5 494,-123.5 494,-123.5 494,-117.5 500,-111.5 506,-111.5 506,-111.5 613,-111.5 613,-111.5 619,-111.5 625,-117.5 625,-123.5 625,-123.5 625,-167.5 625,-167.5 625,-173.5 619,-179.5 613,-179.5\"/>\r\n",
       "<text text-anchor=\"middle\" x=\"559.5\" y=\"-164.3\" font-family=\"Helvetica,sans-Serif\" font-size=\"14.00\">entropy = 0.98</text>\r\n",
       "<text text-anchor=\"middle\" x=\"559.5\" y=\"-149.3\" font-family=\"Helvetica,sans-Serif\" font-size=\"14.00\">samples = 290</text>\r\n",
       "<text text-anchor=\"middle\" x=\"559.5\" y=\"-134.3\" font-family=\"Helvetica,sans-Serif\" font-size=\"14.00\">value = [169, 121]</text>\r\n",
       "<text text-anchor=\"middle\" x=\"559.5\" y=\"-119.3\" font-family=\"Helvetica,sans-Serif\" font-size=\"14.00\">class = Not Exited</text>\r\n",
       "</g>\r\n",
       "<!-- 43&#45;&gt;46 -->\r\n",
       "<g id=\"edge16\" class=\"edge\"><title>43&#45;&gt;46</title>\r\n",
       "<path fill=\"none\" stroke=\"black\" d=\"M495.501,-222.907C505.113,-211.432 515.577,-198.938 525.207,-187.442\"/>\r\n",
       "<polygon fill=\"black\" stroke=\"black\" points=\"527.981,-189.58 531.719,-179.667 522.615,-185.086 527.981,-189.58\"/>\r\n",
       "</g>\r\n",
       "<!-- 27 -->\r\n",
       "<g id=\"node20\" class=\"node\"><title>27</title>\r\n",
       "<path fill=\"#e6833d\" stroke=\"black\" d=\"M685,-536.5C685,-536.5 578,-536.5 578,-536.5 572,-536.5 566,-530.5 566,-524.5 566,-524.5 566,-480.5 566,-480.5 566,-474.5 572,-468.5 578,-468.5 578,-468.5 685,-468.5 685,-468.5 691,-468.5 697,-474.5 697,-480.5 697,-480.5 697,-524.5 697,-524.5 697,-530.5 691,-536.5 685,-536.5\"/>\r\n",
       "<text text-anchor=\"middle\" x=\"631.5\" y=\"-521.3\" font-family=\"Helvetica,sans-Serif\" font-size=\"14.00\">entropy = 0.138</text>\r\n",
       "<text text-anchor=\"middle\" x=\"631.5\" y=\"-506.3\" font-family=\"Helvetica,sans-Serif\" font-size=\"14.00\">samples = 1648</text>\r\n",
       "<text text-anchor=\"middle\" x=\"631.5\" y=\"-491.3\" font-family=\"Helvetica,sans-Serif\" font-size=\"14.00\">value = [1616, 32]</text>\r\n",
       "<text text-anchor=\"middle\" x=\"631.5\" y=\"-476.3\" font-family=\"Helvetica,sans-Serif\" font-size=\"14.00\">class = Not Exited</text>\r\n",
       "</g>\r\n",
       "<!-- 6&#45;&gt;27 -->\r\n",
       "<g id=\"edge19\" class=\"edge\"><title>6&#45;&gt;27</title>\r\n",
       "<path fill=\"none\" stroke=\"black\" d=\"M639.337,-579.907C638.239,-569.204 637.05,-557.615 635.939,-546.776\"/>\r\n",
       "<polygon fill=\"black\" stroke=\"black\" points=\"639.404,-546.258 634.902,-536.667 632.44,-546.972 639.404,-546.258\"/>\r\n",
       "</g>\r\n",
       "<!-- 28 -->\r\n",
       "<g id=\"node21\" class=\"node\"><title>28</title>\r\n",
       "<path fill=\"#e78a48\" stroke=\"black\" d=\"M834,-536.5C834,-536.5 727,-536.5 727,-536.5 721,-536.5 715,-530.5 715,-524.5 715,-524.5 715,-480.5 715,-480.5 715,-474.5 721,-468.5 727,-468.5 727,-468.5 834,-468.5 834,-468.5 840,-468.5 846,-474.5 846,-480.5 846,-480.5 846,-524.5 846,-524.5 846,-530.5 840,-536.5 834,-536.5\"/>\r\n",
       "<text text-anchor=\"middle\" x=\"780.5\" y=\"-521.3\" font-family=\"Helvetica,sans-Serif\" font-size=\"14.00\">entropy = 0.362</text>\r\n",
       "<text text-anchor=\"middle\" x=\"780.5\" y=\"-506.3\" font-family=\"Helvetica,sans-Serif\" font-size=\"14.00\">samples = 1146</text>\r\n",
       "<text text-anchor=\"middle\" x=\"780.5\" y=\"-491.3\" font-family=\"Helvetica,sans-Serif\" font-size=\"14.00\">value = [1067, 79]</text>\r\n",
       "<text text-anchor=\"middle\" x=\"780.5\" y=\"-476.3\" font-family=\"Helvetica,sans-Serif\" font-size=\"14.00\">class = Not Exited</text>\r\n",
       "</g>\r\n",
       "<!-- 6&#45;&gt;28 -->\r\n",
       "<g id=\"edge20\" class=\"edge\"><title>6&#45;&gt;28</title>\r\n",
       "<path fill=\"none\" stroke=\"black\" d=\"M691.031,-579.907C704.857,-568.101 719.943,-555.217 733.721,-543.45\"/>\r\n",
       "<polygon fill=\"black\" stroke=\"black\" points=\"736.332,-545.823 741.664,-536.667 731.786,-540.5 736.332,-545.823\"/>\r\n",
       "</g>\r\n",
       "<!-- 35 -->\r\n",
       "<g id=\"node23\" class=\"node\"><title>35</title>\r\n",
       "<path fill=\"#ffffff\" stroke=\"black\" d=\"M917,-655.5C917,-655.5 810,-655.5 810,-655.5 804,-655.5 798,-649.5 798,-643.5 798,-643.5 798,-599.5 798,-599.5 798,-593.5 804,-587.5 810,-587.5 810,-587.5 917,-587.5 917,-587.5 923,-587.5 929,-593.5 929,-599.5 929,-599.5 929,-643.5 929,-643.5 929,-649.5 923,-655.5 917,-655.5\"/>\r\n",
       "<text text-anchor=\"middle\" x=\"863.5\" y=\"-640.3\" font-family=\"Helvetica,sans-Serif\" font-size=\"14.00\">entropy = 1.0</text>\r\n",
       "<text text-anchor=\"middle\" x=\"863.5\" y=\"-625.3\" font-family=\"Helvetica,sans-Serif\" font-size=\"14.00\">samples = 50</text>\r\n",
       "<text text-anchor=\"middle\" x=\"863.5\" y=\"-610.3\" font-family=\"Helvetica,sans-Serif\" font-size=\"14.00\">value = [25, 25]</text>\r\n",
       "<text text-anchor=\"middle\" x=\"863.5\" y=\"-595.3\" font-family=\"Helvetica,sans-Serif\" font-size=\"14.00\">class = Not Exited</text>\r\n",
       "</g>\r\n",
       "<!-- 4&#45;&gt;35 -->\r\n",
       "<g id=\"edge22\" class=\"edge\"><title>4&#45;&gt;35</title>\r\n",
       "<path fill=\"none\" stroke=\"black\" d=\"M907.908,-698.907C901.43,-687.763 894.395,-675.658 887.875,-664.439\"/>\r\n",
       "<polygon fill=\"black\" stroke=\"black\" points=\"890.828,-662.554 882.777,-655.667 884.775,-666.072 890.828,-662.554\"/>\r\n",
       "</g>\r\n",
       "<!-- 36 -->\r\n",
       "<g id=\"node24\" class=\"node\"><title>36</title>\r\n",
       "<path fill=\"#4aa6e7\" stroke=\"black\" d=\"M1051.5,-655.5C1051.5,-655.5 959.5,-655.5 959.5,-655.5 953.5,-655.5 947.5,-649.5 947.5,-643.5 947.5,-643.5 947.5,-599.5 947.5,-599.5 947.5,-593.5 953.5,-587.5 959.5,-587.5 959.5,-587.5 1051.5,-587.5 1051.5,-587.5 1057.5,-587.5 1063.5,-593.5 1063.5,-599.5 1063.5,-599.5 1063.5,-643.5 1063.5,-643.5 1063.5,-649.5 1057.5,-655.5 1051.5,-655.5\"/>\r\n",
       "<text text-anchor=\"middle\" x=\"1005.5\" y=\"-640.3\" font-family=\"Helvetica,sans-Serif\" font-size=\"14.00\">entropy = 0.402</text>\r\n",
       "<text text-anchor=\"middle\" x=\"1005.5\" y=\"-625.3\" font-family=\"Helvetica,sans-Serif\" font-size=\"14.00\">samples = 75</text>\r\n",
       "<text text-anchor=\"middle\" x=\"1005.5\" y=\"-610.3\" font-family=\"Helvetica,sans-Serif\" font-size=\"14.00\">value = [6, 69]</text>\r\n",
       "<text text-anchor=\"middle\" x=\"1005.5\" y=\"-595.3\" font-family=\"Helvetica,sans-Serif\" font-size=\"14.00\">class = Exited</text>\r\n",
       "</g>\r\n",
       "<!-- 4&#45;&gt;36 -->\r\n",
       "<g id=\"edge23\" class=\"edge\"><title>4&#45;&gt;36</title>\r\n",
       "<path fill=\"none\" stroke=\"black\" d=\"M957.174,-698.907C964.223,-687.763 971.879,-675.658 978.974,-664.439\"/>\r\n",
       "<polygon fill=\"black\" stroke=\"black\" points=\"982.135,-665.989 984.523,-655.667 976.219,-662.248 982.135,-665.989\"/>\r\n",
       "</g>\r\n",
       "<!-- 7 -->\r\n",
       "<g id=\"node26\" class=\"node\"><title>7</title>\r\n",
       "<path fill=\"#c1e0f7\" stroke=\"black\" d=\"M1234.5,-782C1234.5,-782 1128.5,-782 1128.5,-782 1122.5,-782 1116.5,-776 1116.5,-770 1116.5,-770 1116.5,-711 1116.5,-711 1116.5,-705 1122.5,-699 1128.5,-699 1128.5,-699 1234.5,-699 1234.5,-699 1240.5,-699 1246.5,-705 1246.5,-711 1246.5,-711 1246.5,-770 1246.5,-770 1246.5,-776 1240.5,-782 1234.5,-782\"/>\r\n",
       "<text text-anchor=\"middle\" x=\"1181.5\" y=\"-766.8\" font-family=\"Helvetica,sans-Serif\" font-size=\"14.00\">Age &lt;= 51.5</text>\r\n",
       "<text text-anchor=\"middle\" x=\"1181.5\" y=\"-751.8\" font-family=\"Helvetica,sans-Serif\" font-size=\"14.00\">entropy = 0.975</text>\r\n",
       "<text text-anchor=\"middle\" x=\"1181.5\" y=\"-736.8\" font-family=\"Helvetica,sans-Serif\" font-size=\"14.00\">samples = 1058</text>\r\n",
       "<text text-anchor=\"middle\" x=\"1181.5\" y=\"-721.8\" font-family=\"Helvetica,sans-Serif\" font-size=\"14.00\">value = [430, 628]</text>\r\n",
       "<text text-anchor=\"middle\" x=\"1181.5\" y=\"-706.8\" font-family=\"Helvetica,sans-Serif\" font-size=\"14.00\">class = Exited</text>\r\n",
       "</g>\r\n",
       "<!-- 2&#45;&gt;7 -->\r\n",
       "<g id=\"edge25\" class=\"edge\"><title>2&#45;&gt;7</title>\r\n",
       "<path fill=\"none\" stroke=\"black\" d=\"M1181.5,-817.907C1181.5,-809.649 1181.5,-800.864 1181.5,-792.302\"/>\r\n",
       "<polygon fill=\"black\" stroke=\"black\" points=\"1185,-792.021 1181.5,-782.021 1178,-792.021 1185,-792.021\"/>\r\n",
       "</g>\r\n",
       "<!-- 8 -->\r\n",
       "<g id=\"node39\" class=\"node\"><title>8</title>\r\n",
       "<path fill=\"#efaf82\" stroke=\"black\" d=\"M1815,-782C1815,-782 1676,-782 1676,-782 1670,-782 1664,-776 1664,-770 1664,-770 1664,-711 1664,-711 1664,-705 1670,-699 1676,-699 1676,-699 1815,-699 1815,-699 1821,-699 1827,-705 1827,-711 1827,-711 1827,-770 1827,-770 1827,-776 1821,-782 1815,-782\"/>\r\n",
       "<text text-anchor=\"middle\" x=\"1745.5\" y=\"-766.8\" font-family=\"Helvetica,sans-Serif\" font-size=\"14.00\">NumOfProducts &lt;= 2.5</text>\r\n",
       "<text text-anchor=\"middle\" x=\"1745.5\" y=\"-751.8\" font-family=\"Helvetica,sans-Serif\" font-size=\"14.00\">entropy = 0.84</text>\r\n",
       "<text text-anchor=\"middle\" x=\"1745.5\" y=\"-736.8\" font-family=\"Helvetica,sans-Serif\" font-size=\"14.00\">samples = 1261</text>\r\n",
       "<text text-anchor=\"middle\" x=\"1745.5\" y=\"-721.8\" font-family=\"Helvetica,sans-Serif\" font-size=\"14.00\">value = [922, 339]</text>\r\n",
       "<text text-anchor=\"middle\" x=\"1745.5\" y=\"-706.8\" font-family=\"Helvetica,sans-Serif\" font-size=\"14.00\">class = Not Exited</text>\r\n",
       "</g>\r\n",
       "<!-- 2&#45;&gt;8 -->\r\n",
       "<g id=\"edge38\" class=\"edge\"><title>2&#45;&gt;8</title>\r\n",
       "<path fill=\"none\" stroke=\"black\" d=\"M1263.51,-841.487C1367.35,-819.946 1545.73,-782.941 1653.93,-760.497\"/>\r\n",
       "<polygon fill=\"black\" stroke=\"black\" points=\"1654.77,-763.897 1663.85,-758.438 1653.35,-757.043 1654.77,-763.897\"/>\r\n",
       "</g>\r\n",
       "<!-- 9 -->\r\n",
       "<g id=\"node27\" class=\"node\"><title>9</title>\r\n",
       "<path fill=\"#fef9f5\" stroke=\"black\" d=\"M1245,-663C1245,-663 1106,-663 1106,-663 1100,-663 1094,-657 1094,-651 1094,-651 1094,-592 1094,-592 1094,-586 1100,-580 1106,-580 1106,-580 1245,-580 1245,-580 1251,-580 1257,-586 1257,-592 1257,-592 1257,-651 1257,-651 1257,-657 1251,-663 1245,-663\"/>\r\n",
       "<text text-anchor=\"middle\" x=\"1175.5\" y=\"-647.8\" font-family=\"Helvetica,sans-Serif\" font-size=\"14.00\">NumOfProducts &lt;= 1.5</text>\r\n",
       "<text text-anchor=\"middle\" x=\"1175.5\" y=\"-632.8\" font-family=\"Helvetica,sans-Serif\" font-size=\"14.00\">entropy = 1.0</text>\r\n",
       "<text text-anchor=\"middle\" x=\"1175.5\" y=\"-617.8\" font-family=\"Helvetica,sans-Serif\" font-size=\"14.00\">samples = 767</text>\r\n",
       "<text text-anchor=\"middle\" x=\"1175.5\" y=\"-602.8\" font-family=\"Helvetica,sans-Serif\" font-size=\"14.00\">value = [393, 374]</text>\r\n",
       "<text text-anchor=\"middle\" x=\"1175.5\" y=\"-587.8\" font-family=\"Helvetica,sans-Serif\" font-size=\"14.00\">class = Not Exited</text>\r\n",
       "</g>\r\n",
       "<!-- 7&#45;&gt;9 -->\r\n",
       "<g id=\"edge26\" class=\"edge\"><title>7&#45;&gt;9</title>\r\n",
       "<path fill=\"none\" stroke=\"black\" d=\"M1179.42,-698.907C1178.99,-690.558 1178.53,-681.671 1178.09,-673.02\"/>\r\n",
       "<polygon fill=\"black\" stroke=\"black\" points=\"1181.59,-672.828 1177.58,-663.021 1174.59,-673.187 1181.59,-672.828\"/>\r\n",
       "</g>\r\n",
       "<!-- 10 -->\r\n",
       "<g id=\"node38\" class=\"node\"><title>10</title>\r\n",
       "<path fill=\"#56abe9\" stroke=\"black\" d=\"M1385.5,-655.5C1385.5,-655.5 1287.5,-655.5 1287.5,-655.5 1281.5,-655.5 1275.5,-649.5 1275.5,-643.5 1275.5,-643.5 1275.5,-599.5 1275.5,-599.5 1275.5,-593.5 1281.5,-587.5 1287.5,-587.5 1287.5,-587.5 1385.5,-587.5 1385.5,-587.5 1391.5,-587.5 1397.5,-593.5 1397.5,-599.5 1397.5,-599.5 1397.5,-643.5 1397.5,-643.5 1397.5,-649.5 1391.5,-655.5 1385.5,-655.5\"/>\r\n",
       "<text text-anchor=\"middle\" x=\"1336.5\" y=\"-640.3\" font-family=\"Helvetica,sans-Serif\" font-size=\"14.00\">entropy = 0.55</text>\r\n",
       "<text text-anchor=\"middle\" x=\"1336.5\" y=\"-625.3\" font-family=\"Helvetica,sans-Serif\" font-size=\"14.00\">samples = 291</text>\r\n",
       "<text text-anchor=\"middle\" x=\"1336.5\" y=\"-610.3\" font-family=\"Helvetica,sans-Serif\" font-size=\"14.00\">value = [37, 254]</text>\r\n",
       "<text text-anchor=\"middle\" x=\"1336.5\" y=\"-595.3\" font-family=\"Helvetica,sans-Serif\" font-size=\"14.00\">class = Exited</text>\r\n",
       "</g>\r\n",
       "<!-- 7&#45;&gt;10 -->\r\n",
       "<g id=\"edge37\" class=\"edge\"><title>7&#45;&gt;10</title>\r\n",
       "<path fill=\"none\" stroke=\"black\" d=\"M1235.28,-698.907C1251.21,-686.88 1268.63,-673.735 1284.45,-661.791\"/>\r\n",
       "<polygon fill=\"black\" stroke=\"black\" points=\"1286.69,-664.485 1292.56,-655.667 1282.47,-658.898 1286.69,-664.485\"/>\r\n",
       "</g>\r\n",
       "<!-- 15 -->\r\n",
       "<g id=\"node28\" class=\"node\"><title>15</title>\r\n",
       "<path fill=\"#b9ddf6\" stroke=\"black\" d=\"M1091.5,-544C1091.5,-544 985.5,-544 985.5,-544 979.5,-544 973.5,-538 973.5,-532 973.5,-532 973.5,-473 973.5,-473 973.5,-467 979.5,-461 985.5,-461 985.5,-461 1091.5,-461 1091.5,-461 1097.5,-461 1103.5,-467 1103.5,-473 1103.5,-473 1103.5,-532 1103.5,-532 1103.5,-538 1097.5,-544 1091.5,-544\"/>\r\n",
       "<text text-anchor=\"middle\" x=\"1038.5\" y=\"-528.8\" font-family=\"Helvetica,sans-Serif\" font-size=\"14.00\">Germany &lt;= 0.5</text>\r\n",
       "<text text-anchor=\"middle\" x=\"1038.5\" y=\"-513.8\" font-family=\"Helvetica,sans-Serif\" font-size=\"14.00\">entropy = 0.967</text>\r\n",
       "<text text-anchor=\"middle\" x=\"1038.5\" y=\"-498.8\" font-family=\"Helvetica,sans-Serif\" font-size=\"14.00\">samples = 460</text>\r\n",
       "<text text-anchor=\"middle\" x=\"1038.5\" y=\"-483.8\" font-family=\"Helvetica,sans-Serif\" font-size=\"14.00\">value = [181, 279]</text>\r\n",
       "<text text-anchor=\"middle\" x=\"1038.5\" y=\"-468.8\" font-family=\"Helvetica,sans-Serif\" font-size=\"14.00\">class = Exited</text>\r\n",
       "</g>\r\n",
       "<!-- 9&#45;&gt;15 -->\r\n",
       "<g id=\"edge27\" class=\"edge\"><title>9&#45;&gt;15</title>\r\n",
       "<path fill=\"none\" stroke=\"black\" d=\"M1127.97,-579.907C1116.92,-570.469 1105.06,-560.343 1093.71,-550.649\"/>\r\n",
       "<polygon fill=\"black\" stroke=\"black\" points=\"1095.82,-547.854 1085.95,-544.021 1091.28,-553.177 1095.82,-547.854\"/>\r\n",
       "</g>\r\n",
       "<!-- 16 -->\r\n",
       "<g id=\"node33\" class=\"node\"><title>16</title>\r\n",
       "<path fill=\"#f1b992\" stroke=\"black\" d=\"M1273,-544C1273,-544 1134,-544 1134,-544 1128,-544 1122,-538 1122,-532 1122,-532 1122,-473 1122,-473 1122,-467 1128,-461 1134,-461 1134,-461 1273,-461 1273,-461 1279,-461 1285,-467 1285,-473 1285,-473 1285,-532 1285,-532 1285,-538 1279,-544 1273,-544\"/>\r\n",
       "<text text-anchor=\"middle\" x=\"1203.5\" y=\"-528.8\" font-family=\"Helvetica,sans-Serif\" font-size=\"14.00\">NumOfProducts &lt;= 2.5</text>\r\n",
       "<text text-anchor=\"middle\" x=\"1203.5\" y=\"-513.8\" font-family=\"Helvetica,sans-Serif\" font-size=\"14.00\">entropy = 0.893</text>\r\n",
       "<text text-anchor=\"middle\" x=\"1203.5\" y=\"-498.8\" font-family=\"Helvetica,sans-Serif\" font-size=\"14.00\">samples = 307</text>\r\n",
       "<text text-anchor=\"middle\" x=\"1203.5\" y=\"-483.8\" font-family=\"Helvetica,sans-Serif\" font-size=\"14.00\">value = [212, 95]</text>\r\n",
       "<text text-anchor=\"middle\" x=\"1203.5\" y=\"-468.8\" font-family=\"Helvetica,sans-Serif\" font-size=\"14.00\">class = Not Exited</text>\r\n",
       "</g>\r\n",
       "<!-- 9&#45;&gt;16 -->\r\n",
       "<g id=\"edge32\" class=\"edge\"><title>9&#45;&gt;16</title>\r\n",
       "<path fill=\"none\" stroke=\"black\" d=\"M1185.21,-579.907C1187.21,-571.558 1189.34,-562.671 1191.41,-554.02\"/>\r\n",
       "<polygon fill=\"black\" stroke=\"black\" points=\"1194.88,-554.561 1193.8,-544.021 1188.07,-552.932 1194.88,-554.561\"/>\r\n",
       "</g>\r\n",
       "<!-- 29 -->\r\n",
       "<g id=\"node29\" class=\"node\"><title>29</title>\r\n",
       "<path fill=\"#fafcfe\" stroke=\"black\" d=\"M949,-425C949,-425 812,-425 812,-425 806,-425 800,-419 800,-413 800,-413 800,-354 800,-354 800,-348 806,-342 812,-342 812,-342 949,-342 949,-342 955,-342 961,-348 961,-354 961,-354 961,-413 961,-413 961,-419 955,-425 949,-425\"/>\r\n",
       "<text text-anchor=\"middle\" x=\"880.5\" y=\"-409.8\" font-family=\"Helvetica,sans-Serif\" font-size=\"14.00\">Balance &lt;= 81819.965</text>\r\n",
       "<text text-anchor=\"middle\" x=\"880.5\" y=\"-394.8\" font-family=\"Helvetica,sans-Serif\" font-size=\"14.00\">entropy = 1.0</text>\r\n",
       "<text text-anchor=\"middle\" x=\"880.5\" y=\"-379.8\" font-family=\"Helvetica,sans-Serif\" font-size=\"14.00\">samples = 296</text>\r\n",
       "<text text-anchor=\"middle\" x=\"880.5\" y=\"-364.8\" font-family=\"Helvetica,sans-Serif\" font-size=\"14.00\">value = [146, 150]</text>\r\n",
       "<text text-anchor=\"middle\" x=\"880.5\" y=\"-349.8\" font-family=\"Helvetica,sans-Serif\" font-size=\"14.00\">class = Exited</text>\r\n",
       "</g>\r\n",
       "<!-- 15&#45;&gt;29 -->\r\n",
       "<g id=\"edge28\" class=\"edge\"><title>15&#45;&gt;29</title>\r\n",
       "<path fill=\"none\" stroke=\"black\" d=\"M983.683,-460.907C970.692,-451.288 956.736,-440.953 943.417,-431.09\"/>\r\n",
       "<polygon fill=\"black\" stroke=\"black\" points=\"945.34,-428.159 935.22,-425.021 941.174,-433.785 945.34,-428.159\"/>\r\n",
       "</g>\r\n",
       "<!-- 30 -->\r\n",
       "<g id=\"node32\" class=\"node\"><title>30</title>\r\n",
       "<path fill=\"#6fb8ec\" stroke=\"black\" d=\"M1089.5,-417.5C1089.5,-417.5 991.5,-417.5 991.5,-417.5 985.5,-417.5 979.5,-411.5 979.5,-405.5 979.5,-405.5 979.5,-361.5 979.5,-361.5 979.5,-355.5 985.5,-349.5 991.5,-349.5 991.5,-349.5 1089.5,-349.5 1089.5,-349.5 1095.5,-349.5 1101.5,-355.5 1101.5,-361.5 1101.5,-361.5 1101.5,-405.5 1101.5,-405.5 1101.5,-411.5 1095.5,-417.5 1089.5,-417.5\"/>\r\n",
       "<text text-anchor=\"middle\" x=\"1040.5\" y=\"-402.3\" font-family=\"Helvetica,sans-Serif\" font-size=\"14.00\">entropy = 0.748</text>\r\n",
       "<text text-anchor=\"middle\" x=\"1040.5\" y=\"-387.3\" font-family=\"Helvetica,sans-Serif\" font-size=\"14.00\">samples = 164</text>\r\n",
       "<text text-anchor=\"middle\" x=\"1040.5\" y=\"-372.3\" font-family=\"Helvetica,sans-Serif\" font-size=\"14.00\">value = [35, 129]</text>\r\n",
       "<text text-anchor=\"middle\" x=\"1040.5\" y=\"-357.3\" font-family=\"Helvetica,sans-Serif\" font-size=\"14.00\">class = Exited</text>\r\n",
       "</g>\r\n",
       "<!-- 15&#45;&gt;30 -->\r\n",
       "<g id=\"edge31\" class=\"edge\"><title>15&#45;&gt;30</title>\r\n",
       "<path fill=\"none\" stroke=\"black\" d=\"M1039.19,-460.907C1039.38,-450.204 1039.57,-438.615 1039.76,-427.776\"/>\r\n",
       "<polygon fill=\"black\" stroke=\"black\" points=\"1043.26,-427.725 1039.93,-417.667 1036.26,-427.606 1043.26,-427.725\"/>\r\n",
       "</g>\r\n",
       "<!-- 49 -->\r\n",
       "<g id=\"node30\" class=\"node\"><title>49</title>\r\n",
       "<path fill=\"#9dcff2\" stroke=\"black\" d=\"M813.5,-298.5C813.5,-298.5 721.5,-298.5 721.5,-298.5 715.5,-298.5 709.5,-292.5 709.5,-286.5 709.5,-286.5 709.5,-242.5 709.5,-242.5 709.5,-236.5 715.5,-230.5 721.5,-230.5 721.5,-230.5 813.5,-230.5 813.5,-230.5 819.5,-230.5 825.5,-236.5 825.5,-242.5 825.5,-242.5 825.5,-286.5 825.5,-286.5 825.5,-292.5 819.5,-298.5 813.5,-298.5\"/>\r\n",
       "<text text-anchor=\"middle\" x=\"767.5\" y=\"-283.3\" font-family=\"Helvetica,sans-Serif\" font-size=\"14.00\">entropy = 0.921</text>\r\n",
       "<text text-anchor=\"middle\" x=\"767.5\" y=\"-268.3\" font-family=\"Helvetica,sans-Serif\" font-size=\"14.00\">samples = 122</text>\r\n",
       "<text text-anchor=\"middle\" x=\"767.5\" y=\"-253.3\" font-family=\"Helvetica,sans-Serif\" font-size=\"14.00\">value = [41, 81]</text>\r\n",
       "<text text-anchor=\"middle\" x=\"767.5\" y=\"-238.3\" font-family=\"Helvetica,sans-Serif\" font-size=\"14.00\">class = Exited</text>\r\n",
       "</g>\r\n",
       "<!-- 29&#45;&gt;49 -->\r\n",
       "<g id=\"edge29\" class=\"edge\"><title>29&#45;&gt;49</title>\r\n",
       "<path fill=\"none\" stroke=\"black\" d=\"M841.295,-341.907C830.105,-330.321 817.913,-317.698 806.722,-306.111\"/>\r\n",
       "<polygon fill=\"black\" stroke=\"black\" points=\"808.998,-303.428 799.533,-298.667 803.963,-308.291 808.998,-303.428\"/>\r\n",
       "</g>\r\n",
       "<!-- 50 -->\r\n",
       "<g id=\"node31\" class=\"node\"><title>50</title>\r\n",
       "<path fill=\"#f6d4bb\" stroke=\"black\" d=\"M963,-298.5C963,-298.5 856,-298.5 856,-298.5 850,-298.5 844,-292.5 844,-286.5 844,-286.5 844,-242.5 844,-242.5 844,-236.5 850,-230.5 856,-230.5 856,-230.5 963,-230.5 963,-230.5 969,-230.5 975,-236.5 975,-242.5 975,-242.5 975,-286.5 975,-286.5 975,-292.5 969,-298.5 963,-298.5\"/>\r\n",
       "<text text-anchor=\"middle\" x=\"909.5\" y=\"-283.3\" font-family=\"Helvetica,sans-Serif\" font-size=\"14.00\">entropy = 0.969</text>\r\n",
       "<text text-anchor=\"middle\" x=\"909.5\" y=\"-268.3\" font-family=\"Helvetica,sans-Serif\" font-size=\"14.00\">samples = 174</text>\r\n",
       "<text text-anchor=\"middle\" x=\"909.5\" y=\"-253.3\" font-family=\"Helvetica,sans-Serif\" font-size=\"14.00\">value = [105, 69]</text>\r\n",
       "<text text-anchor=\"middle\" x=\"909.5\" y=\"-238.3\" font-family=\"Helvetica,sans-Serif\" font-size=\"14.00\">class = Not Exited</text>\r\n",
       "</g>\r\n",
       "<!-- 29&#45;&gt;50 -->\r\n",
       "<g id=\"edge30\" class=\"edge\"><title>29&#45;&gt;50</title>\r\n",
       "<path fill=\"none\" stroke=\"black\" d=\"M890.561,-341.907C893.242,-331.094 896.146,-319.376 898.856,-308.441\"/>\r\n",
       "<polygon fill=\"black\" stroke=\"black\" points=\"902.27,-309.215 901.279,-298.667 895.476,-307.531 902.27,-309.215\"/>\r\n",
       "</g>\r\n",
       "<!-- 17 -->\r\n",
       "<g id=\"node34\" class=\"node\"><title>17</title>\r\n",
       "<path fill=\"#eb9f69\" stroke=\"black\" d=\"M1270,-425C1270,-425 1133,-425 1133,-425 1127,-425 1121,-419 1121,-413 1121,-413 1121,-354 1121,-354 1121,-348 1127,-342 1133,-342 1133,-342 1270,-342 1270,-342 1276,-342 1282,-348 1282,-354 1282,-354 1282,-413 1282,-413 1282,-419 1276,-425 1270,-425\"/>\r\n",
       "<text text-anchor=\"middle\" x=\"1201.5\" y=\"-409.8\" font-family=\"Helvetica,sans-Serif\" font-size=\"14.00\">Balance &lt;= 82341.547</text>\r\n",
       "<text text-anchor=\"middle\" x=\"1201.5\" y=\"-394.8\" font-family=\"Helvetica,sans-Serif\" font-size=\"14.00\">entropy = 0.71</text>\r\n",
       "<text text-anchor=\"middle\" x=\"1201.5\" y=\"-379.8\" font-family=\"Helvetica,sans-Serif\" font-size=\"14.00\">samples = 263</text>\r\n",
       "<text text-anchor=\"middle\" x=\"1201.5\" y=\"-364.8\" font-family=\"Helvetica,sans-Serif\" font-size=\"14.00\">value = [212, 51]</text>\r\n",
       "<text text-anchor=\"middle\" x=\"1201.5\" y=\"-349.8\" font-family=\"Helvetica,sans-Serif\" font-size=\"14.00\">class = Not Exited</text>\r\n",
       "</g>\r\n",
       "<!-- 16&#45;&gt;17 -->\r\n",
       "<g id=\"edge33\" class=\"edge\"><title>16&#45;&gt;17</title>\r\n",
       "<path fill=\"none\" stroke=\"black\" d=\"M1202.81,-460.907C1202.66,-452.558 1202.51,-443.671 1202.36,-435.02\"/>\r\n",
       "<polygon fill=\"black\" stroke=\"black\" points=\"1205.86,-434.959 1202.19,-425.021 1198.86,-435.079 1205.86,-434.959\"/>\r\n",
       "</g>\r\n",
       "<!-- 18 -->\r\n",
       "<g id=\"node37\" class=\"node\"><title>18</title>\r\n",
       "<path fill=\"#399de5\" stroke=\"black\" d=\"M1393,-417.5C1393,-417.5 1312,-417.5 1312,-417.5 1306,-417.5 1300,-411.5 1300,-405.5 1300,-405.5 1300,-361.5 1300,-361.5 1300,-355.5 1306,-349.5 1312,-349.5 1312,-349.5 1393,-349.5 1393,-349.5 1399,-349.5 1405,-355.5 1405,-361.5 1405,-361.5 1405,-405.5 1405,-405.5 1405,-411.5 1399,-417.5 1393,-417.5\"/>\r\n",
       "<text text-anchor=\"middle\" x=\"1352.5\" y=\"-402.3\" font-family=\"Helvetica,sans-Serif\" font-size=\"14.00\">entropy = 0.0</text>\r\n",
       "<text text-anchor=\"middle\" x=\"1352.5\" y=\"-387.3\" font-family=\"Helvetica,sans-Serif\" font-size=\"14.00\">samples = 44</text>\r\n",
       "<text text-anchor=\"middle\" x=\"1352.5\" y=\"-372.3\" font-family=\"Helvetica,sans-Serif\" font-size=\"14.00\">value = [0, 44]</text>\r\n",
       "<text text-anchor=\"middle\" x=\"1352.5\" y=\"-357.3\" font-family=\"Helvetica,sans-Serif\" font-size=\"14.00\">class = Exited</text>\r\n",
       "</g>\r\n",
       "<!-- 16&#45;&gt;18 -->\r\n",
       "<g id=\"edge36\" class=\"edge\"><title>16&#45;&gt;18</title>\r\n",
       "<path fill=\"none\" stroke=\"black\" d=\"M1255.19,-460.907C1270.37,-448.99 1286.95,-435.976 1302.04,-424.12\"/>\r\n",
       "<polygon fill=\"black\" stroke=\"black\" points=\"1304.56,-426.596 1310.26,-417.667 1300.24,-421.09 1304.56,-426.596\"/>\r\n",
       "</g>\r\n",
       "<!-- 55 -->\r\n",
       "<g id=\"node35\" class=\"node\"><title>55</title>\r\n",
       "<path fill=\"#e89051\" stroke=\"black\" d=\"M1112,-298.5C1112,-298.5 1005,-298.5 1005,-298.5 999,-298.5 993,-292.5 993,-286.5 993,-286.5 993,-242.5 993,-242.5 993,-236.5 999,-230.5 1005,-230.5 1005,-230.5 1112,-230.5 1112,-230.5 1118,-230.5 1124,-236.5 1124,-242.5 1124,-242.5 1124,-286.5 1124,-286.5 1124,-292.5 1118,-298.5 1112,-298.5\"/>\r\n",
       "<text text-anchor=\"middle\" x=\"1058.5\" y=\"-283.3\" font-family=\"Helvetica,sans-Serif\" font-size=\"14.00\">entropy = 0.494</text>\r\n",
       "<text text-anchor=\"middle\" x=\"1058.5\" y=\"-268.3\" font-family=\"Helvetica,sans-Serif\" font-size=\"14.00\">samples = 148</text>\r\n",
       "<text text-anchor=\"middle\" x=\"1058.5\" y=\"-253.3\" font-family=\"Helvetica,sans-Serif\" font-size=\"14.00\">value = [132, 16]</text>\r\n",
       "<text text-anchor=\"middle\" x=\"1058.5\" y=\"-238.3\" font-family=\"Helvetica,sans-Serif\" font-size=\"14.00\">class = Not Exited</text>\r\n",
       "</g>\r\n",
       "<!-- 17&#45;&gt;55 -->\r\n",
       "<g id=\"edge34\" class=\"edge\"><title>17&#45;&gt;55</title>\r\n",
       "<path fill=\"none\" stroke=\"black\" d=\"M1151.89,-341.907C1137.32,-329.99 1121.41,-316.976 1106.92,-305.12\"/>\r\n",
       "<polygon fill=\"black\" stroke=\"black\" points=\"1108.99,-302.29 1099.04,-298.667 1104.56,-307.708 1108.99,-302.29\"/>\r\n",
       "</g>\r\n",
       "<!-- 56 -->\r\n",
       "<g id=\"node36\" class=\"node\"><title>56</title>\r\n",
       "<path fill=\"#f0b890\" stroke=\"black\" d=\"M1261,-298.5C1261,-298.5 1154,-298.5 1154,-298.5 1148,-298.5 1142,-292.5 1142,-286.5 1142,-286.5 1142,-242.5 1142,-242.5 1142,-236.5 1148,-230.5 1154,-230.5 1154,-230.5 1261,-230.5 1261,-230.5 1267,-230.5 1273,-236.5 1273,-242.5 1273,-242.5 1273,-286.5 1273,-286.5 1273,-292.5 1267,-298.5 1261,-298.5\"/>\r\n",
       "<text text-anchor=\"middle\" x=\"1207.5\" y=\"-283.3\" font-family=\"Helvetica,sans-Serif\" font-size=\"14.00\">entropy = 0.887</text>\r\n",
       "<text text-anchor=\"middle\" x=\"1207.5\" y=\"-268.3\" font-family=\"Helvetica,sans-Serif\" font-size=\"14.00\">samples = 115</text>\r\n",
       "<text text-anchor=\"middle\" x=\"1207.5\" y=\"-253.3\" font-family=\"Helvetica,sans-Serif\" font-size=\"14.00\">value = [80, 35]</text>\r\n",
       "<text text-anchor=\"middle\" x=\"1207.5\" y=\"-238.3\" font-family=\"Helvetica,sans-Serif\" font-size=\"14.00\">class = Not Exited</text>\r\n",
       "</g>\r\n",
       "<!-- 17&#45;&gt;56 -->\r\n",
       "<g id=\"edge35\" class=\"edge\"><title>17&#45;&gt;56</title>\r\n",
       "<path fill=\"none\" stroke=\"black\" d=\"M1203.58,-341.907C1204.13,-331.204 1204.72,-319.615 1205.28,-308.776\"/>\r\n",
       "<polygon fill=\"black\" stroke=\"black\" points=\"1208.78,-308.833 1205.8,-298.667 1201.79,-308.475 1208.78,-308.833\"/>\r\n",
       "</g>\r\n",
       "<!-- 11 -->\r\n",
       "<g id=\"node40\" class=\"node\"><title>11</title>\r\n",
       "<path fill=\"#eda877\" stroke=\"black\" d=\"M1815,-663C1815,-663 1676,-663 1676,-663 1670,-663 1664,-657 1664,-651 1664,-651 1664,-592 1664,-592 1664,-586 1670,-580 1676,-580 1676,-580 1815,-580 1815,-580 1821,-580 1827,-586 1827,-592 1827,-592 1827,-651 1827,-651 1827,-657 1821,-663 1815,-663\"/>\r\n",
       "<text text-anchor=\"middle\" x=\"1745.5\" y=\"-647.8\" font-family=\"Helvetica,sans-Serif\" font-size=\"14.00\">NumOfProducts &lt;= 1.5</text>\r\n",
       "<text text-anchor=\"middle\" x=\"1745.5\" y=\"-632.8\" font-family=\"Helvetica,sans-Serif\" font-size=\"14.00\">entropy = 0.793</text>\r\n",
       "<text text-anchor=\"middle\" x=\"1745.5\" y=\"-617.8\" font-family=\"Helvetica,sans-Serif\" font-size=\"14.00\">samples = 1207</text>\r\n",
       "<text text-anchor=\"middle\" x=\"1745.5\" y=\"-602.8\" font-family=\"Helvetica,sans-Serif\" font-size=\"14.00\">value = [919, 288]</text>\r\n",
       "<text text-anchor=\"middle\" x=\"1745.5\" y=\"-587.8\" font-family=\"Helvetica,sans-Serif\" font-size=\"14.00\">class = Not Exited</text>\r\n",
       "</g>\r\n",
       "<!-- 8&#45;&gt;11 -->\r\n",
       "<g id=\"edge39\" class=\"edge\"><title>8&#45;&gt;11</title>\r\n",
       "<path fill=\"none\" stroke=\"black\" d=\"M1745.5,-698.907C1745.5,-690.649 1745.5,-681.864 1745.5,-673.302\"/>\r\n",
       "<polygon fill=\"black\" stroke=\"black\" points=\"1749,-673.021 1745.5,-663.021 1742,-673.021 1749,-673.021\"/>\r\n",
       "</g>\r\n",
       "<!-- 12 -->\r\n",
       "<g id=\"node57\" class=\"node\"><title>12</title>\r\n",
       "<path fill=\"#45a3e7\" stroke=\"black\" d=\"M2022.5,-663C2022.5,-663 1938.5,-663 1938.5,-663 1932.5,-663 1926.5,-657 1926.5,-651 1926.5,-651 1926.5,-592 1926.5,-592 1926.5,-586 1932.5,-580 1938.5,-580 1938.5,-580 2022.5,-580 2022.5,-580 2028.5,-580 2034.5,-586 2034.5,-592 2034.5,-592 2034.5,-651 2034.5,-651 2034.5,-657 2028.5,-663 2022.5,-663\"/>\r\n",
       "<text text-anchor=\"middle\" x=\"1980.5\" y=\"-647.8\" font-family=\"Helvetica,sans-Serif\" font-size=\"14.00\">Age &lt;= 64.5</text>\r\n",
       "<text text-anchor=\"middle\" x=\"1980.5\" y=\"-632.8\" font-family=\"Helvetica,sans-Serif\" font-size=\"14.00\">entropy = 0.31</text>\r\n",
       "<text text-anchor=\"middle\" x=\"1980.5\" y=\"-617.8\" font-family=\"Helvetica,sans-Serif\" font-size=\"14.00\">samples = 54</text>\r\n",
       "<text text-anchor=\"middle\" x=\"1980.5\" y=\"-602.8\" font-family=\"Helvetica,sans-Serif\" font-size=\"14.00\">value = [3, 51]</text>\r\n",
       "<text text-anchor=\"middle\" x=\"1980.5\" y=\"-587.8\" font-family=\"Helvetica,sans-Serif\" font-size=\"14.00\">class = Exited</text>\r\n",
       "</g>\r\n",
       "<!-- 8&#45;&gt;12 -->\r\n",
       "<g id=\"edge56\" class=\"edge\"><title>8&#45;&gt;12</title>\r\n",
       "<path fill=\"none\" stroke=\"black\" d=\"M1827.03,-698.907C1856.57,-684.202 1889.46,-667.825 1917.2,-654.017\"/>\r\n",
       "<polygon fill=\"black\" stroke=\"black\" points=\"1919,-657.029 1926.39,-649.439 1915.88,-650.762 1919,-657.029\"/>\r\n",
       "</g>\r\n",
       "<!-- 13 -->\r\n",
       "<g id=\"node41\" class=\"node\"><title>13</title>\r\n",
       "<path fill=\"#f3c3a0\" stroke=\"black\" d=\"M1719,-544C1719,-544 1612,-544 1612,-544 1606,-544 1600,-538 1600,-532 1600,-532 1600,-473 1600,-473 1600,-467 1606,-461 1612,-461 1612,-461 1719,-461 1719,-461 1725,-461 1731,-467 1731,-473 1731,-473 1731,-532 1731,-532 1731,-538 1725,-544 1719,-544\"/>\r\n",
       "<text text-anchor=\"middle\" x=\"1665.5\" y=\"-528.8\" font-family=\"Helvetica,sans-Serif\" font-size=\"14.00\">Germany &lt;= 0.5</text>\r\n",
       "<text text-anchor=\"middle\" x=\"1665.5\" y=\"-513.8\" font-family=\"Helvetica,sans-Serif\" font-size=\"14.00\">entropy = 0.927</text>\r\n",
       "<text text-anchor=\"middle\" x=\"1665.5\" y=\"-498.8\" font-family=\"Helvetica,sans-Serif\" font-size=\"14.00\">samples = 651</text>\r\n",
       "<text text-anchor=\"middle\" x=\"1665.5\" y=\"-483.8\" font-family=\"Helvetica,sans-Serif\" font-size=\"14.00\">value = [428, 223]</text>\r\n",
       "<text text-anchor=\"middle\" x=\"1665.5\" y=\"-468.8\" font-family=\"Helvetica,sans-Serif\" font-size=\"14.00\">class = Not Exited</text>\r\n",
       "</g>\r\n",
       "<!-- 11&#45;&gt;13 -->\r\n",
       "<g id=\"edge40\" class=\"edge\"><title>11&#45;&gt;13</title>\r\n",
       "<path fill=\"none\" stroke=\"black\" d=\"M1717.74,-579.907C1711.66,-571.014 1705.16,-561.509 1698.89,-552.331\"/>\r\n",
       "<polygon fill=\"black\" stroke=\"black\" points=\"1701.74,-550.3 1693.21,-544.021 1695.96,-554.251 1701.74,-550.3\"/>\r\n",
       "</g>\r\n",
       "<!-- 14 -->\r\n",
       "<g id=\"node54\" class=\"node\"><title>14</title>\r\n",
       "<path fill=\"#e89253\" stroke=\"black\" d=\"M1898,-544C1898,-544 1761,-544 1761,-544 1755,-544 1749,-538 1749,-532 1749,-532 1749,-473 1749,-473 1749,-467 1755,-461 1761,-461 1761,-461 1898,-461 1898,-461 1904,-461 1910,-467 1910,-473 1910,-473 1910,-532 1910,-532 1910,-538 1904,-544 1898,-544\"/>\r\n",
       "<text text-anchor=\"middle\" x=\"1829.5\" y=\"-528.8\" font-family=\"Helvetica,sans-Serif\" font-size=\"14.00\">Balance &lt;= 43031.969</text>\r\n",
       "<text text-anchor=\"middle\" x=\"1829.5\" y=\"-513.8\" font-family=\"Helvetica,sans-Serif\" font-size=\"14.00\">entropy = 0.52</text>\r\n",
       "<text text-anchor=\"middle\" x=\"1829.5\" y=\"-498.8\" font-family=\"Helvetica,sans-Serif\" font-size=\"14.00\">samples = 556</text>\r\n",
       "<text text-anchor=\"middle\" x=\"1829.5\" y=\"-483.8\" font-family=\"Helvetica,sans-Serif\" font-size=\"14.00\">value = [491, 65]</text>\r\n",
       "<text text-anchor=\"middle\" x=\"1829.5\" y=\"-468.8\" font-family=\"Helvetica,sans-Serif\" font-size=\"14.00\">class = Not Exited</text>\r\n",
       "</g>\r\n",
       "<!-- 11&#45;&gt;14 -->\r\n",
       "<g id=\"edge53\" class=\"edge\"><title>11&#45;&gt;14</title>\r\n",
       "<path fill=\"none\" stroke=\"black\" d=\"M1774.64,-579.907C1781.03,-571.014 1787.85,-561.509 1794.44,-552.331\"/>\r\n",
       "<polygon fill=\"black\" stroke=\"black\" points=\"1797.42,-554.185 1800.41,-544.021 1791.73,-550.103 1797.42,-554.185\"/>\r\n",
       "</g>\r\n",
       "<!-- 23 -->\r\n",
       "<g id=\"node42\" class=\"node\"><title>23</title>\r\n",
       "<path fill=\"#eeae7f\" stroke=\"black\" d=\"M1581,-425C1581,-425 1474,-425 1474,-425 1468,-425 1462,-419 1462,-413 1462,-413 1462,-354 1462,-354 1462,-348 1468,-342 1474,-342 1474,-342 1581,-342 1581,-342 1587,-342 1593,-348 1593,-354 1593,-354 1593,-413 1593,-413 1593,-419 1587,-425 1581,-425\"/>\r\n",
       "<text text-anchor=\"middle\" x=\"1527.5\" y=\"-409.8\" font-family=\"Helvetica,sans-Serif\" font-size=\"14.00\">Age &lt;= 61.5</text>\r\n",
       "<text text-anchor=\"middle\" x=\"1527.5\" y=\"-394.8\" font-family=\"Helvetica,sans-Serif\" font-size=\"14.00\">entropy = 0.829</text>\r\n",
       "<text text-anchor=\"middle\" x=\"1527.5\" y=\"-379.8\" font-family=\"Helvetica,sans-Serif\" font-size=\"14.00\">samples = 466</text>\r\n",
       "<text text-anchor=\"middle\" x=\"1527.5\" y=\"-364.8\" font-family=\"Helvetica,sans-Serif\" font-size=\"14.00\">value = [344, 122]</text>\r\n",
       "<text text-anchor=\"middle\" x=\"1527.5\" y=\"-349.8\" font-family=\"Helvetica,sans-Serif\" font-size=\"14.00\">class = Not Exited</text>\r\n",
       "</g>\r\n",
       "<!-- 13&#45;&gt;23 -->\r\n",
       "<g id=\"edge41\" class=\"edge\"><title>13&#45;&gt;23</title>\r\n",
       "<path fill=\"none\" stroke=\"black\" d=\"M1617.62,-460.907C1606.49,-451.469 1594.55,-441.343 1583.11,-431.649\"/>\r\n",
       "<polygon fill=\"black\" stroke=\"black\" points=\"1585.18,-428.818 1575.29,-425.021 1580.66,-434.157 1585.18,-428.818\"/>\r\n",
       "</g>\r\n",
       "<!-- 24 -->\r\n",
       "<g id=\"node49\" class=\"node\"><title>24</title>\r\n",
       "<path fill=\"#deeffb\" stroke=\"black\" d=\"M1733.5,-425C1733.5,-425 1635.5,-425 1635.5,-425 1629.5,-425 1623.5,-419 1623.5,-413 1623.5,-413 1623.5,-354 1623.5,-354 1623.5,-348 1629.5,-342 1635.5,-342 1635.5,-342 1733.5,-342 1733.5,-342 1739.5,-342 1745.5,-348 1745.5,-354 1745.5,-354 1745.5,-413 1745.5,-413 1745.5,-419 1739.5,-425 1733.5,-425\"/>\r\n",
       "<text text-anchor=\"middle\" x=\"1684.5\" y=\"-409.8\" font-family=\"Helvetica,sans-Serif\" font-size=\"14.00\">Age &lt;= 68.5</text>\r\n",
       "<text text-anchor=\"middle\" x=\"1684.5\" y=\"-394.8\" font-family=\"Helvetica,sans-Serif\" font-size=\"14.00\">entropy = 0.994</text>\r\n",
       "<text text-anchor=\"middle\" x=\"1684.5\" y=\"-379.8\" font-family=\"Helvetica,sans-Serif\" font-size=\"14.00\">samples = 185</text>\r\n",
       "<text text-anchor=\"middle\" x=\"1684.5\" y=\"-364.8\" font-family=\"Helvetica,sans-Serif\" font-size=\"14.00\">value = [84, 101]</text>\r\n",
       "<text text-anchor=\"middle\" x=\"1684.5\" y=\"-349.8\" font-family=\"Helvetica,sans-Serif\" font-size=\"14.00\">class = Exited</text>\r\n",
       "</g>\r\n",
       "<!-- 13&#45;&gt;24 -->\r\n",
       "<g id=\"edge48\" class=\"edge\"><title>13&#45;&gt;24</title>\r\n",
       "<path fill=\"none\" stroke=\"black\" d=\"M1672.09,-460.907C1673.45,-452.558 1674.89,-443.671 1676.3,-435.02\"/>\r\n",
       "<polygon fill=\"black\" stroke=\"black\" points=\"1679.77,-435.453 1677.92,-425.021 1672.86,-434.33 1679.77,-435.453\"/>\r\n",
       "</g>\r\n",
       "<!-- 31 -->\r\n",
       "<g id=\"node43\" class=\"node\"><title>31</title>\r\n",
       "<path fill=\"#f1bb94\" stroke=\"black\" d=\"M1432,-306C1432,-306 1303,-306 1303,-306 1297,-306 1291,-300 1291,-294 1291,-294 1291,-235 1291,-235 1291,-229 1297,-223 1303,-223 1303,-223 1432,-223 1432,-223 1438,-223 1444,-229 1444,-235 1444,-235 1444,-294 1444,-294 1444,-300 1438,-306 1432,-306\"/>\r\n",
       "<text text-anchor=\"middle\" x=\"1367.5\" y=\"-290.8\" font-family=\"Helvetica,sans-Serif\" font-size=\"14.00\">Balance &lt;= 67335.82</text>\r\n",
       "<text text-anchor=\"middle\" x=\"1367.5\" y=\"-275.8\" font-family=\"Helvetica,sans-Serif\" font-size=\"14.00\">entropy = 0.899</text>\r\n",
       "<text text-anchor=\"middle\" x=\"1367.5\" y=\"-260.8\" font-family=\"Helvetica,sans-Serif\" font-size=\"14.00\">samples = 368</text>\r\n",
       "<text text-anchor=\"middle\" x=\"1367.5\" y=\"-245.8\" font-family=\"Helvetica,sans-Serif\" font-size=\"14.00\">value = [252, 116]</text>\r\n",
       "<text text-anchor=\"middle\" x=\"1367.5\" y=\"-230.8\" font-family=\"Helvetica,sans-Serif\" font-size=\"14.00\">class = Not Exited</text>\r\n",
       "</g>\r\n",
       "<!-- 23&#45;&gt;31 -->\r\n",
       "<g id=\"edge42\" class=\"edge\"><title>23&#45;&gt;31</title>\r\n",
       "<path fill=\"none\" stroke=\"black\" d=\"M1471.99,-341.907C1458.83,-332.288 1444.7,-321.953 1431.21,-312.09\"/>\r\n",
       "<polygon fill=\"black\" stroke=\"black\" points=\"1433.05,-309.098 1422.91,-306.021 1428.92,-314.749 1433.05,-309.098\"/>\r\n",
       "</g>\r\n",
       "<!-- 32 -->\r\n",
       "<g id=\"node48\" class=\"node\"><title>32</title>\r\n",
       "<path fill=\"#e78946\" stroke=\"black\" d=\"M1581,-298.5C1581,-298.5 1474,-298.5 1474,-298.5 1468,-298.5 1462,-292.5 1462,-286.5 1462,-286.5 1462,-242.5 1462,-242.5 1462,-236.5 1468,-230.5 1474,-230.5 1474,-230.5 1581,-230.5 1581,-230.5 1587,-230.5 1593,-236.5 1593,-242.5 1593,-242.5 1593,-286.5 1593,-286.5 1593,-292.5 1587,-298.5 1581,-298.5\"/>\r\n",
       "<text text-anchor=\"middle\" x=\"1527.5\" y=\"-283.3\" font-family=\"Helvetica,sans-Serif\" font-size=\"14.00\">entropy = 0.332</text>\r\n",
       "<text text-anchor=\"middle\" x=\"1527.5\" y=\"-268.3\" font-family=\"Helvetica,sans-Serif\" font-size=\"14.00\">samples = 98</text>\r\n",
       "<text text-anchor=\"middle\" x=\"1527.5\" y=\"-253.3\" font-family=\"Helvetica,sans-Serif\" font-size=\"14.00\">value = [92, 6]</text>\r\n",
       "<text text-anchor=\"middle\" x=\"1527.5\" y=\"-238.3\" font-family=\"Helvetica,sans-Serif\" font-size=\"14.00\">class = Not Exited</text>\r\n",
       "</g>\r\n",
       "<!-- 23&#45;&gt;32 -->\r\n",
       "<g id=\"edge47\" class=\"edge\"><title>23&#45;&gt;32</title>\r\n",
       "<path fill=\"none\" stroke=\"black\" d=\"M1527.5,-341.907C1527.5,-331.204 1527.5,-319.615 1527.5,-308.776\"/>\r\n",
       "<polygon fill=\"black\" stroke=\"black\" points=\"1531,-308.667 1527.5,-298.667 1524,-308.667 1531,-308.667\"/>\r\n",
       "</g>\r\n",
       "<!-- 37 -->\r\n",
       "<g id=\"node44\" class=\"node\"><title>37</title>\r\n",
       "<path fill=\"#f5fafe\" stroke=\"black\" d=\"M1300.5,-179.5C1300.5,-179.5 1208.5,-179.5 1208.5,-179.5 1202.5,-179.5 1196.5,-173.5 1196.5,-167.5 1196.5,-167.5 1196.5,-123.5 1196.5,-123.5 1196.5,-117.5 1202.5,-111.5 1208.5,-111.5 1208.5,-111.5 1300.5,-111.5 1300.5,-111.5 1306.5,-111.5 1312.5,-117.5 1312.5,-123.5 1312.5,-123.5 1312.5,-167.5 1312.5,-167.5 1312.5,-173.5 1306.5,-179.5 1300.5,-179.5\"/>\r\n",
       "<text text-anchor=\"middle\" x=\"1254.5\" y=\"-164.3\" font-family=\"Helvetica,sans-Serif\" font-size=\"14.00\">entropy = 0.999</text>\r\n",
       "<text text-anchor=\"middle\" x=\"1254.5\" y=\"-149.3\" font-family=\"Helvetica,sans-Serif\" font-size=\"14.00\">samples = 113</text>\r\n",
       "<text text-anchor=\"middle\" x=\"1254.5\" y=\"-134.3\" font-family=\"Helvetica,sans-Serif\" font-size=\"14.00\">value = [55, 58]</text>\r\n",
       "<text text-anchor=\"middle\" x=\"1254.5\" y=\"-119.3\" font-family=\"Helvetica,sans-Serif\" font-size=\"14.00\">class = Exited</text>\r\n",
       "</g>\r\n",
       "<!-- 31&#45;&gt;37 -->\r\n",
       "<g id=\"edge43\" class=\"edge\"><title>31&#45;&gt;37</title>\r\n",
       "<path fill=\"none\" stroke=\"black\" d=\"M1328.3,-222.907C1317.11,-211.321 1304.91,-198.698 1293.72,-187.111\"/>\r\n",
       "<polygon fill=\"black\" stroke=\"black\" points=\"1296,-184.428 1286.53,-179.667 1290.96,-189.291 1296,-184.428\"/>\r\n",
       "</g>\r\n",
       "<!-- 38 -->\r\n",
       "<g id=\"node45\" class=\"node\"><title>38</title>\r\n",
       "<path fill=\"#eda673\" stroke=\"black\" d=\"M1488.5,-187C1488.5,-187 1342.5,-187 1342.5,-187 1336.5,-187 1330.5,-181 1330.5,-175 1330.5,-175 1330.5,-116 1330.5,-116 1330.5,-110 1336.5,-104 1342.5,-104 1342.5,-104 1488.5,-104 1488.5,-104 1494.5,-104 1500.5,-110 1500.5,-116 1500.5,-116 1500.5,-175 1500.5,-175 1500.5,-181 1494.5,-187 1488.5,-187\"/>\r\n",
       "<text text-anchor=\"middle\" x=\"1415.5\" y=\"-171.8\" font-family=\"Helvetica,sans-Serif\" font-size=\"14.00\">Balance &lt;= 191171.609</text>\r\n",
       "<text text-anchor=\"middle\" x=\"1415.5\" y=\"-156.8\" font-family=\"Helvetica,sans-Serif\" font-size=\"14.00\">entropy = 0.774</text>\r\n",
       "<text text-anchor=\"middle\" x=\"1415.5\" y=\"-141.8\" font-family=\"Helvetica,sans-Serif\" font-size=\"14.00\">samples = 255</text>\r\n",
       "<text text-anchor=\"middle\" x=\"1415.5\" y=\"-126.8\" font-family=\"Helvetica,sans-Serif\" font-size=\"14.00\">value = [197, 58]</text>\r\n",
       "<text text-anchor=\"middle\" x=\"1415.5\" y=\"-111.8\" font-family=\"Helvetica,sans-Serif\" font-size=\"14.00\">class = Not Exited</text>\r\n",
       "</g>\r\n",
       "<!-- 31&#45;&gt;38 -->\r\n",
       "<g id=\"edge44\" class=\"edge\"><title>31&#45;&gt;38</title>\r\n",
       "<path fill=\"none\" stroke=\"black\" d=\"M1384.15,-222.907C1387.65,-214.377 1391.38,-205.284 1395.01,-196.456\"/>\r\n",
       "<polygon fill=\"black\" stroke=\"black\" points=\"1398.32,-197.601 1398.88,-187.021 1391.84,-194.944 1398.32,-197.601\"/>\r\n",
       "</g>\r\n",
       "<!-- 51 -->\r\n",
       "<g id=\"node46\" class=\"node\"><title>51</title>\r\n",
       "<path fill=\"#eca26d\" stroke=\"black\" d=\"M1401,-68C1401,-68 1294,-68 1294,-68 1288,-68 1282,-62 1282,-56 1282,-56 1282,-12 1282,-12 1282,-6 1288,-0 1294,-0 1294,-0 1401,-0 1401,-0 1407,-0 1413,-6 1413,-12 1413,-12 1413,-56 1413,-56 1413,-62 1407,-68 1401,-68\"/>\r\n",
       "<text text-anchor=\"middle\" x=\"1347.5\" y=\"-52.8\" font-family=\"Helvetica,sans-Serif\" font-size=\"14.00\">entropy = 0.739</text>\r\n",
       "<text text-anchor=\"middle\" x=\"1347.5\" y=\"-37.8\" font-family=\"Helvetica,sans-Serif\" font-size=\"14.00\">samples = 249</text>\r\n",
       "<text text-anchor=\"middle\" x=\"1347.5\" y=\"-22.8\" font-family=\"Helvetica,sans-Serif\" font-size=\"14.00\">value = [197, 52]</text>\r\n",
       "<text text-anchor=\"middle\" x=\"1347.5\" y=\"-7.8\" font-family=\"Helvetica,sans-Serif\" font-size=\"14.00\">class = Not Exited</text>\r\n",
       "</g>\r\n",
       "<!-- 38&#45;&gt;51 -->\r\n",
       "<g id=\"edge45\" class=\"edge\"><title>38&#45;&gt;51</title>\r\n",
       "<path fill=\"none\" stroke=\"black\" d=\"M1390.18,-103.726C1384.74,-94.9703 1378.99,-85.7032 1373.52,-76.9051\"/>\r\n",
       "<polygon fill=\"black\" stroke=\"black\" points=\"1376.43,-74.9484 1368.18,-68.2996 1370.48,-78.6413 1376.43,-74.9484\"/>\r\n",
       "</g>\r\n",
       "<!-- 52 -->\r\n",
       "<g id=\"node47\" class=\"node\"><title>52</title>\r\n",
       "<path fill=\"#399de5\" stroke=\"black\" d=\"M1524,-68C1524,-68 1443,-68 1443,-68 1437,-68 1431,-62 1431,-56 1431,-56 1431,-12 1431,-12 1431,-6 1437,-0 1443,-0 1443,-0 1524,-0 1524,-0 1530,-0 1536,-6 1536,-12 1536,-12 1536,-56 1536,-56 1536,-62 1530,-68 1524,-68\"/>\r\n",
       "<text text-anchor=\"middle\" x=\"1483.5\" y=\"-52.8\" font-family=\"Helvetica,sans-Serif\" font-size=\"14.00\">entropy = 0.0</text>\r\n",
       "<text text-anchor=\"middle\" x=\"1483.5\" y=\"-37.8\" font-family=\"Helvetica,sans-Serif\" font-size=\"14.00\">samples = 6</text>\r\n",
       "<text text-anchor=\"middle\" x=\"1483.5\" y=\"-22.8\" font-family=\"Helvetica,sans-Serif\" font-size=\"14.00\">value = [0, 6]</text>\r\n",
       "<text text-anchor=\"middle\" x=\"1483.5\" y=\"-7.8\" font-family=\"Helvetica,sans-Serif\" font-size=\"14.00\">class = Exited</text>\r\n",
       "</g>\r\n",
       "<!-- 38&#45;&gt;52 -->\r\n",
       "<g id=\"edge46\" class=\"edge\"><title>38&#45;&gt;52</title>\r\n",
       "<path fill=\"none\" stroke=\"black\" d=\"M1440.82,-103.726C1446.26,-94.9703 1452.01,-85.7032 1457.48,-76.9051\"/>\r\n",
       "<polygon fill=\"black\" stroke=\"black\" points=\"1460.52,-78.6413 1462.82,-68.2996 1454.57,-74.9484 1460.52,-78.6413\"/>\r\n",
       "</g>\r\n",
       "<!-- 47 -->\r\n",
       "<g id=\"node50\" class=\"node\"><title>47</title>\r\n",
       "<path fill=\"#c4e2f7\" stroke=\"black\" d=\"M1769.5,-306C1769.5,-306 1623.5,-306 1623.5,-306 1617.5,-306 1611.5,-300 1611.5,-294 1611.5,-294 1611.5,-235 1611.5,-235 1611.5,-229 1617.5,-223 1623.5,-223 1623.5,-223 1769.5,-223 1769.5,-223 1775.5,-223 1781.5,-229 1781.5,-235 1781.5,-235 1781.5,-294 1781.5,-294 1781.5,-300 1775.5,-306 1769.5,-306\"/>\r\n",
       "<text text-anchor=\"middle\" x=\"1696.5\" y=\"-290.8\" font-family=\"Helvetica,sans-Serif\" font-size=\"14.00\">Balance &lt;= 137114.742</text>\r\n",
       "<text text-anchor=\"middle\" x=\"1696.5\" y=\"-275.8\" font-family=\"Helvetica,sans-Serif\" font-size=\"14.00\">entropy = 0.978</text>\r\n",
       "<text text-anchor=\"middle\" x=\"1696.5\" y=\"-260.8\" font-family=\"Helvetica,sans-Serif\" font-size=\"14.00\">samples = 172</text>\r\n",
       "<text text-anchor=\"middle\" x=\"1696.5\" y=\"-245.8\" font-family=\"Helvetica,sans-Serif\" font-size=\"14.00\">value = [71, 101]</text>\r\n",
       "<text text-anchor=\"middle\" x=\"1696.5\" y=\"-230.8\" font-family=\"Helvetica,sans-Serif\" font-size=\"14.00\">class = Exited</text>\r\n",
       "</g>\r\n",
       "<!-- 24&#45;&gt;47 -->\r\n",
       "<g id=\"edge49\" class=\"edge\"><title>24&#45;&gt;47</title>\r\n",
       "<path fill=\"none\" stroke=\"black\" d=\"M1688.66,-341.907C1689.52,-333.558 1690.43,-324.671 1691.32,-316.02\"/>\r\n",
       "<polygon fill=\"black\" stroke=\"black\" points=\"1694.81,-316.326 1692.34,-306.021 1687.84,-315.611 1694.81,-316.326\"/>\r\n",
       "</g>\r\n",
       "<!-- 48 -->\r\n",
       "<g id=\"node53\" class=\"node\"><title>48</title>\r\n",
       "<path fill=\"#e58139\" stroke=\"black\" d=\"M1919,-298.5C1919,-298.5 1812,-298.5 1812,-298.5 1806,-298.5 1800,-292.5 1800,-286.5 1800,-286.5 1800,-242.5 1800,-242.5 1800,-236.5 1806,-230.5 1812,-230.5 1812,-230.5 1919,-230.5 1919,-230.5 1925,-230.5 1931,-236.5 1931,-242.5 1931,-242.5 1931,-286.5 1931,-286.5 1931,-292.5 1925,-298.5 1919,-298.5\"/>\r\n",
       "<text text-anchor=\"middle\" x=\"1865.5\" y=\"-283.3\" font-family=\"Helvetica,sans-Serif\" font-size=\"14.00\">entropy = 0.0</text>\r\n",
       "<text text-anchor=\"middle\" x=\"1865.5\" y=\"-268.3\" font-family=\"Helvetica,sans-Serif\" font-size=\"14.00\">samples = 13</text>\r\n",
       "<text text-anchor=\"middle\" x=\"1865.5\" y=\"-253.3\" font-family=\"Helvetica,sans-Serif\" font-size=\"14.00\">value = [13, 0]</text>\r\n",
       "<text text-anchor=\"middle\" x=\"1865.5\" y=\"-238.3\" font-family=\"Helvetica,sans-Serif\" font-size=\"14.00\">class = Not Exited</text>\r\n",
       "</g>\r\n",
       "<!-- 24&#45;&gt;48 -->\r\n",
       "<g id=\"edge52\" class=\"edge\"><title>24&#45;&gt;48</title>\r\n",
       "<path fill=\"none\" stroke=\"black\" d=\"M1745.53,-343.052C1765.02,-330.454 1786.55,-316.533 1805.94,-304.003\"/>\r\n",
       "<polygon fill=\"black\" stroke=\"black\" points=\"1807.89,-306.909 1814.39,-298.541 1804.09,-301.03 1807.89,-306.909\"/>\r\n",
       "</g>\r\n",
       "<!-- 57 -->\r\n",
       "<g id=\"node51\" class=\"node\"><title>57</title>\r\n",
       "<path fill=\"#9ccef2\" stroke=\"black\" d=\"M1671.5,-179.5C1671.5,-179.5 1579.5,-179.5 1579.5,-179.5 1573.5,-179.5 1567.5,-173.5 1567.5,-167.5 1567.5,-167.5 1567.5,-123.5 1567.5,-123.5 1567.5,-117.5 1573.5,-111.5 1579.5,-111.5 1579.5,-111.5 1671.5,-111.5 1671.5,-111.5 1677.5,-111.5 1683.5,-117.5 1683.5,-123.5 1683.5,-123.5 1683.5,-167.5 1683.5,-167.5 1683.5,-173.5 1677.5,-179.5 1671.5,-179.5\"/>\r\n",
       "<text text-anchor=\"middle\" x=\"1625.5\" y=\"-164.3\" font-family=\"Helvetica,sans-Serif\" font-size=\"14.00\">entropy = 0.918</text>\r\n",
       "<text text-anchor=\"middle\" x=\"1625.5\" y=\"-149.3\" font-family=\"Helvetica,sans-Serif\" font-size=\"14.00\">samples = 129</text>\r\n",
       "<text text-anchor=\"middle\" x=\"1625.5\" y=\"-134.3\" font-family=\"Helvetica,sans-Serif\" font-size=\"14.00\">value = [43, 86]</text>\r\n",
       "<text text-anchor=\"middle\" x=\"1625.5\" y=\"-119.3\" font-family=\"Helvetica,sans-Serif\" font-size=\"14.00\">class = Exited</text>\r\n",
       "</g>\r\n",
       "<!-- 47&#45;&gt;57 -->\r\n",
       "<g id=\"edge50\" class=\"edge\"><title>47&#45;&gt;57</title>\r\n",
       "<path fill=\"none\" stroke=\"black\" d=\"M1671.87,-222.907C1665.1,-211.763 1657.76,-199.658 1650.95,-188.439\"/>\r\n",
       "<polygon fill=\"black\" stroke=\"black\" points=\"1653.81,-186.4 1645.63,-179.667 1647.82,-190.032 1653.81,-186.4\"/>\r\n",
       "</g>\r\n",
       "<!-- 58 -->\r\n",
       "<g id=\"node52\" class=\"node\"><title>58</title>\r\n",
       "<path fill=\"#f3c4a3\" stroke=\"black\" d=\"M1821,-179.5C1821,-179.5 1714,-179.5 1714,-179.5 1708,-179.5 1702,-173.5 1702,-167.5 1702,-167.5 1702,-123.5 1702,-123.5 1702,-117.5 1708,-111.5 1714,-111.5 1714,-111.5 1821,-111.5 1821,-111.5 1827,-111.5 1833,-117.5 1833,-123.5 1833,-123.5 1833,-167.5 1833,-167.5 1833,-173.5 1827,-179.5 1821,-179.5\"/>\r\n",
       "<text text-anchor=\"middle\" x=\"1767.5\" y=\"-164.3\" font-family=\"Helvetica,sans-Serif\" font-size=\"14.00\">entropy = 0.933</text>\r\n",
       "<text text-anchor=\"middle\" x=\"1767.5\" y=\"-149.3\" font-family=\"Helvetica,sans-Serif\" font-size=\"14.00\">samples = 43</text>\r\n",
       "<text text-anchor=\"middle\" x=\"1767.5\" y=\"-134.3\" font-family=\"Helvetica,sans-Serif\" font-size=\"14.00\">value = [28, 15]</text>\r\n",
       "<text text-anchor=\"middle\" x=\"1767.5\" y=\"-119.3\" font-family=\"Helvetica,sans-Serif\" font-size=\"14.00\">class = Not Exited</text>\r\n",
       "</g>\r\n",
       "<!-- 47&#45;&gt;58 -->\r\n",
       "<g id=\"edge51\" class=\"edge\"><title>47&#45;&gt;58</title>\r\n",
       "<path fill=\"none\" stroke=\"black\" d=\"M1721.13,-222.907C1727.9,-211.763 1735.24,-199.658 1742.05,-188.439\"/>\r\n",
       "<polygon fill=\"black\" stroke=\"black\" points=\"1745.18,-190.032 1747.37,-179.667 1739.19,-186.4 1745.18,-190.032\"/>\r\n",
       "</g>\r\n",
       "<!-- 25 -->\r\n",
       "<g id=\"node55\" class=\"node\"><title>25</title>\r\n",
       "<path fill=\"#e68641\" stroke=\"black\" d=\"M1883,-417.5C1883,-417.5 1776,-417.5 1776,-417.5 1770,-417.5 1764,-411.5 1764,-405.5 1764,-405.5 1764,-361.5 1764,-361.5 1764,-355.5 1770,-349.5 1776,-349.5 1776,-349.5 1883,-349.5 1883,-349.5 1889,-349.5 1895,-355.5 1895,-361.5 1895,-361.5 1895,-405.5 1895,-405.5 1895,-411.5 1889,-417.5 1883,-417.5\"/>\r\n",
       "<text text-anchor=\"middle\" x=\"1829.5\" y=\"-402.3\" font-family=\"Helvetica,sans-Serif\" font-size=\"14.00\">entropy = 0.235</text>\r\n",
       "<text text-anchor=\"middle\" x=\"1829.5\" y=\"-387.3\" font-family=\"Helvetica,sans-Serif\" font-size=\"14.00\">samples = 312</text>\r\n",
       "<text text-anchor=\"middle\" x=\"1829.5\" y=\"-372.3\" font-family=\"Helvetica,sans-Serif\" font-size=\"14.00\">value = [300, 12]</text>\r\n",
       "<text text-anchor=\"middle\" x=\"1829.5\" y=\"-357.3\" font-family=\"Helvetica,sans-Serif\" font-size=\"14.00\">class = Not Exited</text>\r\n",
       "</g>\r\n",
       "<!-- 14&#45;&gt;25 -->\r\n",
       "<g id=\"edge54\" class=\"edge\"><title>14&#45;&gt;25</title>\r\n",
       "<path fill=\"none\" stroke=\"black\" d=\"M1829.5,-460.907C1829.5,-450.204 1829.5,-438.615 1829.5,-427.776\"/>\r\n",
       "<polygon fill=\"black\" stroke=\"black\" points=\"1833,-427.667 1829.5,-417.667 1826,-427.667 1833,-427.667\"/>\r\n",
       "</g>\r\n",
       "<!-- 26 -->\r\n",
       "<g id=\"node56\" class=\"node\"><title>26</title>\r\n",
       "<path fill=\"#eca470\" stroke=\"black\" d=\"M2032,-417.5C2032,-417.5 1925,-417.5 1925,-417.5 1919,-417.5 1913,-411.5 1913,-405.5 1913,-405.5 1913,-361.5 1913,-361.5 1913,-355.5 1919,-349.5 1925,-349.5 1925,-349.5 2032,-349.5 2032,-349.5 2038,-349.5 2044,-355.5 2044,-361.5 2044,-361.5 2044,-405.5 2044,-405.5 2044,-411.5 2038,-417.5 2032,-417.5\"/>\r\n",
       "<text text-anchor=\"middle\" x=\"1978.5\" y=\"-402.3\" font-family=\"Helvetica,sans-Serif\" font-size=\"14.00\">entropy = 0.755</text>\r\n",
       "<text text-anchor=\"middle\" x=\"1978.5\" y=\"-387.3\" font-family=\"Helvetica,sans-Serif\" font-size=\"14.00\">samples = 244</text>\r\n",
       "<text text-anchor=\"middle\" x=\"1978.5\" y=\"-372.3\" font-family=\"Helvetica,sans-Serif\" font-size=\"14.00\">value = [191, 53]</text>\r\n",
       "<text text-anchor=\"middle\" x=\"1978.5\" y=\"-357.3\" font-family=\"Helvetica,sans-Serif\" font-size=\"14.00\">class = Not Exited</text>\r\n",
       "</g>\r\n",
       "<!-- 14&#45;&gt;26 -->\r\n",
       "<g id=\"edge55\" class=\"edge\"><title>14&#45;&gt;26</title>\r\n",
       "<path fill=\"none\" stroke=\"black\" d=\"M1881.19,-460.907C1896.37,-448.99 1912.95,-435.976 1928.04,-424.12\"/>\r\n",
       "<polygon fill=\"black\" stroke=\"black\" points=\"1930.56,-426.596 1936.26,-417.667 1926.24,-421.09 1930.56,-426.596\"/>\r\n",
       "</g>\r\n",
       "<!-- 53 -->\r\n",
       "<g id=\"node58\" class=\"node\"><title>53</title>\r\n",
       "<path fill=\"#399de5\" stroke=\"black\" d=\"M2021,-536.5C2021,-536.5 1940,-536.5 1940,-536.5 1934,-536.5 1928,-530.5 1928,-524.5 1928,-524.5 1928,-480.5 1928,-480.5 1928,-474.5 1934,-468.5 1940,-468.5 1940,-468.5 2021,-468.5 2021,-468.5 2027,-468.5 2033,-474.5 2033,-480.5 2033,-480.5 2033,-524.5 2033,-524.5 2033,-530.5 2027,-536.5 2021,-536.5\"/>\r\n",
       "<text text-anchor=\"middle\" x=\"1980.5\" y=\"-521.3\" font-family=\"Helvetica,sans-Serif\" font-size=\"14.00\">entropy = 0.0</text>\r\n",
       "<text text-anchor=\"middle\" x=\"1980.5\" y=\"-506.3\" font-family=\"Helvetica,sans-Serif\" font-size=\"14.00\">samples = 49</text>\r\n",
       "<text text-anchor=\"middle\" x=\"1980.5\" y=\"-491.3\" font-family=\"Helvetica,sans-Serif\" font-size=\"14.00\">value = [0, 49]</text>\r\n",
       "<text text-anchor=\"middle\" x=\"1980.5\" y=\"-476.3\" font-family=\"Helvetica,sans-Serif\" font-size=\"14.00\">class = Exited</text>\r\n",
       "</g>\r\n",
       "<!-- 12&#45;&gt;53 -->\r\n",
       "<g id=\"edge57\" class=\"edge\"><title>12&#45;&gt;53</title>\r\n",
       "<path fill=\"none\" stroke=\"black\" d=\"M1980.5,-579.907C1980.5,-569.204 1980.5,-557.615 1980.5,-546.776\"/>\r\n",
       "<polygon fill=\"black\" stroke=\"black\" points=\"1984,-546.667 1980.5,-536.667 1977,-546.667 1984,-546.667\"/>\r\n",
       "</g>\r\n",
       "<!-- 54 -->\r\n",
       "<g id=\"node59\" class=\"node\"><title>54</title>\r\n",
       "<path fill=\"#f6d5bd\" stroke=\"black\" d=\"M2170,-536.5C2170,-536.5 2063,-536.5 2063,-536.5 2057,-536.5 2051,-530.5 2051,-524.5 2051,-524.5 2051,-480.5 2051,-480.5 2051,-474.5 2057,-468.5 2063,-468.5 2063,-468.5 2170,-468.5 2170,-468.5 2176,-468.5 2182,-474.5 2182,-480.5 2182,-480.5 2182,-524.5 2182,-524.5 2182,-530.5 2176,-536.5 2170,-536.5\"/>\r\n",
       "<text text-anchor=\"middle\" x=\"2116.5\" y=\"-521.3\" font-family=\"Helvetica,sans-Serif\" font-size=\"14.00\">entropy = 0.971</text>\r\n",
       "<text text-anchor=\"middle\" x=\"2116.5\" y=\"-506.3\" font-family=\"Helvetica,sans-Serif\" font-size=\"14.00\">samples = 5</text>\r\n",
       "<text text-anchor=\"middle\" x=\"2116.5\" y=\"-491.3\" font-family=\"Helvetica,sans-Serif\" font-size=\"14.00\">value = [3, 2]</text>\r\n",
       "<text text-anchor=\"middle\" x=\"2116.5\" y=\"-476.3\" font-family=\"Helvetica,sans-Serif\" font-size=\"14.00\">class = Not Exited</text>\r\n",
       "</g>\r\n",
       "<!-- 12&#45;&gt;54 -->\r\n",
       "<g id=\"edge58\" class=\"edge\"><title>12&#45;&gt;54</title>\r\n",
       "<path fill=\"none\" stroke=\"black\" d=\"M2027.68,-579.907C2041.41,-568.101 2056.39,-555.217 2070.06,-543.45\"/>\r\n",
       "<polygon fill=\"black\" stroke=\"black\" points=\"2072.65,-545.842 2077.95,-536.667 2068.08,-540.535 2072.65,-545.842\"/>\r\n",
       "</g>\r\n",
       "</g>\r\n",
       "</svg>\r\n"
      ],
      "text/plain": [
       "<graphviz.files.Source at 0x26a5a577108>"
      ]
     },
     "execution_count": 55,
     "metadata": {},
     "output_type": "execute_result"
    }
   ],
   "source": [
    "# pip install graphviz\n",
    "import graphviz\n",
    "from sklearn import tree\n",
    "features_names = [\"France\",\"Germany\",\"Spain\",'CreditScore','Gender','Age','Balance',\n",
    "       'NumOfProducts','IsActiveMember']\n",
    "class_names = ['Not Exited','Exited']\n",
    "graph_data = tree.export_graphviz(model3,feature_names=features_names,class_names=class_names,\n",
    "                                 rounded=True, filled=True)\n",
    "graph = graphviz.Source(graph_data)\n",
    "graph"
   ]
  },
  {
   "cell_type": "code",
   "execution_count": 58,
   "metadata": {},
   "outputs": [
    {
     "data": {
      "text/plain": [
       "array([0.        , 0.04896237, 0.        , 0.        , 0.        ,\n",
       "       0.39736761, 0.12855251, 0.33453138, 0.09058612])"
      ]
     },
     "execution_count": 58,
     "metadata": {},
     "output_type": "execute_result"
    }
   ],
   "source": [
    "# feature importance - can be used for feature selection\n",
    "model3.feature_importances_"
   ]
  },
  {
   "cell_type": "code",
   "execution_count": 60,
   "metadata": {},
   "outputs": [
    {
     "name": "stdout",
     "output_type": "stream",
     "text": [
      "France 0.0\n",
      "Germany 0.04896237277119826\n",
      "Spain 0.0\n",
      "CreditScore 0.0\n",
      "Gender 0.0\n",
      "Age 0.3973676136731552\n",
      "Balance 0.12855250832819834\n",
      "NumOfProducts 0.3345313828739313\n",
      "IsActiveMember 0.09058612235351693\n"
     ]
    }
   ],
   "source": [
    "for i in range(len(features_names)): print(features_names[i],model3.feature_importances_[i])"
   ]
  },
  {
   "cell_type": "code",
   "execution_count": null,
   "metadata": {},
   "outputs": [],
   "source": []
  }
 ],
 "metadata": {
  "kernelspec": {
   "display_name": "Python 3",
   "language": "python",
   "name": "python3"
  },
  "language_info": {
   "codemirror_mode": {
    "name": "ipython",
    "version": 3
   },
   "file_extension": ".py",
   "mimetype": "text/x-python",
   "name": "python",
   "nbconvert_exporter": "python",
   "pygments_lexer": "ipython3",
   "version": "3.7.4"
  },
  "latex_envs": {
   "LaTeX_envs_menu_present": true,
   "autoclose": false,
   "autocomplete": true,
   "bibliofile": "biblio.bib",
   "cite_by": "apalike",
   "current_citInitial": 1,
   "eqLabelWithNumbers": true,
   "eqNumInitial": 1,
   "hotkeys": {
    "equation": "Ctrl-E",
    "itemize": "Ctrl-I"
   },
   "labels_anchors": false,
   "latex_user_defs": false,
   "report_style_numbering": false,
   "user_envs_cfg": false
  }
 },
 "nbformat": 4,
 "nbformat_minor": 2
}
